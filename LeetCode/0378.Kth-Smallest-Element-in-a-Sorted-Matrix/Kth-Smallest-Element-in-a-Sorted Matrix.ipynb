{
 "cells": [
  {
   "cell_type": "markdown",
   "metadata": {},
   "source": [
    "# 378. Kth Smallest Element in a Sorted Matrix\n",
    "#### https://leetcode.com/problems/kth-smallest-element-in-a-sorted-matrix/"
   ]
  },
  {
   "cell_type": "markdown",
   "metadata": {},
   "source": [
    "# Approach 1: Heap"
   ]
  },
  {
   "cell_type": "code",
   "execution_count": 5,
   "metadata": {},
   "outputs": [],
   "source": [
    "import heapq\n",
    "class Solution(object):\n",
    "    def kthSmallest(self, matrix, k):\n",
    "        \"\"\"\n",
    "        :type matrix: List[List[int]]\n",
    "        :type k: int\n",
    "        :rtype: int\n",
    "        \"\"\"\n",
    "        n = len(matrix)\n",
    "        minheap = [(matrix[0][0], 0, 0)]\n",
    "        ans = 0\n",
    "        visit = set((0, 0))\n",
    "        while k > 0:\n",
    "            ans, i, j = heapq.heappop(minheap)\n",
    "            k -= 1\n",
    "            for di, dj in [(0, 1), (1, 0)]:\n",
    "                if 0 <= i + di < n and 0 <= j + dj < n and (i + di, j + dj) not in visit:\n",
    "                    heapq.heappush(minheap, (matrix[i + di][j + dj], i + di, j +dj))\n",
    "                    visit.add((i + di, j + dj))\n",
    "        return ans"
   ]
  },
  {
   "cell_type": "markdown",
   "metadata": {},
   "source": [
    "# Approach 2: Binary Search"
   ]
  },
  {
   "cell_type": "code",
   "execution_count": 6,
   "metadata": {},
   "outputs": [],
   "source": [
    "class Solution(object):\n",
    "    def kthSmallest(self, matrix, k):\n",
    "        \"\"\"\n",
    "        :type matrix: List[List[int]]\n",
    "        :type k: int\n",
    "        :rtype: int\n",
    "        \"\"\"\n",
    "        n = len(matrix)\n",
    "        left, right = matrix[0][0], matrix[-1][-1]\n",
    "        while left < right:\n",
    "            mid = (left + right) // 2\n",
    "            cnt = self.find_num_by_upperbound(matrix, mid)\n",
    "            if cnt < k:\n",
    "                left = mid + 1\n",
    "            else:\n",
    "                right = mid\n",
    "        #print(left, right)\n",
    "        return left\n",
    "    \n",
    "    def find_num_by_upperbound(self, matrix, upperbound):\n",
    "        i = 0\n",
    "        j = len(matrix) - 1\n",
    "        count = 0\n",
    "        while i < len(matrix) and j >= 0:\n",
    "            if matrix[i][j] <= upperbound:\n",
    "                i += 1\n",
    "                count += j + 1\n",
    "            else:\n",
    "                j -= 1\n",
    "        return count"
   ]
  },
  {
   "cell_type": "markdown",
   "metadata": {},
   "source": [
    "# Verification"
   ]
  },
  {
   "cell_type": "code",
   "execution_count": 7,
   "metadata": {},
   "outputs": [
    {
     "name": "stdout",
     "output_type": "stream",
     "text": [
      "Input:    ([[1, 5, 9], [10, 11, 13], [12, 13, 15]], 8)\n",
      "Output:   13\n",
      "Expected: 13\n",
      "\n"
     ]
    }
   ],
   "source": [
    "testcases = [([[ 1,  5,  9],[10, 11, 13],[12, 13, 15]],8)]\n",
    "expected = [13]\n",
    "\n",
    "outputs = []\n",
    "sol = Solution();\n",
    "\n",
    "for case in zip(testcases, expected):\n",
    "    print(\"Input:    \" + str(case[0]))\n",
    "    print(\"Output:   \" + str(sol.kthSmallest(case[0][0], case[0][1])))\n",
    "    print(\"Expected: \" + str(case[1]) + \"\\n\")"
   ]
  }
 ],
 "metadata": {
  "kernelspec": {
   "display_name": "Python 3",
   "language": "python",
   "name": "python3"
  },
  "language_info": {
   "codemirror_mode": {
    "name": "ipython",
    "version": 3
   },
   "file_extension": ".py",
   "mimetype": "text/x-python",
   "name": "python",
   "nbconvert_exporter": "python",
   "pygments_lexer": "ipython3",
   "version": "3.7.3"
  }
 },
 "nbformat": 4,
 "nbformat_minor": 2
}
