{
 "cells": [
  {
   "cell_type": "markdown",
   "metadata": {},
   "source": [
    "# 332. Reconstruct Itinerary\n",
    "#### https://leetcode.com/problems/reconstruct-itinerary/"
   ]
  },
  {
   "cell_type": "markdown",
   "metadata": {},
   "source": [
    "# Approach 1 DFS"
   ]
  },
  {
   "cell_type": "code",
   "execution_count": null,
   "metadata": {},
   "outputs": [],
   "source": [
    "from collections import defaultdict\n",
    "class Solution(object):\n",
    "    def findItinerary(self, tickets):\n",
    "        \"\"\"\n",
    "        :type tiåckets: List[List[str]]\n",
    "        :rtype: List[str]\n",
    "        \"\"\"\n",
    "        ticketdict = defaultdict(list)\n",
    "        for ticket in sorted(tickets, reverse = True):\n",
    "            ticketdict[ticket[0]].append(ticket[1])\n",
    "        location = \"JFK\"\n",
    "        ans = []\n",
    "        self.dfs(ticketdict, location, ans)\n",
    "        return ans[::-1]\n",
    "    \n",
    "    def dfs(self, ticketdict, location, ans):\n",
    "        while ticketdict[location]:\n",
    "            self.dfs(ticketdict, ticketdict[location].pop(), ans)\n",
    "        ans.append(location) "
   ]
  },
  {
   "cell_type": "markdown",
   "metadata": {},
   "source": [
    "# Approach 2: BFS"
   ]
  },
  {
   "cell_type": "code",
   "execution_count": 6,
   "metadata": {},
   "outputs": [],
   "source": [
    "from collections import defaultdict\n",
    "class Solution(object):\n",
    "    def findItinerary(self, tickets):\n",
    "        \"\"\"\n",
    "        :type tickets: List[List[str]]\n",
    "        :rtype: List[str]\n",
    "        \"\"\"\n",
    "        ticketdict = defaultdict(list)\n",
    "        for ticket in sorted(tickets, reverse = True):\n",
    "            ticketdict[ticket[0]].append(ticket[1])\n",
    "        location = \"JFK\"\n",
    "        ans = []\n",
    "        stack = [location]\n",
    "        while stack:\n",
    "            top = stack[-1]\n",
    "            if ticketdict[top]:\n",
    "                stack.append(ticketdict[top].pop())\n",
    "            else:\n",
    "                ans.append(stack.pop())\n",
    "        return ans[::-1]"
   ]
  },
  {
   "cell_type": "markdown",
   "metadata": {},
   "source": [
    "# Verification"
   ]
  },
  {
   "cell_type": "code",
   "execution_count": 7,
   "metadata": {},
   "outputs": [
    {
     "name": "stdout",
     "output_type": "stream",
     "text": [
      "Input:    [['MUC', 'LHR'], ['JFK', 'MUC'], ['SFO', 'SJC'], ['LHR', 'SFO']]\n",
      "Output:   ['JFK', 'MUC', 'LHR', 'SFO', 'SJC']\n",
      "Expected: ['JFK', 'MUC', 'LHR', 'SFO', 'SJC']\n",
      "\n",
      "Input:    [['JFK', 'SFO'], ['JFK', 'ATL'], ['SFO', 'ATL'], ['ATL', 'JFK'], ['ATL', 'SFO']]\n",
      "Output:   ['JFK', 'ATL', 'JFK', 'SFO', 'ATL', 'SFO']\n",
      "Expected: ['JFK', 'ATL', 'JFK', 'SFO', 'ATL', 'SFO']\n",
      "\n",
      "Input:    [['JFK', 'KUL'], ['JFK', 'NRT'], ['NRT', 'JFK']]\n",
      "Output:   ['JFK', 'NRT', 'JFK', 'KUL']\n",
      "Expected: ['JFK', 'NRT', 'JFK', 'KUL']\n",
      "\n",
      "Input:    [['JFK', 'SFO'], ['JFK', 'ATL'], ['SFO', 'ATL'], ['ATL', 'JFK'], ['ATL', 'SFO']]\n",
      "Output:   ['JFK', 'ATL', 'JFK', 'SFO', 'ATL', 'SFO']\n",
      "Expected: ['JFK', 'ATL', 'JFK', 'SFO', 'ATL', 'SFO']\n",
      "\n"
     ]
    }
   ],
   "source": [
    "import pandas as pd\n",
    "testcases = [[[\"MUC\", \"LHR\"], [\"JFK\", \"MUC\"], [\"SFO\", \"SJC\"], [\"LHR\", \"SFO\"]], [[\"JFK\",\"SFO\"],[\"JFK\",\"ATL\"],[\"SFO\",\"ATL\"],[\"ATL\",\"JFK\"],[\"ATL\",\"SFO\"]], [[\"JFK\",\"KUL\"],[\"JFK\",\"NRT\"],[\"NRT\",\"JFK\"]], [[\"JFK\",\"SFO\"],[\"JFK\",\"ATL\"],[\"SFO\",\"ATL\"],[\"ATL\",\"JFK\"],[\"ATL\",\"SFO\"]]]\n",
    "expected = [[\"JFK\", \"MUC\", \"LHR\", \"SFO\", \"SJC\"], [\"JFK\",\"ATL\",\"JFK\",\"SFO\",\"ATL\",\"SFO\"], [\"JFK\",\"NRT\",\"JFK\",\"KUL\"],[\"JFK\",\"ATL\",\"JFK\",\"SFO\",\"ATL\",\"SFO\"]]\n",
    "\n",
    "#testcases = testcases[:1]\n",
    "#expected = expected[:1]\n",
    "\n",
    "outputs = []\n",
    "sol = Solution();\n",
    "\n",
    "for case in zip(testcases, expected):\n",
    "    print(\"Input:    \" + str(case[0]))\n",
    "    print(\"Output:   \" + str(sol.findItinerary(case[0])))\n",
    "    print(\"Expected: \" + str(case[1]) + \"\\n\")"
   ]
  }
 ],
 "metadata": {
  "kernelspec": {
   "display_name": "Python 3",
   "language": "python",
   "name": "python3"
  },
  "language_info": {
   "codemirror_mode": {
    "name": "ipython",
    "version": 3
   },
   "file_extension": ".py",
   "mimetype": "text/x-python",
   "name": "python",
   "nbconvert_exporter": "python",
   "pygments_lexer": "ipython3",
   "version": "3.7.3"
  }
 },
 "nbformat": 4,
 "nbformat_minor": 2
}
