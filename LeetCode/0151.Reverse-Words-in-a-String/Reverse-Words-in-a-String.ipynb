{
 "cells": [
  {
   "cell_type": "markdown",
   "metadata": {},
   "source": [
    "# 151. Reverse Words in a String\n",
    "#### https://leetcode.com/problems/reverse-words-in-a-string/"
   ]
  },
  {
   "cell_type": "markdown",
   "metadata": {},
   "source": [
    "# Approach 1: Built-in function"
   ]
  },
  {
   "cell_type": "code",
   "execution_count": 1,
   "metadata": {},
   "outputs": [],
   "source": [
    "class Solution(object):\n",
    "    def reverseWords(self, s):\n",
    "        \"\"\"\n",
    "        :type s: str\n",
    "        :rtype: str\n",
    "        \"\"\"\n",
    "        return \" \".join(reversed(s.strip().split()))"
   ]
  },
  {
   "cell_type": "markdown",
   "metadata": {},
   "source": [
    "# Approach 2: "
   ]
  },
  {
   "cell_type": "code",
   "execution_count": 6,
   "metadata": {},
   "outputs": [],
   "source": [
    "class Solution(object):\n",
    "    def reverseWords(self, s):\n",
    "        \"\"\"\n",
    "        :type s: str\n",
    "        :rtype: str\n",
    "        \"\"\"\n",
    "        s = s[::-1]\n",
    "        index = i = 0\n",
    "        while i < len(s):\n",
    "            if s[i] != \" \":\n",
    "                if index != 0:\n",
    "                    s = s[:index] + \" \" + s[index + 1:]\n",
    "                    index += 1\n",
    "                j = i\n",
    "                tmp = \"\"\n",
    "                while j < len(s) and s[j] != \" \":\n",
    "                    tmp = s[j] + tmp\n",
    "                    j += 1 \n",
    "                s = s[:index] + tmp + s[index + j - i: ]\n",
    "                index += (j - i)\n",
    "                i = j\n",
    "            else:\n",
    "                i += 1\n",
    "        s = s[:index]\n",
    "        return s"
   ]
  },
  {
   "cell_type": "markdown",
   "metadata": {},
   "source": [
    "# Verification"
   ]
  },
  {
   "cell_type": "code",
   "execution_count": 7,
   "metadata": {},
   "outputs": [
    {
     "name": "stdout",
     "output_type": "stream",
     "text": [
      "Input:    the sky is blue\n",
      "Output:   blue is sky the\n",
      "Expected: blue is sky the\n",
      "\n",
      "Input:      hello world!  \n",
      "Output:   world! hello\n",
      "Expected: world! hello\n",
      "\n",
      "Input:    a good   example\n",
      "Output:   example good a\n",
      "Expected: example good a\n",
      "\n"
     ]
    }
   ],
   "source": [
    "import pandas as pd\n",
    "testcases = [\"the sky is blue\", \"  hello world!  \", \"a good   example\"]\n",
    "expected = [\"blue is sky the\", \"world! hello\", \"example good a\"]\n",
    "\n",
    "#testcases = testcases[:1]\n",
    "#expected = expected[:1]\n",
    "\n",
    "outputs = []\n",
    "sol = Solution();\n",
    "\n",
    "for case in zip(testcases, expected):\n",
    "    print(\"Input:    \" + str(case[0]))\n",
    "    print(\"Output:   \" + str(sol.reverseWords(case[0])))\n",
    "    print(\"Expected: \" + str(case[1]) + \"\\n\")"
   ]
  }
 ],
 "metadata": {
  "kernelspec": {
   "display_name": "Python 3",
   "language": "python",
   "name": "python3"
  },
  "language_info": {
   "codemirror_mode": {
    "name": "ipython",
    "version": 3
   },
   "file_extension": ".py",
   "mimetype": "text/x-python",
   "name": "python",
   "nbconvert_exporter": "python",
   "pygments_lexer": "ipython3",
   "version": "3.7.3"
  }
 },
 "nbformat": 4,
 "nbformat_minor": 2
}
