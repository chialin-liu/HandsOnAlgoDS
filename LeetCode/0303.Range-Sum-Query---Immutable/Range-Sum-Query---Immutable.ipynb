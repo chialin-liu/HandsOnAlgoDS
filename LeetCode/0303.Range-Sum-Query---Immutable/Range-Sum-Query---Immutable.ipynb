{
 "cells": [
  {
   "cell_type": "markdown",
   "metadata": {},
   "source": [
    "# 303. Range Sum Query - Immutable\n",
    "#### https://leetcode.com/problems/range-sum-query-immutable/"
   ]
  },
  {
   "cell_type": "markdown",
   "metadata": {},
   "source": [
    "# Approach 1"
   ]
  },
  {
   "cell_type": "code",
   "execution_count": 1,
   "metadata": {},
   "outputs": [],
   "source": [
    "class NumArray(object):\n",
    "\n",
    "    def __init__(self, nums):\n",
    "        \"\"\"\n",
    "        :type nums: List[int]\n",
    "        \"\"\"\n",
    "        self.s = [0] * (len(nums) + 1)\n",
    "        for i in range(1, len(nums) + 1):\n",
    "            self.s[i] = self.s[i - 1] + nums[i - 1]\n",
    "        #print self.s\n",
    "\n",
    "    def sumRange(self, i, j):\n",
    "        \"\"\"\n",
    "        :type i: int\n",
    "        :type j: int\n",
    "        :rtype: int\n",
    "        \"\"\"\n",
    "        return self.s[j + 1] - self.s[i]"
   ]
  },
  {
   "cell_type": "markdown",
   "metadata": {},
   "source": [
    "# Verification"
   ]
  },
  {
   "cell_type": "code",
   "execution_count": 2,
   "metadata": {},
   "outputs": [
    {
     "name": "stdout",
     "output_type": "stream",
     "text": [
      "Input:    (['NumArray', 'sumRange', 'sumRange', 'sumRange'], [[[-2, 0, 3, -5, 2, -1]], [0, 2], [2, 5], [0, 5]])\n",
      "Output:   [None, 1, -1, -3]\n",
      "Expected: [None, 1, -1, -3]\n",
      "\n"
     ]
    }
   ],
   "source": [
    "testcases = [([\"NumArray\",\"sumRange\",\"sumRange\",\"sumRange\"],\n",
    "[[[-2,0,3,-5,2,-1]],[0,2],[2,5],[0,5]])]\n",
    "expected = [[None,1,-1,-3]]\n",
    "\n",
    "for case in zip(testcases, expected):\n",
    "    outputs = [None]\n",
    "    sol = NumArray(case[0][1][0][0])\n",
    "    print(\"Input:    \" + str(case[0]))\n",
    "    funcs = case[0][0]\n",
    "    params = case[0][1]\n",
    "    for i, func in enumerate(funcs):\n",
    "        if i: param = params[i]\n",
    "        if func == \"sumRange\":\n",
    "            outputs.append(sol.sumRange(param[0], param[1]))\n",
    "    print(\"Output:   \" + str(outputs))\n",
    "    print(\"Expected: \" + str(case[1]) + \"\\n\")"
   ]
  }
 ],
 "metadata": {
  "kernelspec": {
   "display_name": "Python 3",
   "language": "python",
   "name": "python3"
  },
  "language_info": {
   "codemirror_mode": {
    "name": "ipython",
    "version": 3
   },
   "file_extension": ".py",
   "mimetype": "text/x-python",
   "name": "python",
   "nbconvert_exporter": "python",
   "pygments_lexer": "ipython3",
   "version": "3.7.3"
  }
 },
 "nbformat": 4,
 "nbformat_minor": 2
}
