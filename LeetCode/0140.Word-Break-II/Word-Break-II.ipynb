{
 "cells": [
  {
   "cell_type": "markdown",
   "metadata": {},
   "source": [
    "# 140. Word Break II\n",
    "#### https://leetcode.com/problems/word-break-ii/"
   ]
  },
  {
   "cell_type": "markdown",
   "metadata": {},
   "source": [
    "# Approach 1: Dynamic Programming (Memory Limit Exceeded)\n",
    "\n",
    "It depends on the testcase"
   ]
  },
  {
   "cell_type": "code",
   "execution_count": 32,
   "metadata": {},
   "outputs": [],
   "source": [
    "class Solution(object):\n",
    "    def wordBreak(self, s, wordDict):\n",
    "        \"\"\"\n",
    "        :type s: str\n",
    "        :type wordDict: List[str]\n",
    "        :rtype: List[str]\n",
    "        \"\"\"\n",
    "        n = len(s)\n",
    "        dp = [[] for _ in range(n + 1)]\n",
    "        dp[0] = \" \"\n",
    "        wordSet = set(wordDict)\n",
    "        max_len = max(len(word) for word in wordDict)\n",
    "        for i in range(1, n + 1):\n",
    "            for j in range(1, min(i, max_len) + 1):\n",
    "                if dp[i - j] and s[i - j : i] in wordSet:\n",
    "                    for word in dp[i - j]:\n",
    "                        if word == \" \":\n",
    "                            dp[i].append(s[i - j : i])\n",
    "                        else:\n",
    "                            dp[i].append(word + \" \" + s[i - j : i])                \n",
    "        return dp[n]"
   ]
  },
  {
   "cell_type": "markdown",
   "metadata": {},
   "source": [
    "# Approach 2: Dynamic Programming + BFS"
   ]
  },
  {
   "cell_type": "code",
   "execution_count": 36,
   "metadata": {},
   "outputs": [],
   "source": [
    "from collections import deque, defaultdict\n",
    "class Solution(object):\n",
    "    def wordBreak(self, s, wordDict):\n",
    "        \"\"\"\n",
    "        :type s: str\n",
    "        :type wordDict: List[str]\n",
    "        :rtype: List[str]\n",
    "        \"\"\"\n",
    "        if not wordDict:\n",
    "            return []\n",
    "        n = len(s)\n",
    "        dp = [[] for _ in range(n + 1)]\n",
    "        dp[0].append(-1)\n",
    "        wordSet = set(wordDict)\n",
    "        max_len = max(len(word) for word in wordDict)\n",
    "        for i in range(1, n + 1):\n",
    "            for j in range(1, min(i, max_len) + 1):\n",
    "                if dp[i - j] and s[i - j : i] in wordSet:\n",
    "                    dp[i].append(i - j)       \n",
    "\n",
    "        queue = deque()\n",
    "        queue.append(n)\n",
    "        ans_dict = defaultdict(set)\n",
    "        ans_dict[n] = [\"\"]\n",
    "\n",
    "        while queue:\n",
    "            cur = queue.popleft()\n",
    "            for i in dp[cur]:\n",
    "                if i < 0 : break\n",
    "                for word in ans_dict[cur]:\n",
    "                    if word == \"\": ans_dict[i].add(s[i:cur])\n",
    "                    else: ans_dict[i].add(s[i:cur] + \" \" + word)\n",
    "                queue.append(i)\n",
    "\n",
    "        return list(ans_dict[0])"
   ]
  },
  {
   "cell_type": "markdown",
   "metadata": {},
   "source": [
    "# Apporach 3: Memorized DFS"
   ]
  },
  {
   "cell_type": "code",
   "execution_count": 3,
   "metadata": {},
   "outputs": [],
   "source": [
    "class Solution(object):\n",
    "    def wordBreak(self, s, wordDict):\n",
    "        \"\"\"\n",
    "        :type s: str\n",
    "        :type wordDict: List[str]\n",
    "        :rtype: List[str]\n",
    "        \"\"\"\n",
    "        if not wordDict:\n",
    "            return []\n",
    "        n = len(s)\n",
    "        wordSet = set(wordDict)\n",
    "        max_len = max(len(word) for word in wordDict)\n",
    "        \n",
    "        return self.dfs(s, 0, wordSet, max_len, {})\n",
    "    \n",
    "    def dfs(self, s, start, wordSet, max_len, memo):\n",
    "        if (s, start) in memo: return memo[(s, start)]\n",
    "        \n",
    "        if start == len(s): return []\n",
    "        \n",
    "        partitions = []\n",
    "        \n",
    "        for end in range(start, min(len(s), start + max_len)):\n",
    "            if s[start : end + 1] in wordSet:\n",
    "                prefix = s[start : end + 1]\n",
    "                sub_partitions = self.dfs(s, end + 1, wordSet, max_len, memo)\n",
    "                for sub in sub_partitions:\n",
    "                    partitions.append(prefix + \" \"+ sub)\n",
    "        if s[start:] in wordSet:\n",
    "            partitions.append(s[start:])\n",
    "        memo[(s, start)] = partitions\n",
    "        return memo[(s, start)]"
   ]
  },
  {
   "cell_type": "markdown",
   "metadata": {},
   "source": [
    "# Verfication"
   ]
  },
  {
   "cell_type": "code",
   "execution_count": 37,
   "metadata": {},
   "outputs": [
    {
     "name": "stdout",
     "output_type": "stream",
     "text": [
      "Input:    ('catsanddog', ['cat', 'cats', 'and', 'sand', 'dog'])\n",
      "Output:   ['cat sand dog', 'cats and dog']\n",
      "Expected: ['cats and dog', 'cat sand dog']\n",
      "\n",
      "Input:    ('pineapplepenapple', ['apple', 'pen', 'applepen', 'pine', 'pineapple'])\n",
      "Output:   ['pineapple pen apple', 'pine applepen apple', 'pine apple pen apple']\n",
      "Expected: ['pine apple pen apple', 'pineapple pen apple', 'pine applepen apple']\n",
      "\n",
      "Input:    ('catsandog', ['cats', 'dog', 'sand', 'and', 'cat'])\n",
      "Output:   []\n",
      "Expected: []\n",
      "\n",
      "Input:    ('aaaaaaaaaaaaaaaaaaaaaaaaaaaaaaaaaaaaaaaaaaaaaaaaaaaaaaaaaaaaaaaaaaaaaaaaaaaaaaaaaaaaaaaaaaaaaaaaaaaaaaaaaaaaaaaaaaaaaaaaaaaaaaaaaaaaaaaaaaaaaaaaaaaaaab', ['a', 'aa', 'aaa', 'aaaa', 'aaaaa', 'aaaaaa', 'aaaaaaa', 'aaaaaaaa', 'aaaaaaaaa', 'aaaaaaaaaa'])\n",
      "Output:   []\n",
      "Expected: []\n",
      "\n"
     ]
    }
   ],
   "source": [
    "import pandas as pd\n",
    "testcases = [(\"catsanddog\", [\"cat\", \"cats\", \"and\", \"sand\", \"dog\"]), (\"pineapplepenapple\", [\"apple\", \"pen\", \"applepen\", \"pine\", \"pineapple\"]), (\"catsandog\", [\"cats\", \"dog\", \"sand\", \"and\", \"cat\"]), (\"aaaaaaaaaaaaaaaaaaaaaaaaaaaaaaaaaaaaaaaaaaaaaaaaaaaaaaaaaaaaaaaaaaaaaaaaaaaaaaaaaaaaaaaaaaaaaaaaaaaaaaaaaaaaaaaaaaaaaaaaaaaaaaaaaaaaaaaaaaaaaaaaaaaaaab\", [\"a\",\"aa\",\"aaa\",\"aaaa\",\"aaaaa\",\"aaaaaa\",\"aaaaaaa\",\"aaaaaaaa\",\"aaaaaaaaa\",\"aaaaaaaaaa\"])]\n",
    "expected = [[\"cats and dog\",\"cat sand dog\"], [\"pine apple pen apple\", \"pineapple pen apple\", \"pine applepen apple\"], [], []]\n",
    "\n",
    "#testcases = testcases[:1]\n",
    "#expected = expected[:1]\n",
    "\n",
    "outputs = []\n",
    "sol = Solution();\n",
    "\n",
    "for case in zip(testcases, expected):\n",
    "    print(\"Input:    \" + str(case[0]))\n",
    "    print(\"Output:   \" + str(sol.wordBreak(case[0][0], case[0][1])))\n",
    "    print(\"Expected: \" + str(case[1]) + \"\\n\")"
   ]
  }
 ],
 "metadata": {
  "kernelspec": {
   "display_name": "Python 3",
   "language": "python",
   "name": "python3"
  },
  "language_info": {
   "codemirror_mode": {
    "name": "ipython",
    "version": 3
   },
   "file_extension": ".py",
   "mimetype": "text/x-python",
   "name": "python",
   "nbconvert_exporter": "python",
   "pygments_lexer": "ipython3",
   "version": "3.7.3"
  }
 },
 "nbformat": 4,
 "nbformat_minor": 2
}
