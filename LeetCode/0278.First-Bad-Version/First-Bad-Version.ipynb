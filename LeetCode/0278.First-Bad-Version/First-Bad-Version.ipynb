{
 "cells": [
  {
   "cell_type": "markdown",
   "metadata": {},
   "source": [
    "# 278. First Bad Version\n",
    "#### https://leetcode.com/problems/first-bad-version/"
   ]
  },
  {
   "cell_type": "markdown",
   "metadata": {},
   "source": [
    "# Approach 1: Binary Search"
   ]
  },
  {
   "cell_type": "code",
   "execution_count": 5,
   "metadata": {},
   "outputs": [],
   "source": [
    "# The isBadVersion API is already defined for you.\n",
    "# @param version, an integer\n",
    "# @return a bool\n",
    "# def isBadVersion(version):\n",
    "\n",
    "class Solution(object):\n",
    "    def firstBadVersion(self, n):\n",
    "        \"\"\"\n",
    "        :type n: int\n",
    "        :rtype: int\n",
    "        \"\"\"\n",
    "        left, right = 0, n - 1\n",
    "        while left < right:\n",
    "            mid = (left + right) // 2\n",
    "            is_bad = isBadVersion(mid + 1)\n",
    "            if is_bad:\n",
    "                right = mid\n",
    "            else:\n",
    "                left = mid + 1\n",
    "        return left + 1"
   ]
  },
  {
   "cell_type": "markdown",
   "metadata": {},
   "source": [
    "# Verification"
   ]
  },
  {
   "cell_type": "code",
   "execution_count": 6,
   "metadata": {},
   "outputs": [
    {
     "name": "stdout",
     "output_type": "stream",
     "text": [
      "Input:    (1, 1)\n",
      "Output:   1\n",
      "Expected: 1\n",
      "\n",
      "Input:    (5, 4)\n",
      "Output:   4\n",
      "Expected: 4\n",
      "\n"
     ]
    }
   ],
   "source": [
    "testcases = [(1,1),(5,4)]\n",
    "expected = [1,4]\n",
    "\n",
    "outputs = []\n",
    "sol = Solution();\n",
    "\n",
    "bad_ver = 0\n",
    "\n",
    "for case in zip(testcases, expected):\n",
    "    print(\"Input:    \" + str(case[0])[:100])\n",
    "    bad_ver = case[0][1]\n",
    "    print(\"Output:   \" + str(sol.firstBadVersion(case[0][0])))\n",
    "    print(\"Expected: \" + str(case[1]) + \"\\n\")"
   ]
  },
  {
   "cell_type": "code",
   "execution_count": 1,
   "metadata": {},
   "outputs": [],
   "source": [
    "def isBadVersion(n):\n",
    "    if n >= bad_ver: return True\n",
    "    return False"
   ]
  }
 ],
 "metadata": {
  "kernelspec": {
   "display_name": "Python 3",
   "language": "python",
   "name": "python3"
  },
  "language_info": {
   "codemirror_mode": {
    "name": "ipython",
    "version": 3
   },
   "file_extension": ".py",
   "mimetype": "text/x-python",
   "name": "python",
   "nbconvert_exporter": "python",
   "pygments_lexer": "ipython3",
   "version": "3.7.3"
  }
 },
 "nbformat": 4,
 "nbformat_minor": 2
}
