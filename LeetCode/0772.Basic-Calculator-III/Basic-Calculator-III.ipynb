{
 "cells": [
  {
   "cell_type": "markdown",
   "metadata": {},
   "source": [
    "# 772. Basic Calculator III\n",
    "#### https://leetcode.com/problems/basic-calculator-iii/"
   ]
  },
  {
   "cell_type": "markdown",
   "metadata": {},
   "source": [
    "# Approach 1: Recursion"
   ]
  },
  {
   "cell_type": "code",
   "execution_count": 65,
   "metadata": {},
   "outputs": [],
   "source": [
    "class Solution:\n",
    "    def calculate(self, s: str) -> int:\n",
    "        return self.parse_expression(s, 0)[0]\n",
    "\n",
    "    def parse_expression(self, s, start):\n",
    "        ans = cur = num = 0\n",
    "        i = start\n",
    "        op = \"+\"\n",
    "        while i < len(s) and s[i]  != \")\":\n",
    "            if i < len(s) and s[i] in \"1234567890\":\n",
    "                num = num * 10 + int(s[i])\n",
    "            elif i < len(s) and s[i] == \"(\":\n",
    "                num, i = self.parse_expression(s, i + 1)    \n",
    "            elif s[i] in \"+-*/\":\n",
    "                cur = self.operation(op, cur, num)\n",
    "                op, num = s[i], 0\n",
    "                if s[i] in \"+-\":\n",
    "                    ans += cur\n",
    "                    cur = 0\n",
    "            i += 1\n",
    "        cur = self.operation(op, cur, num)\n",
    "        ans += cur\n",
    "        return (ans, i)\n",
    "    \n",
    "    def operation(self, op, cur, num):\n",
    "        if op == \"+\": cur += num\n",
    "        if op == \"-\": cur -= num\n",
    "        if op == \"*\": cur *= num\n",
    "        if op == \"/\": \n",
    "            if cur // num < 0 and cur % num != 0:\n",
    "                cur = cur // num + 1\n",
    "            else:\n",
    "                cur //= num     \n",
    "        return cur"
   ]
  },
  {
   "cell_type": "markdown",
   "metadata": {},
   "source": [
    "# Approach 2: Iteration"
   ]
  },
  {
   "cell_type": "code",
   "execution_count": 72,
   "metadata": {},
   "outputs": [],
   "source": [
    "class Solution:\n",
    "    def calculate(self, s: str) -> int:\n",
    "        num_stack = []\n",
    "        op_stack = []\n",
    "        i = num = 0\n",
    "        \n",
    "        #print(\"Apprach 2: Iteration\")\n",
    "        \n",
    "        while i < len(s):\n",
    "            c = s[i]\n",
    "            if c in \"1234567890\":\n",
    "                num = num * 10 + int(c)\n",
    "                if i == len(s) - 1 or s[i + 1] not in \"1234567890\":\n",
    "                    #print(num)\n",
    "                    num_stack.append(num)\n",
    "                    num = 0\n",
    "            if c == \"(\":\n",
    "                op_stack.append(c)\n",
    "            if c == \")\":\n",
    "                while op_stack[-1] != \"(\":\n",
    "                    num_stack.append(self.operation(op_stack.pop(), num_stack.pop(), num_stack.pop()))\n",
    "                op_stack.pop()\n",
    "            if c in \"+-*/\":\n",
    "                if c == \"-\":\n",
    "                    if i == 0 or s[i - 1] == \"(\":\n",
    "                        num_stack.append(0)\n",
    "                while op_stack and self.precedence(c, op_stack[-1]):\n",
    "                    num_stack.append(self.operation(op_stack.pop(), num_stack.pop(), num_stack.pop()))\n",
    "                op_stack.append(c)\n",
    "            i += 1\n",
    "            #print(op_stack, num_stack)\n",
    "        while op_stack:\n",
    "            num_stack.append(self.operation(op_stack.pop(), num_stack.pop(), num_stack.pop()))\n",
    "        return num_stack[-1]\n",
    "\n",
    "    def precedence(self, op1, op2):    \n",
    "        if op2 == \"(\" or op2 == \")\": return False\n",
    "        if (op1 == \"*\" or op1 == \"/\") and (op2 == \"+\" or op2 == \"-\"): return False\n",
    "        return True\n",
    "\n",
    "    def operation(self, op, b, a):\n",
    "        #print(op, b, a)\n",
    "        if op == \"+\": ans = a + b\n",
    "        if op == \"-\": ans = a - b\n",
    "        if op == \"*\": ans = a * b\n",
    "        if op == \"/\": \n",
    "            if a // b < 0 and a % b != 0:\n",
    "                ans = a // b + 1\n",
    "            else:\n",
    "                ans = a // b     \n",
    "        return ans"
   ]
  },
  {
   "cell_type": "markdown",
   "metadata": {},
   "source": [
    "# Verification"
   ]
  },
  {
   "cell_type": "code",
   "execution_count": 76,
   "metadata": {},
   "outputs": [
    {
     "name": "stdout",
     "output_type": "stream",
     "text": [
      "                           Input  Output  Expected\n",
      "0                          1 + 1       2         2\n",
      "1                       6-4 / 2        4         4\n",
      "2            2*(5+5*2)/3+(6/2+8)      21        21\n",
      "3     (2+6* 3+5- (3*14/7+2)*5)+3     -12       -12\n",
      "4            2*(5+5*2)/3+(6/2+8)      21        21\n",
      "5                     -1+4*3/3/3       0         0\n",
      "6    -(2+6* 3+5- (3*14/7+2)*5)+3      18        18\n",
      "7     (2+6* 3+5- (3*14/7+2)*5)+3     -12       -12\n",
      "8                       1 - (-7)       8         8\n",
      "9  840/(19602/((34-(7-11))*(6)))       9         9\n"
     ]
    }
   ],
   "source": [
    "import pandas as pd\n",
    "testcases = [\"1 + 1\", \" 6-4 / 2 \", \"2*(5+5*2)/3+(6/2+8)\", \"(2+6* 3+5- (3*14/7+2)*5)+3\", \"2*(5+5*2)/3+(6/2+8)\", \"-1+4*3/3/3\", \n",
    "\"-(2+6* 3+5- (3*14/7+2)*5)+3\", \"(2+6* 3+5- (3*14/7+2)*5)+3\", \"1 - (-7)\", \"840/(19602/((34-(7-11))*(6)))\"]\n",
    "expected = [2, 4, 21, -12, 21, 0, 18, -12, 8, 9]\n",
    "\n",
    "outputs = []\n",
    "sol = Solution();\n",
    "for case in testcases:\n",
    "    outputs.append(sol.calculate(case))\n",
    "\n",
    "list_labels = ['Input', 'Output', 'Expected']\n",
    "list_cols = [testcases, outputs, expected]\n",
    "zipped = dict(zip(list_labels, list_cols))\n",
    "print(pd.DataFrame(zipped))"
   ]
  }
 ],
 "metadata": {
  "kernelspec": {
   "display_name": "Python 3",
   "language": "python",
   "name": "python3"
  },
  "language_info": {
   "codemirror_mode": {
    "name": "ipython",
    "version": 3
   },
   "file_extension": ".py",
   "mimetype": "text/x-python",
   "name": "python",
   "nbconvert_exporter": "python",
   "pygments_lexer": "ipython3",
   "version": "3.7.3"
  }
 },
 "nbformat": 4,
 "nbformat_minor": 2
}
