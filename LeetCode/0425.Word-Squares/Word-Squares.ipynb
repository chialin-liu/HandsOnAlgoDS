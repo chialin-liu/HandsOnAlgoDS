{
 "cells": [
  {
   "cell_type": "markdown",
   "metadata": {},
   "source": [
    "# 425. Word Squares\n",
    "#### https://leetcode.com/problems/word-squares/"
   ]
  },
  {
   "cell_type": "markdown",
   "metadata": {},
   "source": [
    "# Approach 1"
   ]
  },
  {
   "cell_type": "code",
   "execution_count": 41,
   "metadata": {},
   "outputs": [],
   "source": [
    "class TrieNode(object):\n",
    "    def __init__(self):\n",
    "        self.children = {}\n",
    "        self.is_word = False\n",
    "        self.indexes = []\n",
    "        \n",
    "\n",
    "class Trie(object):\n",
    "    def __init__(self):\n",
    "        self.root = TrieNode()\n",
    "        self.index = 0\n",
    "    \n",
    "    def insert(self, word):\n",
    "        node =  self.root\n",
    "        for c in word:\n",
    "            if c not in node.children:\n",
    "                node.children[c] = TrieNode()\n",
    "            node.indexes.append(self.index)\n",
    "            node = node.children[c]\n",
    "        node.is_word = True\n",
    "        self.index += 1\n",
    "        \n",
    "    def search(self, word):\n",
    "        node = self.root\n",
    "        for c in word:\n",
    "            if c not in node.children: return False\n",
    "            node = node.children[c]\n",
    "        return node.is_word\n",
    "    \n",
    "    def is_start_with(self, prefix):\n",
    "        node = self.root\n",
    "        for c in prefix:\n",
    "            if c not in node.children: return False\n",
    "            node = node.children[c]\n",
    "        return True\n",
    "    \n",
    "    def start_with(self, prefix):\n",
    "        node = self.root\n",
    "        for c in prefix:\n",
    "            if c not in node.children: return []\n",
    "            node = node.children[c]\n",
    "        return node.indexes\n",
    "    \n",
    "class Solution(object):\n",
    "    def wordSquares(self, words):\n",
    "        \"\"\"\n",
    "        :type words: List[str]\n",
    "        :rtype: List[List[str]]\n",
    "        \"\"\"\n",
    "        dictionary = Trie()\n",
    "        for word in words:\n",
    "            dictionary.insert(word)\n",
    "        res = []\n",
    "        for word in words:\n",
    "            self.helper(words, 1, dictionary, [word], res)\n",
    "        return res\n",
    "    \n",
    "    def helper(self, words, level, trie, out, res):\n",
    "        if level >= len(words[0]):\n",
    "            res.append(out[:])\n",
    "            return\n",
    "        prefix = \"\"\n",
    "        for i in range(level):\n",
    "            prefix += out[i][level]\n",
    "            \n",
    "        indexes = trie.start_with(prefix)\n",
    "        for index in indexes:\n",
    "            out.append(words[index])\n",
    "            self.helper(words, level + 1, trie, out, res)\n",
    "            out.pop()\n",
    "        return"
   ]
  },
  {
   "cell_type": "markdown",
   "metadata": {},
   "source": [
    "# Verification"
   ]
  },
  {
   "cell_type": "code",
   "execution_count": 42,
   "metadata": {},
   "outputs": [
    {
     "name": "stdout",
     "output_type": "stream",
     "text": [
      "Input: ['area', 'lead', 'wall', 'lady', 'ball']\n",
      "Output: [['wall', 'area', 'lead', 'lady'], ['ball', 'area', 'lead', 'lady']]\n",
      "Expected: [['wall', 'area', 'lead', 'lady'], ['ball', 'area', 'lead', 'lady']]\n",
      "\n",
      "Input: ['abat', 'baba', 'atan', 'atal']\n",
      "Output: [['baba', 'abat', 'baba', 'atan'], ['baba', 'abat', 'baba', 'atal']]\n",
      "Expected: [['baba', 'abat', 'baba', 'atan'], ['baba', 'abat', 'baba', 'atal']]\n",
      "\n"
     ]
    }
   ],
   "source": [
    "testcases = [[\"area\",\"lead\",\"wall\",\"lady\",\"ball\"],[\"abat\",\"baba\",\"atan\",\"atal\"]]\n",
    "answers = [\n",
    "[[\"wall\",\"area\",\"lead\",\"lady\"],\n",
    "[\"ball\",\"area\",\"lead\",\"lady\"]],\n",
    "[[ \"baba\",\"abat\",\"baba\",\"atan\"],\n",
    "[\"baba\",\"abat\",\"baba\",\"atal\"]]]\n",
    "\n",
    "sol = Solution();\n",
    "for case in zip(testcases, answers):\n",
    "    print(\"Input: \" + str(case[0]))\n",
    "    print(\"Output: \" + str(sol.wordSquares(case[0])))\n",
    "    print(\"Expected: \" + str(case[1]) + \"\\n\")"
   ]
  }
 ],
 "metadata": {
  "kernelspec": {
   "display_name": "Python 3",
   "language": "python",
   "name": "python3"
  },
  "language_info": {
   "codemirror_mode": {
    "name": "ipython",
    "version": 3
   },
   "file_extension": ".py",
   "mimetype": "text/x-python",
   "name": "python",
   "nbconvert_exporter": "python",
   "pygments_lexer": "ipython3",
   "version": "3.7.3"
  }
 },
 "nbformat": 4,
 "nbformat_minor": 2
}
