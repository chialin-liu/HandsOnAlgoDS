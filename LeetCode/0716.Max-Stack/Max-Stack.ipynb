{
 "cells": [
  {
   "cell_type": "markdown",
   "metadata": {},
   "source": [
    "# 716. Max Stack\n",
    "#### https://leetcode.com/problems/max-stack/"
   ]
  },
  {
   "cell_type": "markdown",
   "metadata": {},
   "source": [
    "# Approach 1"
   ]
  },
  {
   "cell_type": "code",
   "execution_count": 25,
   "metadata": {},
   "outputs": [],
   "source": [
    "class MaxStack(object):\n",
    "\n",
    "    def __init__(self):\n",
    "        \"\"\"\n",
    "        initialize your data structure here.\n",
    "        \"\"\"\n",
    "        self.stack = []\n",
    "   \n",
    "\n",
    "    def push(self, x):\n",
    "        \"\"\"\n",
    "        :type x: int\n",
    "        :rtype: None\n",
    "        \"\"\"\n",
    "        if not self.stack: m = x\n",
    "        else: m = max(x, self.stack[-1][1])\n",
    "        self.stack.append([x, m])\n",
    "        \n",
    "\n",
    "    def pop(self):\n",
    "        \"\"\"\n",
    "        :rtype: int\n",
    "        \"\"\"\n",
    "        return self.stack.pop()[0]\n",
    "        \n",
    "\n",
    "    def top(self):\n",
    "        \"\"\"\n",
    "        :rtype: int\n",
    "        \"\"\"\n",
    "        return self.stack[-1][0]\n",
    "\n",
    "        \n",
    "\n",
    "    def peekMax(self):\n",
    "        \"\"\"\n",
    "        :rtype: int\n",
    "        \"\"\"\n",
    "        return self.stack[-1][1]\n",
    " \n",
    "\n",
    "    def popMax(self):\n",
    "        \"\"\"\n",
    "        :rtype: int\n",
    "        \"\"\"\n",
    "        b = []\n",
    "        m = self.stack[-1][1]\n",
    "        while self.stack[-1][0] != m:\n",
    "            b.append(self.pop())\n",
    "        m = self.pop()\n",
    "        list(map(self.push, reversed(b)))\n",
    "        return m"
   ]
  },
  {
   "cell_type": "markdown",
   "metadata": {},
   "source": [
    "# Verification"
   ]
  },
  {
   "cell_type": "code",
   "execution_count": 40,
   "metadata": {},
   "outputs": [
    {
     "name": "stdout",
     "output_type": "stream",
     "text": [
      "None None\n",
      "None None\n",
      "None None\n",
      "4 4\n",
      "5 5\n",
      "4 4\n",
      "4 4\n",
      "4 4\n",
      "1 1\n"
     ]
    }
   ],
   "source": [
    "testcases_cmd = [\"MaxStack\",\"push\",\"push\",\"push\",\"top\",\"popMax\",\"top\",\"peekMax\",\"pop\",\"top\"]\n",
    "testcases_val = [[],[5],[1],[4],[],[],[],[],[],[]]\n",
    "expected = [None,None,None,None,4,5,4,4,4,1]\n",
    "output = []\n",
    "\n",
    "maxstack = MaxStack();\n",
    "\n",
    "for i in range(1, len(testcases_cmd)):\n",
    "    val = str(testcases_val[i][0]) if testcases_val[i] else \"\"\n",
    "    cmd = \"print(str(maxstack.\" + testcases_cmd[i] + \"(\" + val + \")) + \\\" \\\" + str(expected[i]))\"\n",
    "    output.append(exec(cmd))\n"
   ]
  }
 ],
 "metadata": {
  "kernelspec": {
   "display_name": "Python 3",
   "language": "python",
   "name": "python3"
  },
  "language_info": {
   "codemirror_mode": {
    "name": "ipython",
    "version": 3
   },
   "file_extension": ".py",
   "mimetype": "text/x-python",
   "name": "python",
   "nbconvert_exporter": "python",
   "pygments_lexer": "ipython3",
   "version": "3.7.3"
  }
 },
 "nbformat": 4,
 "nbformat_minor": 2
}
