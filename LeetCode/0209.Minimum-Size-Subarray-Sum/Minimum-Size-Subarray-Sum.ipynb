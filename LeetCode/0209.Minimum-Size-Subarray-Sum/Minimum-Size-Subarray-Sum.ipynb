{
 "cells": [
  {
   "cell_type": "markdown",
   "metadata": {},
   "source": [
    "# 209. Minimum Size Subarray Sum\n",
    "#### https://leetcode.com/problems/minimum-size-subarray-sum/"
   ]
  },
  {
   "cell_type": "markdown",
   "metadata": {},
   "source": [
    "# Approach 1: Two Pointers"
   ]
  },
  {
   "cell_type": "code",
   "execution_count": 4,
   "metadata": {},
   "outputs": [],
   "source": [
    "import sys\n",
    "class Solution(object):\n",
    "    def minSubArrayLen(self, s, nums):\n",
    "        \"\"\"\n",
    "        :type s: int\n",
    "        :type nums: List[int]\n",
    "        :rtype: int\n",
    "        \"\"\"\n",
    "        ans = sys.maxsize;\n",
    "        subsum = left = 0;\n",
    "        for i in range(len(nums)):\n",
    "            subsum += nums[i];\n",
    "            while subsum >= s:\n",
    "                ans = min(ans, i - left + 1);\n",
    "                subsum -= nums[left];\n",
    "                left += 1;\n",
    "        if ans == sys.maxsize: return 0;\n",
    "        return ans;"
   ]
  },
  {
   "cell_type": "markdown",
   "metadata": {},
   "source": [
    "# Verification"
   ]
  },
  {
   "cell_type": "code",
   "execution_count": 6,
   "metadata": {},
   "outputs": [
    {
     "name": "stdout",
     "output_type": "stream",
     "text": [
      "Input:    (7, [2, 3, 1, 2, 4, 3])\n",
      "Output:   2\n",
      "Expected: 2\n",
      "\n"
     ]
    }
   ],
   "source": [
    "testcases = [(7,[2,3,1,2,4,3])]\n",
    "expected = [2]\n",
    "\n",
    "outputs = []\n",
    "sol = Solution();\n",
    "\n",
    "for case in zip(testcases, expected):\n",
    "    print(\"Input:    \" + str(case[0]))\n",
    "    print(\"Output:   \" + str(sol.minSubArrayLen(case[0][0], case[0][1])))\n",
    "    print(\"Expected: \" + str(case[1]) + \"\\n\")"
   ]
  }
 ],
 "metadata": {
  "kernelspec": {
   "display_name": "Python 3",
   "language": "python",
   "name": "python3"
  },
  "language_info": {
   "codemirror_mode": {
    "name": "ipython",
    "version": 3
   },
   "file_extension": ".py",
   "mimetype": "text/x-python",
   "name": "python",
   "nbconvert_exporter": "python",
   "pygments_lexer": "ipython3",
   "version": "3.7.3"
  }
 },
 "nbformat": 4,
 "nbformat_minor": 2
}
