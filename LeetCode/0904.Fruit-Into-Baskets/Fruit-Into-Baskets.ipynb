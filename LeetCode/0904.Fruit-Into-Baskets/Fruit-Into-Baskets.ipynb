{
 "cells": [
  {
   "cell_type": "markdown",
   "metadata": {},
   "source": [
    "# 904. Fruit Into Baskets\n",
    "#### https://leetcode.com/problems/fruit-into-baskets/"
   ]
  },
  {
   "cell_type": "markdown",
   "metadata": {},
   "source": [
    "# Approach 1: Two Pointers"
   ]
  },
  {
   "cell_type": "code",
   "execution_count": 1,
   "metadata": {},
   "outputs": [],
   "source": [
    "class Solution(object):\n",
    "    def totalFruit(self, tree):\n",
    "        \"\"\"\n",
    "        :type tree: List[int]\n",
    "        :rtype: int\n",
    "        \"\"\"\n",
    "        n = len(tree)\n",
    "        if n <= 1: return n\n",
    "        i, j, ans = 0, 1, 0\n",
    "        x = y = tree[0]\n",
    "        while i < n and j < n:\n",
    "            if tree[j] == x or tree[j] == y:\n",
    "                j += 1\n",
    "            elif tree[j] != x and x == y:\n",
    "                y = tree[j]\n",
    "                j += 1\n",
    "            else:\n",
    "                i = j - 1\n",
    "                while tree[i - 1] == tree[i]:\n",
    "                    i -= 1\n",
    "                x, y = tree[i], tree[j]\n",
    "            ans = max(ans, j - i)\n",
    "        return ans"
   ]
  },
  {
   "cell_type": "markdown",
   "metadata": {},
   "source": [
    "# Verification"
   ]
  },
  {
   "cell_type": "code",
   "execution_count": 3,
   "metadata": {},
   "outputs": [
    {
     "name": "stdout",
     "output_type": "stream",
     "text": [
      "Input:    [1, 2, 1]\n",
      "Output:   3\n",
      "Expected: 3\n",
      "\n",
      "Input:    [0, 1, 2, 2]\n",
      "Output:   3\n",
      "Expected: 3\n",
      "\n",
      "Input:    [1, 2, 3, 2, 2]\n",
      "Output:   4\n",
      "Expected: 4\n",
      "\n",
      "Input:    [3, 3, 3, 1, 2, 1, 1, 2, 3, 3, 4]\n",
      "Output:   5\n",
      "Expected: 5\n",
      "\n",
      "Input:    [0, 1, 2, 2]\n",
      "Output:   3\n",
      "Expected: 3\n",
      "\n"
     ]
    }
   ],
   "source": [
    "import pandas as pd\n",
    "testcases = [[1,2,1], [0,1,2,2], [1,2,3,2,2], [3,3,3,1,2,1,1,2,3,3,4], [0,1,2,2]]\n",
    "expected = [3,3,4,5,3]\n",
    "\n",
    "#testcases = testcases[:1]\n",
    "#expected = expected[:1]\n",
    "\n",
    "outputs = []\n",
    "sol = Solution();\n",
    "\n",
    "for case in zip(testcases, expected):\n",
    "    print(\"Input:    \" + str(case[0]))\n",
    "    print(\"Output:   \" + str(sol.totalFruit(case[0])))\n",
    "    print(\"Expected: \" + str(case[1]) + \"\\n\")"
   ]
  }
 ],
 "metadata": {
  "kernelspec": {
   "display_name": "Python 3",
   "language": "python",
   "name": "python3"
  },
  "language_info": {
   "codemirror_mode": {
    "name": "ipython",
    "version": 3
   },
   "file_extension": ".py",
   "mimetype": "text/x-python",
   "name": "python",
   "nbconvert_exporter": "python",
   "pygments_lexer": "ipython3",
   "version": "3.7.3"
  }
 },
 "nbformat": 4,
 "nbformat_minor": 2
}
