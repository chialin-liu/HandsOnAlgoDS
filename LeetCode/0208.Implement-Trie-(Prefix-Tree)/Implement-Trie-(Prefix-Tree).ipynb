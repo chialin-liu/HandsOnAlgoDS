{
 "cells": [
  {
   "cell_type": "markdown",
   "metadata": {},
   "source": [
    "# 208. Implement Trie (Prefix Tree)\n",
    "#### https://leetcode.com/problems/implement-trie-prefix-tree/"
   ]
  },
  {
   "cell_type": "markdown",
   "metadata": {},
   "source": [
    "# Approach 1"
   ]
  },
  {
   "cell_type": "code",
   "execution_count": 1,
   "metadata": {},
   "outputs": [],
   "source": [
    "class TrieNode(object):\n",
    "\n",
    "    def __init__(self):\n",
    "        self.children = {}\n",
    "        self.is_word = False\n",
    "        \n",
    "class Trie(object):\n",
    "\n",
    "    def __init__(self):\n",
    "        \"\"\"\n",
    "        Initialize your data structure here.\n",
    "        \"\"\"\n",
    "        self.root = TrieNode()\n",
    "        \n",
    "\n",
    "    def insert(self, word):\n",
    "        \"\"\"\n",
    "        Inserts a word into the trie.\n",
    "        :type word: str\n",
    "        :rtype: None\n",
    "        \"\"\"\n",
    "        node = self.root\n",
    "        for c in word:\n",
    "            if c not in node.children:\n",
    "                node.children[c] = TrieNode()\n",
    "            node = node.children[c]\n",
    "        node.is_word = True\n",
    "        \n",
    "\n",
    "    def search(self, word):\n",
    "        \"\"\"\n",
    "        Returns if the word is in the trie.\n",
    "        :type word: str\n",
    "        :rtype: bool\n",
    "        \"\"\"\n",
    "        node = self.root\n",
    "        for c in word:\n",
    "            if c not in node.children: return False\n",
    "            node = node.children[c]\n",
    "        return node.is_word\n",
    "        \n",
    "\n",
    "    def startsWith(self, prefix):\n",
    "        \"\"\"\n",
    "        Returns if there is any word in the trie that starts with the given prefix.\n",
    "        :type prefix: str\n",
    "        :rtype: bool\n",
    "        \"\"\"\n",
    "        node = self.root\n",
    "        for c in prefix:\n",
    "            if c not in node.children: return False\n",
    "            node = node.children[c]\n",
    "        return True"
   ]
  },
  {
   "cell_type": "markdown",
   "metadata": {},
   "source": [
    "# Verification"
   ]
  },
  {
   "cell_type": "code",
   "execution_count": 23,
   "metadata": {},
   "outputs": [
    {
     "name": "stdout",
     "output_type": "stream",
     "text": [
      "Input:    (['Trie', 'insert', 'search', 'search', 'startsWith', 'insert', 'search'], [[], ['apple'], ['apple'], ['app'], ['app'], ['app'], ['app']])\n",
      "Output:   [None, None, True, False, True, None, True]\n",
      "Expected: [None, None, True, False, True, None, True]\n",
      "\n"
     ]
    }
   ],
   "source": [
    "testcases = [([\"Trie\",\"insert\",\"search\",\"search\",\"startsWith\",\"insert\",\"search\"],[[],[\"apple\"],[\"apple\"],[\"app\"],[\"app\"],[\"app\"],[\"app\"]])]\n",
    "expected = [[None,None,True,False,True,None,True]]\n",
    "\n",
    "\n",
    "for case in zip(testcases, expected):\n",
    "    outputs = [None]\n",
    "    sol = Trie()\n",
    "    print(\"Input:    \" + str(case[0]))\n",
    "    funcs = case[0][0]\n",
    "    params = case[0][1]\n",
    "    for i, func in enumerate(funcs):\n",
    "        if i: param = params[i][0]\n",
    "        if func == \"insert\":\n",
    "            outputs.append(sol.insert(param))\n",
    "        if func == \"search\":\n",
    "            outputs.append(sol.search(param))\n",
    "        if func == \"startsWith\":\n",
    "            outputs.append(sol.startsWith(param))\n",
    "    print(\"Output:   \" + str(outputs))\n",
    "    print(\"Expected: \" + str(case[1]) + \"\\n\")"
   ]
  }
 ],
 "metadata": {
  "kernelspec": {
   "display_name": "Python 3",
   "language": "python",
   "name": "python3"
  },
  "language_info": {
   "codemirror_mode": {
    "name": "ipython",
    "version": 3
   },
   "file_extension": ".py",
   "mimetype": "text/x-python",
   "name": "python",
   "nbconvert_exporter": "python",
   "pygments_lexer": "ipython3",
   "version": "3.7.3"
  }
 },
 "nbformat": 4,
 "nbformat_minor": 2
}
