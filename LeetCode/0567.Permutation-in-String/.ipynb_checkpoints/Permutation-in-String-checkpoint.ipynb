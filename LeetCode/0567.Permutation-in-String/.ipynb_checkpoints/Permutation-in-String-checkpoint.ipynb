{
 "cells": [
  {
   "cell_type": "markdown",
   "metadata": {},
   "source": [
    "# 567. Permutation in String\n",
    "#### https://leetcode.com/problems/permutation-in-string/"
   ]
  },
  {
   "cell_type": "markdown",
   "metadata": {},
   "source": [
    "# Approach 1: Sliding Window"
   ]
  },
  {
   "cell_type": "code",
   "execution_count": 1,
   "metadata": {},
   "outputs": [],
   "source": [
    "class Solution(object):\n",
    "    def checkInclusion(self, s1, s2):\n",
    "        \"\"\"\n",
    "        :type s1: str\n",
    "        :type s2: str\n",
    "        :rtype: bool\n",
    "        \"\"\"\n",
    "        count = [0] * 26\n",
    "        n = len(s1)\n",
    "        for i in range(n):\n",
    "            count[ord(s1[i]) - ord(\"a\")] += 1\n",
    "        num = len(set(s1))\n",
    "        cnt = 0\n",
    "        for i in range(len(s2)):\n",
    "            count[ord(s2[i]) - ord(\"a\")] -= 1\n",
    "            if count[ord(s2[i]) - ord(\"a\")] == 0: cnt += 1\n",
    "            if cnt == num: return True\n",
    "            if i >= n - 1:\n",
    "                count[ord(s2[i - n + 1]) - ord(\"a\")] += 1\n",
    "                if count[ord(s2[i - n + 1]) - ord(\"a\")] == 1: cnt -= 1\n",
    "        return False"
   ]
  },
  {
   "cell_type": "markdown",
   "metadata": {},
   "source": [
    "# Verification"
   ]
  },
  {
   "cell_type": "code",
   "execution_count": 3,
   "metadata": {},
   "outputs": [
    {
     "name": "stdout",
     "output_type": "stream",
     "text": [
      "Input:    ('ab', 'eidbaooo')\n",
      "Output:   True\n",
      "Expected: True\n",
      "\n",
      "Input:    ('ab', 'eidboaoo')\n",
      "Output:   False\n",
      "Expected: False\n",
      "\n",
      "Input:    ('adc', 'dcda')\n",
      "Output:   True\n",
      "Expected: True\n",
      "\n",
      "Input:    ('abcdxabcde', 'abcdeabcdx')\n",
      "Output:   True\n",
      "Expected: True\n",
      "\n"
     ]
    }
   ],
   "source": [
    "testcases = [(\"ab\",\"eidbaooo\"),(\"ab\",\"eidboaoo\"),(\"adc\",\"dcda\"),(\"abcdxabcde\",\"abcdeabcdx\")]\n",
    "expected = [True,False,True,True]\n",
    "\n",
    "outputs = []\n",
    "sol = Solution();\n",
    "\n",
    "for case in zip(testcases, expected):\n",
    "    print(\"Input:    \" + str(case[0]))\n",
    "    print(\"Output:   \" + str(sol.checkInclusion(case[0][0],case[0][1])))\n",
    "    print(\"Expected: \" + str(case[1]) + \"\\n\")"
   ]
  }
 ],
 "metadata": {
  "kernelspec": {
   "display_name": "Python 3",
   "language": "python",
   "name": "python3"
  },
  "language_info": {
   "codemirror_mode": {
    "name": "ipython",
    "version": 3
   },
   "file_extension": ".py",
   "mimetype": "text/x-python",
   "name": "python",
   "nbconvert_exporter": "python",
   "pygments_lexer": "ipython3",
   "version": "3.7.3"
  }
 },
 "nbformat": 4,
 "nbformat_minor": 2
}
