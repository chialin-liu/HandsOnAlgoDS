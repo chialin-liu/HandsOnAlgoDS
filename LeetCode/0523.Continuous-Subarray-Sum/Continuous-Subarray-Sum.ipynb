{
 "cells": [
  {
   "cell_type": "markdown",
   "metadata": {},
   "source": [
    "# 523. Continuous Subarray Sum\n",
    "#### https://leetcode.com/problems/count-primes/"
   ]
  },
  {
   "cell_type": "markdown",
   "metadata": {},
   "source": [
    "# Approach 1"
   ]
  },
  {
   "cell_type": "code",
   "execution_count": 13,
   "metadata": {},
   "outputs": [],
   "source": [
    "class Solution(object):\n",
    "    def checkSubarraySum(self, nums, k):\n",
    "        \"\"\"\n",
    "        :type nums: List[int]\n",
    "        :type k: int\n",
    "        :rtype: bool\n",
    "        \"\"\"\n",
    "       \n",
    "        n = len(nums)\n",
    "        s = [0] * (n + 1)\n",
    "        count = {}\n",
    "        count[0] = 0\n",
    "        for i in range(1, n + 1):\n",
    "            s[i] = s[i - 1] + nums[i - 1]\n",
    "            res = s[i]\n",
    "            if k: res %= k\n",
    "            if res not in count:\n",
    "                count[res] = i\n",
    "            else:\n",
    "                if i - count[res] > 1:\n",
    "                    return True\n",
    "        #print(s)\n",
    "        return False"
   ]
  },
  {
   "cell_type": "markdown",
   "metadata": {},
   "source": [
    "# Verification"
   ]
  },
  {
   "cell_type": "code",
   "execution_count": 14,
   "metadata": {},
   "outputs": [
    {
     "name": "stdout",
     "output_type": "stream",
     "text": [
      "Input: ([23, 2, 4, 6, 7], -6)\n",
      "Output: True\n",
      "Expected: True\n",
      "\n",
      "Input: ([23, 2, 6, 4, 7], 0)\n",
      "Output: False\n",
      "Expected: False\n",
      "\n",
      "Input: ([23, 2, 4, 6, 7], 6)\n",
      "Output: True\n",
      "Expected: True\n",
      "\n",
      "Input: ([23, 2, 6, 4, 7], 6)\n",
      "Output: True\n",
      "Expected: True\n",
      "\n",
      "Input: ([0, 1, 0], 0)\n",
      "Output: False\n",
      "Expected: False\n",
      "\n",
      "Input: ([0, 0], 0)\n",
      "Output: True\n",
      "Expected: True\n",
      "\n"
     ]
    }
   ],
   "source": [
    "testcases = [([23,2,4,6,7],-6),([23,2,6,4,7],0),([23, 2, 4, 6, 7],6),([23, 2, 6, 4, 7],6),([0,1,0],0),([0,0],0)]\n",
    "answers = [True, False, True, True, False, True]\n",
    "\n",
    "sol = Solution();\n",
    "for case in zip(testcases, answers):\n",
    "    print(\"Input: \" + str(case[0]))\n",
    "    print(\"Output: \" + str(sol.checkSubarraySum(case[0][0],case[0][1])))\n",
    "    print(\"Expected: \" + str(case[1]) + \"\\n\")"
   ]
  }
 ],
 "metadata": {
  "kernelspec": {
   "display_name": "Python 3",
   "language": "python",
   "name": "python3"
  },
  "language_info": {
   "codemirror_mode": {
    "name": "ipython",
    "version": 3
   },
   "file_extension": ".py",
   "mimetype": "text/x-python",
   "name": "python",
   "nbconvert_exporter": "python",
   "pygments_lexer": "ipython3",
   "version": "3.7.3"
  }
 },
 "nbformat": 4,
 "nbformat_minor": 2
}
