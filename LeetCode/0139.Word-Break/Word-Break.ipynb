{
 "cells": [
  {
   "cell_type": "markdown",
   "metadata": {},
   "source": [
    "# 139. Word Break\n",
    "#### https://leetcode.com/problems/word-break/"
   ]
  },
  {
   "cell_type": "markdown",
   "metadata": {},
   "source": [
    "# Approach 1: Dynamic Programming"
   ]
  },
  {
   "cell_type": "code",
   "execution_count": 1,
   "metadata": {},
   "outputs": [],
   "source": [
    "class Solution(object):\n",
    "    def wordBreak(self, s, wordDict):\n",
    "        \"\"\"\n",
    "        :type s: str\n",
    "        :type wordDict: List[str]\n",
    "        :rtype: bool\n",
    "        \"\"\"\n",
    "        if not wordDict: return not s\n",
    "        \n",
    "        n = len(s)\n",
    "        dp = [False] * (n + 1)\n",
    "        dp[0] = True\n",
    "        wordSet = set(wordDict)\n",
    "        max_len = max(len(word) for word in wordDict)\n",
    "        \n",
    "        for i in range(1, n + 1):\n",
    "            for j in range(1, min(i, max_len) + 1):\n",
    "                if dp[i - j] and s[i - j : i] in wordSet:\n",
    "                    dp[i] = True\n",
    "                    break\n",
    "        return dp[n]"
   ]
  },
  {
   "cell_type": "markdown",
   "metadata": {},
   "source": [
    "# Verification "
   ]
  },
  {
   "cell_type": "code",
   "execution_count": 2,
   "metadata": {},
   "outputs": [
    {
     "name": "stdout",
     "output_type": "stream",
     "text": [
      "Input:    ('leetcode', ['leet', 'code'])\n",
      "Output:   True\n",
      "Expected: True\n",
      "\n",
      "Input:    ('applepenapple', ['apple', 'pen'])\n",
      "Output:   True\n",
      "Expected: True\n",
      "\n",
      "Input:    ('catsandog', ['cats', 'dog', 'sand', 'and', 'cat'])\n",
      "Output:   False\n",
      "Expected: False\n",
      "\n",
      "Input:    ('a', [])\n",
      "Output:   False\n",
      "Expected: False\n",
      "\n"
     ]
    }
   ],
   "source": [
    "import pandas as pd\n",
    "testcases = [(\"leetcode\", [\"leet\", \"code\"]), (\"applepenapple\", [\"apple\", \"pen\"]), (\"catsandog\", [\"cats\", \"dog\", \"sand\", \"and\", \"cat\"]), (\"a\", [])]\n",
    "expected = [True, True, False, False]\n",
    "outputs = []\n",
    "sol = Solution();\n",
    "\n",
    "for case in zip(testcases, expected):\n",
    "    print(\"Input:    \" + str(case[0]))\n",
    "    print(\"Output:   \" + str(sol.wordBreak(case[0][0], case[0][1])))\n",
    "    print(\"Expected: \" + str(case[1]) + \"\\n\")"
   ]
  }
 ],
 "metadata": {
  "kernelspec": {
   "display_name": "Python 3",
   "language": "python",
   "name": "python3"
  },
  "language_info": {
   "codemirror_mode": {
    "name": "ipython",
    "version": 3
   },
   "file_extension": ".py",
   "mimetype": "text/x-python",
   "name": "python",
   "nbconvert_exporter": "python",
   "pygments_lexer": "ipython3",
   "version": "3.7.3"
  }
 },
 "nbformat": 4,
 "nbformat_minor": 2
}
