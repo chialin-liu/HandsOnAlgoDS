{
 "cells": [
  {
   "cell_type": "markdown",
   "metadata": {},
   "source": [
    "# 139. Word Break\n",
    "#### https://leetcode.com/problems/word-break/"
   ]
  },
  {
   "cell_type": "markdown",
   "metadata": {},
   "source": [
    "# Approach 1: Dynamic Programming"
   ]
  },
  {
   "cell_type": "code",
   "execution_count": 13,
   "metadata": {},
   "outputs": [],
   "source": [
    "class Solution(object):\n",
    "    def wordBreak(self, s, wordDict):\n",
    "        \"\"\"\n",
    "        :type s: str\n",
    "        :type wordDict: List[str]\n",
    "        :rtype: bool\n",
    "        \"\"\"\n",
    "        if not wordDict: return not s\n",
    "        \n",
    "        n = len(s)\n",
    "        dp = [False] * (n + 1)\n",
    "        dp[0] = True\n",
    "        wordSet = set(wordDict)\n",
    "        max_len = max(len(word) for word in wordDict)\n",
    "        \n",
    "        for i in range(1, n + 1):\n",
    "            for j in range(1, min(i, max_len) + 1): # Optimization by checking only valid string\n",
    "                if dp[i - j] and s[i - j : i] in wordSet:\n",
    "                    dp[i] = True\n",
    "                    break\n",
    "        return dp[n]"
   ]
  },
  {
   "cell_type": "markdown",
   "metadata": {},
   "source": [
    "# Approach 2: Memorized DFS "
   ]
  },
  {
   "cell_type": "code",
   "execution_count": 14,
   "metadata": {},
   "outputs": [],
   "source": [
    "class Solution(object):\n",
    "    def wordBreak(self, s, wordDict):\n",
    "        \"\"\"\n",
    "        :type s: str\n",
    "        :type wordDict: List[str]\n",
    "        :rtype: bool\n",
    "        \"\"\"\n",
    "        if not wordDict: return not s\n",
    "        wordSet = set(wordDict)\n",
    "        memo = [None] * len(s)\n",
    "        max_len = max(len(word) for word in wordDict)\n",
    "        return self.dfs(s, 0, wordSet, memo, max_len)\n",
    "    \n",
    "    def dfs(self, s, start, wordSet, memo, max_len):\n",
    "        if start == len(s): return True\n",
    "        if memo[start] != None: \n",
    "            return memo[start]\n",
    "        \n",
    "        for end in range(start, min(len(s), start + max_len)): # Optimization by checking only valid string\n",
    "            if s[start : end + 1] in wordSet:\n",
    "                if self.dfs(s, end + 1, wordSet, memo, max_len):\n",
    "                    memo[start] = True\n",
    "                    return memo[start]\n",
    "        memo[start] = False\n",
    "        return memo[start]"
   ]
  },
  {
   "cell_type": "markdown",
   "metadata": {},
   "source": [
    "# Approach 3: BFS"
   ]
  },
  {
   "cell_type": "code",
   "execution_count": 15,
   "metadata": {},
   "outputs": [],
   "source": [
    "from collections import deque\n",
    "class Solution(object):\n",
    "    def wordBreak(self, s, wordDict):\n",
    "        \"\"\"\n",
    "        :type s: str\n",
    "        :type wordDict: List[str]\n",
    "        :rtype: bool\n",
    "        \"\"\"\n",
    "        if not wordDict: return not s\n",
    "        wordSet = set(wordDict)\n",
    "        visit = [False] * len(s)\n",
    "        queue = deque()\n",
    "        queue.append(0)\n",
    "        max_len = max(len(word) for word in wordDict)\n",
    "        \n",
    "        while queue:\n",
    "            start = queue.popleft()\n",
    "            if start == len(s): return True\n",
    "            if not visit[start]:\n",
    "                for end in range(start, min(len(s), start + max_len)): # Optimization by checking only valid string\n",
    "                    if s[start : end + 1] in wordSet:\n",
    "                        queue.append(end + 1)\n",
    "            visit[start] = True\n",
    "        return False"
   ]
  },
  {
   "cell_type": "markdown",
   "metadata": {},
   "source": [
    "# Verification "
   ]
  },
  {
   "cell_type": "code",
   "execution_count": 16,
   "metadata": {},
   "outputs": [
    {
     "name": "stdout",
     "output_type": "stream",
     "text": [
      "Input:    ('leetcode', ['leet', 'code'])\n",
      "Output:   True\n",
      "Expected: True\n",
      "\n",
      "Input:    ('applepenapple', ['apple', 'pen'])\n",
      "Output:   True\n",
      "Expected: True\n",
      "\n",
      "Input:    ('catsandog', ['cats', 'dog', 'sand', 'and', 'cat'])\n",
      "Output:   False\n",
      "Expected: False\n",
      "\n",
      "Input:    ('a', [])\n",
      "Output:   False\n",
      "Expected: False\n",
      "\n",
      "Input:    ('a', ['a'])\n",
      "Output:   True\n",
      "Expected: True\n",
      "\n",
      "Input:    ('aaaaaaaaaaaaaaaaaaaaaaaaaaaaaaaaaaaaaaaaaaaaaaaaaaaaaaaaaaaaaaaaaaaaaaaaaaaaaaaaaaaaaaaaaaaaaaaaaaaaaaaaaaaaaaaaaaaaaaaaaaaaaaaaaaaaaaaaaaaaaaaaaaaaaab', ['a', 'aa', 'aaa', 'aaaa', 'aaaaa', 'aaaaaa', 'aaaaaaa', 'aaaaaaaa', 'aaaaaaaaa', 'aaaaaaaaaa'])\n",
      "Output:   False\n",
      "Expected: False\n",
      "\n"
     ]
    }
   ],
   "source": [
    "import pandas as pd\n",
    "testcases = [(\"leetcode\", [\"leet\", \"code\"]), (\"applepenapple\", [\"apple\", \"pen\"]), (\"catsandog\", [\"cats\", \"dog\", \"sand\", \"and\", \"cat\"]), (\"a\", []), (\"a\", [\"a\"]), (\"aaaaaaaaaaaaaaaaaaaaaaaaaaaaaaaaaaaaaaaaaaaaaaaaaaaaaaaaaaaaaaaaaaaaaaaaaaaaaaaaaaaaaaaaaaaaaaaaaaaaaaaaaaaaaaaaaaaaaaaaaaaaaaaaaaaaaaaaaaaaaaaaaaaaaab\", [\"a\",\"aa\",\"aaa\",\"aaaa\",\"aaaaa\",\"aaaaaa\",\"aaaaaaa\",\"aaaaaaaa\",\"aaaaaaaaa\",\"aaaaaaaaaa\"])]\n",
    "expected = [True, True, False, False, True, False]\n",
    "\n",
    "#testcases = testcases[-1:]\n",
    "#expected = expected[-1:]\n",
    "\n",
    "outputs = []\n",
    "sol = Solution();\n",
    "\n",
    "for case in zip(testcases, expected):\n",
    "    print(\"Input:    \" + str(case[0]))\n",
    "    print(\"Output:   \" + str(sol.wordBreak(case[0][0], case[0][1])))\n",
    "    print(\"Expected: \" + str(case[1]) + \"\\n\")"
   ]
  }
 ],
 "metadata": {
  "kernelspec": {
   "display_name": "Python 3",
   "language": "python",
   "name": "python3"
  },
  "language_info": {
   "codemirror_mode": {
    "name": "ipython",
    "version": 3
   },
   "file_extension": ".py",
   "mimetype": "text/x-python",
   "name": "python",
   "nbconvert_exporter": "python",
   "pygments_lexer": "ipython3",
   "version": "3.7.3"
  }
 },
 "nbformat": 4,
 "nbformat_minor": 2
}
