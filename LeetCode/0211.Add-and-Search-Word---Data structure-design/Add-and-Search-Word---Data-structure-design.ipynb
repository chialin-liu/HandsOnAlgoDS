{
 "cells": [
  {
   "cell_type": "markdown",
   "metadata": {},
   "source": [
    "# 211. Add and Search Word - Data structure design\n",
    "#### https://leetcode.com/problems/add-and-search-word-data-structure-design/"
   ]
  },
  {
   "cell_type": "markdown",
   "metadata": {},
   "source": [
    "# Approach 1"
   ]
  },
  {
   "cell_type": "code",
   "execution_count": 9,
   "metadata": {},
   "outputs": [],
   "source": [
    "class TrieNode(object):\n",
    "    def __init__(self):\n",
    "        self.children = {}\n",
    "        self.is_word = False\n",
    "        \n",
    "class WordDictionary(object):\n",
    "\n",
    "    def __init__(self):\n",
    "        \"\"\"\n",
    "        Initialize your data structure here.\n",
    "        \"\"\"\n",
    "        self.root = TrieNode()\n",
    "\n",
    "    def addWord(self, word):\n",
    "        \"\"\"\n",
    "        Adds a word into the data structure.\n",
    "        :type word: str\n",
    "        :rtype: None\n",
    "        \"\"\"\n",
    "        node = self.root\n",
    "        for c in word:\n",
    "            if c not in node.children:\n",
    "                node.children[c] = TrieNode()\n",
    "            node = node.children[c]\n",
    "        node.is_word = True\n",
    "        \n",
    "    def search_from_node(self, node, word):\n",
    "        if not len(word): return node.is_word\n",
    "        if word[0] == \".\":\n",
    "            for c in node.children:\n",
    "                if self.search_from_node(node.children[c], word[1:]):\n",
    "                    return True\n",
    "        else:\n",
    "            if word[0] in node.children:\n",
    "                return self.search_from_node(node.children[word[0]], word[1:])\n",
    "        return False\n",
    "        \n",
    "    def search(self, word):\n",
    "        \"\"\"\n",
    "        Returns if the word is in the data structure. A word could contain the dot character '.' to represent any one letter.\n",
    "        :type word: str\n",
    "        :rtype: bool\n",
    "        \"\"\"\n",
    "        return self.search_from_node(self.root, word)\n"
   ]
  },
  {
   "cell_type": "markdown",
   "metadata": {},
   "source": [
    "# Verification"
   ]
  },
  {
   "cell_type": "code",
   "execution_count": 10,
   "metadata": {},
   "outputs": [
    {
     "name": "stdout",
     "output_type": "stream",
     "text": [
      "Input:    (['WordDictionary', 'addWord', 'addWord', 'addWord', 'search', 'search', 'search', 'search'], [[], ['bad'], ['dad'], ['mad'], ['pad'], ['bad'], ['.ad'], ['b..']])\n",
      "Output:   [None, None, None, None, False, True, True, True]\n",
      "Expected: [None, None, None, None, False, True, True, True]\n",
      "\n",
      "Input:    (['WordDictionary', 'addWord', 'addWord', 'addWord', 'addWord', 'search', 'search', 'addWord', 'search', 'search', 'search', 'search', 'search', 'search'], [[], ['at'], ['and'], ['an'], ['add'], ['a'], ['.at'], ['bat'], ['.at'], ['an.'], ['a.d.'], ['b.'], ['a.d'], ['.']])\n",
      "Output:   [None, None, None, None, None, False, False, None, True, True, False, False, True, False]\n",
      "Expected: [None, None, None, None, None, False, False, None, True, True, False, False, True, False]\n",
      "\n"
     ]
    }
   ],
   "source": [
    "testcases = [([\"WordDictionary\",\"addWord\",\"addWord\",\"addWord\",\"search\",\"search\",\"search\",\"search\"],[[],[\"bad\"],[\"dad\"],[\"mad\"],[\"pad\"],[\"bad\"],[\".ad\"],[\"b..\"]]),([\"WordDictionary\",\"addWord\",\"addWord\",\"addWord\",\"addWord\",\"search\",\"search\",\"addWord\",\"search\",\"search\",\"search\",\"search\",\"search\",\"search\"],[[],[\"at\"],[\"and\"],[\"an\"],[\"add\"],[\"a\"],[\".at\"],[\"bat\"],[\".at\"],[\"an.\"],[\"a.d.\"],[\"b.\"],[\"a.d\"],[\".\"]])]\n",
    "expected = [[None,None,None,None,False,True,True,True],[None, None, None, None, None, False, False, None, True, True, False, False, True, False]]\n",
    "\n",
    "for case in zip(testcases, expected):\n",
    "    outputs = [None]\n",
    "    sol = WordDictionary()\n",
    "    print(\"Input:    \" + str(case[0]))\n",
    "    funcs = case[0][0]\n",
    "    params = case[0][1]\n",
    "    for i, func in enumerate(funcs):\n",
    "        if i: param = params[i][0]\n",
    "        if func == \"addWord\":\n",
    "            outputs.append(sol.addWord(param))\n",
    "        if func == \"search\":\n",
    "            outputs.append(sol.search(param))\n",
    "    print(\"Output:   \" + str(outputs))\n",
    "    print(\"Expected: \" + str(case[1]) + \"\\n\")"
   ]
  }
 ],
 "metadata": {
  "kernelspec": {
   "display_name": "Python 3",
   "language": "python",
   "name": "python3"
  },
  "language_info": {
   "codemirror_mode": {
    "name": "ipython",
    "version": 3
   },
   "file_extension": ".py",
   "mimetype": "text/x-python",
   "name": "python",
   "nbconvert_exporter": "python",
   "pygments_lexer": "ipython3",
   "version": "3.7.3"
  }
 },
 "nbformat": 4,
 "nbformat_minor": 2
}
