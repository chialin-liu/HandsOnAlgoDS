{
 "cells": [
  {
   "cell_type": "markdown",
   "metadata": {},
   "source": [
    "# 324. Wiggle Sort II\n",
    "#### https://leetcode.com/problems/wiggle-sort-ii"
   ]
  },
  {
   "cell_type": "markdown",
   "metadata": {},
   "source": [
    "# Approach 1: Time O(nlogn), Space O(n)"
   ]
  },
  {
   "cell_type": "code",
   "execution_count": 53,
   "metadata": {},
   "outputs": [],
   "source": [
    "class Solution(object):\n",
    "    def wiggleSort(self, nums):\n",
    "        \"\"\"\n",
    "        :type nums: List[int]\n",
    "        :rtype: None Do not return anything, modify nums in-place instead.\n",
    "        \"\"\"\n",
    "        tmp = sorted(nums)\n",
    "        n = len(nums)\n",
    "        median = tmp[(n - 1) // 2]\n",
    "        left, right = (n - 1) // 2, n - 1\n",
    "        for i in range(n):\n",
    "            if i % 2 == 0:\n",
    "                nums[i] = tmp[left]\n",
    "                left -= 1\n",
    "            else:\n",
    "                nums[i] = tmp[right]\n",
    "                right -= 1"
   ]
  },
  {
   "cell_type": "markdown",
   "metadata": {},
   "source": [
    "# Approach 2: Time O(n), Space O(1)"
   ]
  },
  {
   "cell_type": "code",
   "execution_count": 129,
   "metadata": {},
   "outputs": [],
   "source": [
    "class Solution(object):\n",
    "    def wiggleSort(self, nums):\n",
    "        \"\"\"\n",
    "        :type nums: List[int]\n",
    "        :rtype: None Do not return anything, modify nums in-place instead.\n",
    "        \"\"\"\n",
    "        n = len(nums)\n",
    "        median = self.find_kth_smallest(nums, 0, n - 1, (n - 1) // 2)\n",
    "        \n",
    "        def mapping(i):\n",
    "            mid = (n + 1) // 2\n",
    "            if i < mid :\n",
    "                return n - i * 2 - 1 - (n + 1) % 2\n",
    "            return n - (i % mid) * 2 - 1 - n % 2\n",
    "        \n",
    "        left, i, right = 0, 0, n - 1\n",
    "        while i <= right:\n",
    "            if nums[mapping(i)] > median:\n",
    "                nums[mapping(i)], nums[mapping(right)] = nums[mapping(right)], nums[mapping(i)]\n",
    "                right -= 1\n",
    "            elif nums[mapping(i)] < median:\n",
    "                nums[mapping(i)], nums[mapping(left)] = nums[mapping(left)], nums[mapping(i)]\n",
    "                left += 1\n",
    "                i += 1\n",
    "            else:\n",
    "                i += 1\n",
    "        \n",
    "    def find_kth_smallest(self, nums, start, end, k):\n",
    "        mid = nums[(start + end) // 2]\n",
    "        left, right = start, end\n",
    "        while left <= right:\n",
    "            while left <= right and nums[left] < mid:\n",
    "                left += 1\n",
    "            while left <= right and nums[right] > mid:\n",
    "                right -= 1\n",
    "            if left <= right:\n",
    "                nums[left], nums[right] = nums[right], nums[left]\n",
    "                left += 1\n",
    "                right -= 1\n",
    "            \n",
    "        if k <= right:\n",
    "            return self.find_kth_smallest(nums, start, right, k)\n",
    "        elif k >= left:\n",
    "            return self.find_kth_smallest(nums, left, end, k)\n",
    "        return nums[k]"
   ]
  },
  {
   "cell_type": "markdown",
   "metadata": {},
   "source": [
    "# Verification"
   ]
  },
  {
   "cell_type": "code",
   "execution_count": 131,
   "metadata": {},
   "outputs": [
    {
     "name": "stdout",
     "output_type": "stream",
     "text": [
      "Input:    [1, 5, 1, 1, 6, 4]\n",
      "Output:   [1, 6, 1, 4, 1, 5]\n",
      "Expected: [1, 6, 1, 4, 1, 5]\n",
      "\n",
      "Input:    [1, 3, 2, 2, 3, 1]\n",
      "Output:   [2, 3, 1, 3, 1, 2]\n",
      "Expected: [2, 3, 1, 3, 1, 2]\n",
      "\n",
      "Input:    [1, 1, 2, 1, 2, 2, 1]\n",
      "Output:   [1, 2, 1, 2, 1, 2, 1]\n",
      "Expected: [1, 2, 1, 2, 1, 2, 1]\n",
      "\n",
      "Input:    [4, 5, 5, 6]\n",
      "Output:   [5, 6, 4, 5]\n",
      "Expected: [5, 6, 4, 5]\n",
      "\n",
      "Input:    [1, 4, 2, 5, 4, 4]\n",
      "Output:   [4, 5, 2, 4, 1, 4]\n",
      "Expected: [4, 5, 2, 4, 1, 4]\n",
      "\n"
     ]
    }
   ],
   "source": [
    "testcases = [[1,5,1,1,6,4],[1,3,2,2,3,1],[1,1,2,1,2,2,1],[4,5,5,6],[1,4,2,5,4,4]]\n",
    "expected = [[1,6,1,4,1,5],[2,3,1,3,1,2],[1,2,1,2,1,2,1],[5,6,4,5],[4,5,2,4,1,4]]\n",
    "\n",
    "outputs = []\n",
    "sol = Solution();\n",
    "\n",
    "for case in zip(testcases, expected):\n",
    "    print(\"Input:    \" + str(case[0]))\n",
    "    sol.wiggleSort(case[0])\n",
    "    print(\"Output:   \" + str(case[0]))\n",
    "    print(\"Expected: \" + str(case[1]) + \"\\n\")"
   ]
  }
 ],
 "metadata": {
  "kernelspec": {
   "display_name": "Python 3",
   "language": "python",
   "name": "python3"
  },
  "language_info": {
   "codemirror_mode": {
    "name": "ipython",
    "version": 3
   },
   "file_extension": ".py",
   "mimetype": "text/x-python",
   "name": "python",
   "nbconvert_exporter": "python",
   "pygments_lexer": "ipython3",
   "version": "3.7.3"
  }
 },
 "nbformat": 4,
 "nbformat_minor": 2
}
