{
 "cells": [
  {
   "cell_type": "markdown",
   "metadata": {},
   "source": [
    "# 280. Wiggle Sort\n",
    "#### https://leetcode.com/problems/wiggle-sort/"
   ]
  },
  {
   "cell_type": "markdown",
   "metadata": {},
   "source": [
    "# Approach 1"
   ]
  },
  {
   "cell_type": "code",
   "execution_count": 1,
   "metadata": {},
   "outputs": [],
   "source": [
    "class Solution(object):\n",
    "    def wiggleSort(self, nums):\n",
    "        \"\"\"\n",
    "        :type nums: List[int]\n",
    "        :rtype: None Do not return anything, modify nums in-place instead.\n",
    "        \"\"\"\n",
    "        for i in range(1, len(nums)):\n",
    "            if i % 2 == 0 and nums[i] > nums[i - 1]:\n",
    "                nums[i], nums[i - 1] = nums[i - 1], nums[i]\n",
    "            if i % 2 == 1 and nums[i] < nums[i - 1]:\n",
    "                nums[i], nums[i - 1] = nums[i - 1], nums[i]"
   ]
  },
  {
   "cell_type": "markdown",
   "metadata": {},
   "source": [
    "# Verification"
   ]
  },
  {
   "cell_type": "code",
   "execution_count": 2,
   "metadata": {},
   "outputs": [
    {
     "name": "stdout",
     "output_type": "stream",
     "text": [
      "Input:    [3, 5, 2, 1, 6, 4]\n",
      "Output:   [3, 5, 1, 6, 2, 4]\n",
      "Expected: [3, 5, 1, 6, 2, 4]\n",
      "\n"
     ]
    }
   ],
   "source": [
    "testcases = [[3,5,2,1,6,4]]\n",
    "expected = [[3,5,1,6,2,4]]\n",
    "\n",
    "#testcases = testcases[-1:]\n",
    "#expected = expected[-1:]\n",
    "\n",
    "outputs = []\n",
    "sol = Solution();\n",
    "\n",
    "for case in zip(testcases, expected):\n",
    "    print(\"Input:    \" + str(case[0]))\n",
    "    sol.wiggleSort(case[0])\n",
    "    print(\"Output:   \" + str(case[0]))\n",
    "    print(\"Expected: \" + str(case[1]) + \"\\n\")"
   ]
  }
 ],
 "metadata": {
  "kernelspec": {
   "display_name": "Python 3",
   "language": "python",
   "name": "python3"
  },
  "language_info": {
   "codemirror_mode": {
    "name": "ipython",
    "version": 3
   },
   "file_extension": ".py",
   "mimetype": "text/x-python",
   "name": "python",
   "nbconvert_exporter": "python",
   "pygments_lexer": "ipython3",
   "version": "3.7.3"
  }
 },
 "nbformat": 4,
 "nbformat_minor": 2
}
