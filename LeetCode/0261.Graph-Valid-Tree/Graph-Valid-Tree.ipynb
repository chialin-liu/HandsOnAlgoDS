{
 "cells": [
  {
   "cell_type": "markdown",
   "metadata": {},
   "source": [
    "# 261. Graph Valid Tree\n",
    "#### https://leetcode.com/problems/graph-valid-tree/"
   ]
  },
  {
   "cell_type": "markdown",
   "metadata": {},
   "source": [
    "# Approach 1: Union Find"
   ]
  },
  {
   "cell_type": "code",
   "execution_count": 6,
   "metadata": {},
   "outputs": [],
   "source": [
    "from collections import defaultdict\n",
    "from collections import deque\n",
    "class Solution(object):\n",
    "    def validTree(self, n, edges):\n",
    "        \"\"\"\n",
    "        :type n: int\n",
    "        :type edges: List[List[int]]\n",
    "        :rtype: bool\n",
    "        \"\"\"\n",
    "        if n - 1 != len(edges): return False\n",
    "        \n",
    "        father = [-1] * n\n",
    "        \n",
    "        for u, v in edges:\n",
    "            x = self.find(father, u)\n",
    "            y = self.find(father, v)\n",
    "            if x == y: return False\n",
    "            father[x] = y\n",
    "            \n",
    "        return True\n",
    "            \n",
    "    def find(self, father, node):\n",
    "        while father[node] != -1:\n",
    "            node = father[node]\n",
    "        return node"
   ]
  },
  {
   "cell_type": "markdown",
   "metadata": {},
   "source": [
    "# Approach 2: DFS"
   ]
  },
  {
   "cell_type": "code",
   "execution_count": 2,
   "metadata": {},
   "outputs": [],
   "source": [
    "from collections import defaultdict\n",
    "class Solution(object):\n",
    "    def validTree(self, n, edges):\n",
    "        \"\"\"\n",
    "        :type n: int\n",
    "        :type edges: List[List[int]]\n",
    "        :rtype: bool\n",
    "        \"\"\"\n",
    "        if len(edges) != n - 1: return False\n",
    "        graph = defaultdict(set)\n",
    "        for u, v in edges:\n",
    "            if self.has_cycle(u, v, graph, -1): \n",
    "                return False\n",
    "            graph[u].add(v)\n",
    "            graph[v].add(u)\n",
    "        \n",
    "        return True\n",
    "    \n",
    "    def has_cycle(self, cur, target, graph, pre):   \n",
    "        if target in graph[cur]: return True\n",
    "        for node in graph[cur]:\n",
    "            if node != pre and self.has_cycle(node, target, graph, cur): return True\n",
    "        return False"
   ]
  },
  {
   "cell_type": "markdown",
   "metadata": {},
   "source": [
    "# Approach 3: BFS"
   ]
  },
  {
   "cell_type": "code",
   "execution_count": 4,
   "metadata": {},
   "outputs": [],
   "source": [
    "from collections import defaultdict\n",
    "from collections import deque\n",
    "class Solution(object):\n",
    "    def validTree(self, n, edges):\n",
    "        \"\"\"\n",
    "        :type n: int\n",
    "        :type edges: List[List[int]]\n",
    "        :rtype: bool\n",
    "        \"\"\"\n",
    "        if len(edges) != n - 1: return False\n",
    "        graph = defaultdict(set)\n",
    "        queue = deque()\n",
    "        for u, v in edges:\n",
    "            queue.append([u, v])\n",
    "            seen = set()\n",
    "            while queue:\n",
    "                cur, target = queue.popleft()\n",
    "                if target in graph[cur]: return False\n",
    "                seen.add(cur)\n",
    "                for node in graph[cur]:\n",
    "                    if node not in seen:\n",
    "                        queue.append([node, target])\n",
    "            graph[u].add(v)\n",
    "            graph[v].add(u)\n",
    "        \n",
    "        return True"
   ]
  },
  {
   "cell_type": "markdown",
   "metadata": {},
   "source": [
    "# Verification"
   ]
  },
  {
   "cell_type": "code",
   "execution_count": 7,
   "metadata": {},
   "outputs": [
    {
     "name": "stdout",
     "output_type": "stream",
     "text": [
      "Input:    [5, [[0, 1], [0, 2], [0, 3], [1, 4]]]\n",
      "Output:   True\n",
      "Expected: True\n",
      "\n",
      "Input:    [5, [[0, 1], [1, 2], [2, 3], [1, 3], [1, 4]]]\n",
      "Output:   False\n",
      "Expected: False\n",
      "\n",
      "Input:    [4, [[0, 1], [2, 3]]]\n",
      "Output:   False\n",
      "Expected: False\n",
      "\n"
     ]
    }
   ],
   "source": [
    "import pandas as pd\n",
    "testcases = [[5, [[0,1], [0,2], [0,3], [1,4]]], [5, [[0,1], [1,2], [2,3], [1,3], [1,4]]], [4, [[0,1], [2,3]]]]\n",
    "expected = [True, False, False]\n",
    "\n",
    "#testcases = testcases[:1]\n",
    "#expected = expected[:1]\n",
    "\n",
    "outputs = []\n",
    "sol = Solution();\n",
    "\n",
    "for case in zip(testcases, expected):\n",
    "    print(\"Input:    \" + str(case[0]))\n",
    "    print(\"Output:   \" + str(sol.validTree(case[0][0], case[0][1])))\n",
    "    print(\"Expected: \" + str(case[1]) + \"\\n\")"
   ]
  }
 ],
 "metadata": {
  "kernelspec": {
   "display_name": "Python 3",
   "language": "python",
   "name": "python3"
  },
  "language_info": {
   "codemirror_mode": {
    "name": "ipython",
    "version": 3
   },
   "file_extension": ".py",
   "mimetype": "text/x-python",
   "name": "python",
   "nbconvert_exporter": "python",
   "pygments_lexer": "ipython3",
   "version": "3.7.3"
  }
 },
 "nbformat": 4,
 "nbformat_minor": 2
}
