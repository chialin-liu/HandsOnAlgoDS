{
 "cells": [
  {
   "cell_type": "markdown",
   "metadata": {},
   "source": [
    "# 224. Basic Calculator \n",
    "#### https://leetcode.com/problems/basic-calculator/"
   ]
  },
  {
   "cell_type": "markdown",
   "metadata": {},
   "source": [
    "# Approach 1"
   ]
  },
  {
   "cell_type": "code",
   "execution_count": 2,
   "metadata": {},
   "outputs": [],
   "source": [
    "class Solution:\n",
    "    def calculate(self, s: str) -> int:\n",
    "        num = ans = 0\n",
    "        sign = 1\n",
    "        stack = []\n",
    "        for c in s:\n",
    "            if c in \"1234567890\":\n",
    "                num = num * 10 + int(c)\n",
    "            elif c == \"+\":\n",
    "                ans += sign * num\n",
    "                num = 0\n",
    "                sign = 1\n",
    "            elif c == \"-\":\n",
    "                ans += sign * num\n",
    "                num = 0\n",
    "                sign = -1\n",
    "            elif c == \"(\":\n",
    "                stack.append(ans)\n",
    "                stack.append(sign)\n",
    "                ans = 0\n",
    "                sign = 1\n",
    "            elif c == \")\":\n",
    "                ans += sign * num\n",
    "                num = 0\n",
    "                ans *= stack.pop()\n",
    "                ans += stack.pop()\n",
    "        ans += sign * num\n",
    "        return ans"
   ]
  },
  {
   "cell_type": "markdown",
   "metadata": {},
   "source": [
    "# Verification"
   ]
  },
  {
   "cell_type": "code",
   "execution_count": 10,
   "metadata": {},
   "outputs": [
    {
     "name": "stdout",
     "output_type": "stream",
     "text": [
      "Input: 1 + 1\n",
      "Output: 2\n",
      "Expected: 2\n",
      "\n",
      "Input:  2-1 + 2 \n",
      "Output: 3\n",
      "Expected: 3\n",
      "\n",
      "Input: (1+(4+5+2)-3)+(6+8)\n",
      "Output: 23\n",
      "Expected: 23\n",
      "\n"
     ]
    }
   ],
   "source": [
    "testcases = [\"1 + 1\", \" 2-1 + 2 \", \"(1+(4+5+2)-3)+(6+8)\"]\n",
    "answers = [2, 3, 23]\n",
    "sol = Solution();\n",
    "for case in zip(testcases, answers):\n",
    "    print(\"Input: \" + case[0])\n",
    "    print(\"Output: \" + str(sol.calculate(case[0])))\n",
    "    print(\"Expected: \" + str(case[1]) + \"\\n\")"
   ]
  }
 ],
 "metadata": {
  "kernelspec": {
   "display_name": "Python 3",
   "language": "python",
   "name": "python3"
  },
  "language_info": {
   "codemirror_mode": {
    "name": "ipython",
    "version": 3
   },
   "file_extension": ".py",
   "mimetype": "text/x-python",
   "name": "python",
   "nbconvert_exporter": "python",
   "pygments_lexer": "ipython3",
   "version": "3.7.3"
  }
 },
 "nbformat": 4,
 "nbformat_minor": 2
}
