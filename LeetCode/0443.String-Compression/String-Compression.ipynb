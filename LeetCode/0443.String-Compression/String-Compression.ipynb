{
 "cells": [
  {
   "cell_type": "markdown",
   "metadata": {},
   "source": [
    "# 443. String Compression\n",
    "#### https://leetcode.com/problems/string-compression/"
   ]
  },
  {
   "cell_type": "markdown",
   "metadata": {},
   "source": [
    "# Approach 1: Two Pointers"
   ]
  },
  {
   "cell_type": "code",
   "execution_count": 1,
   "metadata": {},
   "outputs": [],
   "source": [
    "class Solution(object):\n",
    "    def compress(self, chars):\n",
    "        \"\"\"\n",
    "        :type chars: List[str]\n",
    "        :rtype: int\n",
    "        \"\"\"\n",
    "        n = len(chars)\n",
    "        if n == 1: return 1\n",
    "        i = j = cur = 0\n",
    "        while i < n:\n",
    "            while j < n and chars[j] == chars[i]:\n",
    "                j += 1\n",
    "            chars[cur] = chars[i]\n",
    "            cur += 1\n",
    "            if j - i > 1:\n",
    "                for c in str(j - i):\n",
    "                    chars[cur] = c\n",
    "                    cur += 1\n",
    "            i = j\n",
    "        return cur"
   ]
  },
  {
   "cell_type": "markdown",
   "metadata": {},
   "source": [
    "# Verification"
   ]
  },
  {
   "cell_type": "code",
   "execution_count": 4,
   "metadata": {},
   "outputs": [
    {
     "name": "stdout",
     "output_type": "stream",
     "text": [
      "Input:    ['a', 'a', 'b', 'b', 'c', 'c', 'c']\n",
      "Output:   ['a', '2', 'b', '2', 'c', '3']\n",
      "Expected: ['a', '2', 'b', '2', 'c', '3']\n",
      "\n",
      "Input:    ['a']\n",
      "Output:   ['a']\n",
      "Expected: ['a']\n",
      "\n",
      "Input:    ['a', 'b', 'b', 'b', 'b', 'b', 'b', 'b', 'b', 'b', 'b', 'b', 'b']\n",
      "Output:   ['a', 'b', '1', '2']\n",
      "Expected: ['a', 'b', '1', '2']\n",
      "\n"
     ]
    }
   ],
   "source": [
    "import pandas as pd\n",
    "testcases = [[\"a\",\"a\",\"b\",\"b\",\"c\",\"c\",\"c\"],[\"a\"],[\"a\",\"b\",\"b\",\"b\",\"b\",\"b\",\"b\",\"b\",\"b\",\"b\",\"b\",\"b\",\"b\"]]\n",
    "expected = [[\"a\",\"2\",\"b\",\"2\",\"c\",\"3\"],[\"a\"],[\"a\",\"b\",\"1\",\"2\"]]\n",
    "\n",
    "outputs = []\n",
    "sol = Solution();\n",
    "\n",
    "for case in zip(testcases, expected):\n",
    "    print(\"Input:    \" + str(case[0]))\n",
    "    print(\"Output:   \" + str(case[0][:sol.compress(case[0])]))\n",
    "    print(\"Expected: \" + str(case[1]) + \"\\n\")"
   ]
  }
 ],
 "metadata": {
  "kernelspec": {
   "display_name": "Python 3",
   "language": "python",
   "name": "python3"
  },
  "language_info": {
   "codemirror_mode": {
    "name": "ipython",
    "version": 3
   },
   "file_extension": ".py",
   "mimetype": "text/x-python",
   "name": "python",
   "nbconvert_exporter": "python",
   "pygments_lexer": "ipython3",
   "version": "3.7.3"
  }
 },
 "nbformat": 4,
 "nbformat_minor": 2
}
