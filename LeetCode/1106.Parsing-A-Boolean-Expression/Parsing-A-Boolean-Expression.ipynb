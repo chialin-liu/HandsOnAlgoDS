{
 "cells": [
  {
   "cell_type": "markdown",
   "metadata": {},
   "source": [
    "# 1106. Parsing A Boolean Expression\n",
    "#### https://leetcode.com/problems/parsing-a-boolean-expression/"
   ]
  },
  {
   "cell_type": "markdown",
   "metadata": {},
   "source": [
    "# Approach 1"
   ]
  },
  {
   "cell_type": "code",
   "execution_count": 1,
   "metadata": {},
   "outputs": [],
   "source": [
    "class Solution(object):\n",
    "    def parseBoolExpr(self, expression):\n",
    "        \"\"\"\n",
    "        :type expression: str\n",
    "        :rtype: bool\n",
    "        \"\"\"\n",
    "        op = []\n",
    "        b = []\n",
    "        ans = False\n",
    "        for exp in expression:\n",
    "            if exp == \"|\" or exp == \"&\" or exp == \"!\":\n",
    "                op.append(exp)\n",
    "            elif exp == \")\":\n",
    "                t_cnt = f_cnt = 0\n",
    "                while b and b[-1] != \"(\":\n",
    "                    cur_b = b.pop()\n",
    "                    if cur_b == \"t\": t_cnt += 1\n",
    "                    if cur_b == \"f\": f_cnt += 1\n",
    "                    \n",
    "                b.pop()\n",
    "                cur_op = op.pop()\n",
    "                if cur_op == \"&\":\n",
    "                    if f_cnt > 0: b.append(\"f\")\n",
    "                    else: b.append(\"t\")\n",
    "                if cur_op == \"|\":\n",
    "                    if t_cnt > 0: b.append(\"t\")\n",
    "                    else: b.append(\"f\")\n",
    "                if cur_op == \"!\":\n",
    "                    if t_cnt > 0: b.append(\"f\")\n",
    "                    else: b.append(\"t\")\n",
    "            else:\n",
    "                b.append(exp)\n",
    "        if b[-1] == \"t\":\n",
    "            return True\n",
    "        return False"
   ]
  },
  {
   "cell_type": "markdown",
   "metadata": {},
   "source": [
    "# Verification"
   ]
  },
  {
   "cell_type": "code",
   "execution_count": 3,
   "metadata": {},
   "outputs": [
    {
     "name": "stdout",
     "output_type": "stream",
     "text": [
      "Input:    !(f)\n",
      "Output:   True\n",
      "Expected: True\n",
      "\n",
      "Input:    |(f,t)\n",
      "Output:   True\n",
      "Expected: True\n",
      "\n",
      "Input:    &(t,f)\n",
      "Output:   False\n",
      "Expected: False\n",
      "\n",
      "Input:    |(&(t,f,t),!(t))\n",
      "Output:   False\n",
      "Expected: False\n",
      "\n"
     ]
    }
   ],
   "source": [
    "testcases = [\"!(f)\", \"|(f,t)\", \"&(t,f)\", \"|(&(t,f,t),!(t))\"]\n",
    "expected = [True, True, False, False]\n",
    "\n",
    "outputs = []\n",
    "sol = Solution();\n",
    "\n",
    "for case in zip(testcases, expected):\n",
    "    print(\"Input:    \" + str(case[0]))\n",
    "    print(\"Output:   \" + str(sol.parseBoolExpr(case[0])))\n",
    "    print(\"Expected: \" + str(case[1]) + \"\\n\")"
   ]
  }
 ],
 "metadata": {
  "kernelspec": {
   "display_name": "Python 3",
   "language": "python",
   "name": "python3"
  },
  "language_info": {
   "codemirror_mode": {
    "name": "ipython",
    "version": 3
   },
   "file_extension": ".py",
   "mimetype": "text/x-python",
   "name": "python",
   "nbconvert_exporter": "python",
   "pygments_lexer": "ipython3",
   "version": "3.7.3"
  }
 },
 "nbformat": 4,
 "nbformat_minor": 2
}
