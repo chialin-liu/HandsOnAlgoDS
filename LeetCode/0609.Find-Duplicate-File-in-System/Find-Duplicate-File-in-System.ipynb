{
 "cells": [
  {
   "cell_type": "markdown",
   "metadata": {},
   "source": [
    "# 609. Find Duplicate File in System\n",
    "#### https://leetcode.com/problems/find-duplicate-file-in-system/"
   ]
  },
  {
   "cell_type": "markdown",
   "metadata": {},
   "source": [
    "# Approach 1"
   ]
  },
  {
   "cell_type": "code",
   "execution_count": 1,
   "metadata": {},
   "outputs": [],
   "source": [
    "from collections import defaultdict\n",
    "class Solution(object):\n",
    "    def findDuplicate(self, paths):\n",
    "        \"\"\"\n",
    "        :type paths: List[str]\n",
    "        :rtype: List[List[str]]\n",
    "        \"\"\"\n",
    "        filedict = defaultdict(list)\n",
    "        for path in paths:\n",
    "            pathlist = path.split(\" \")\n",
    "            directory = pathlist[0]\n",
    "            for i in range(1, len(pathlist)):\n",
    "                name, content = pathlist[i].split(\"(\")\n",
    "                filedict[content].append(directory + \"/\" + name)\n",
    "        output = []\n",
    "        for content in filedict:\n",
    "            if len(filedict[content]) > 1:\n",
    "                output.append(filedict[content])\n",
    "        return output   "
   ]
  },
  {
   "cell_type": "markdown",
   "metadata": {},
   "source": [
    "# Verification"
   ]
  },
  {
   "cell_type": "code",
   "execution_count": 2,
   "metadata": {},
   "outputs": [
    {
     "name": "stdout",
     "output_type": "stream",
     "text": [
      "Input:    ['root/a 1.txt(abcd) 2.txt(efgh)', 'root/c 3.txt(abcd)', 'root/c/d 4.txt(efgh)', 'root 4.txt(efgh)']\n",
      "Output:   [['root/a/1.txt', 'root/c/3.txt'], ['root/a/2.txt', 'root/c/d/4.txt', 'root/4.txt']]\n",
      "Expected: [['root/a/2.txt', 'root/c/d/4.txt', 'root/4.txt'], ['root/a/1.txt', 'root/c/3.txt']]\n",
      "\n",
      "Input:    ['root/a 1.txt(abcd) 2.txt(efsfgh)', 'root/c 3.txt(abdfcd)', 'root/c/d 4.txt(efggdfh)']\n",
      "Output:   []\n",
      "Expected: []\n",
      "\n"
     ]
    }
   ],
   "source": [
    "import pandas as pd\n",
    "testcases = [[\"root/a 1.txt(abcd) 2.txt(efgh)\", \"root/c 3.txt(abcd)\", \"root/c/d 4.txt(efgh)\", \"root 4.txt(efgh)\"], [\"root/a 1.txt(abcd) 2.txt(efsfgh)\",\"root/c 3.txt(abdfcd)\",\"root/c/d 4.txt(efggdfh)\"]]\n",
    "expected = [[[\"root/a/2.txt\",\"root/c/d/4.txt\",\"root/4.txt\"],[\"root/a/1.txt\",\"root/c/3.txt\"]], []]\n",
    "\n",
    "#testcases = testcases[:1]\n",
    "#expected = expected[:1]\n",
    "\n",
    "outputs = []\n",
    "sol = Solution();\n",
    "\n",
    "for case in zip(testcases, expected):\n",
    "    print(\"Input:    \" + str(case[0]))\n",
    "    print(\"Output:   \" + str(sol.findDuplicate(case[0])))\n",
    "    print(\"Expected: \" + str(case[1]) + \"\\n\")"
   ]
  }
 ],
 "metadata": {
  "kernelspec": {
   "display_name": "Python 3",
   "language": "python",
   "name": "python3"
  },
  "language_info": {
   "codemirror_mode": {
    "name": "ipython",
    "version": 3
   },
   "file_extension": ".py",
   "mimetype": "text/x-python",
   "name": "python",
   "nbconvert_exporter": "python",
   "pygments_lexer": "ipython3",
   "version": "3.7.3"
  }
 },
 "nbformat": 4,
 "nbformat_minor": 2
}
