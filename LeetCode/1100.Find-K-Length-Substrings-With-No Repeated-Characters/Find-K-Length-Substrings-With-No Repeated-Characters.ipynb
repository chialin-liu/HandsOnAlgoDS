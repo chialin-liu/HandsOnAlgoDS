{
 "cells": [
  {
   "cell_type": "markdown",
   "metadata": {},
   "source": [
    "# 1100. Find K-Length Substrings With No Repeated Characters\n",
    "#### https://leetcode.com/problems/find-k-length-substrings-with-no-repeated-characters/"
   ]
  },
  {
   "cell_type": "markdown",
   "metadata": {},
   "source": [
    "# Approach 1"
   ]
  },
  {
   "cell_type": "code",
   "execution_count": 1,
   "metadata": {},
   "outputs": [],
   "source": [
    "class Solution(object):\n",
    "    def numKLenSubstrNoRepeats(self, S, K):\n",
    "        \"\"\"\n",
    "        :type S: str\n",
    "        :type K: int\n",
    "        :rtype: int\n",
    "        \"\"\"\n",
    "        count = {}\n",
    "        ans = left = cnt = 0\n",
    "        for i, c in enumerate(S):\n",
    "            count[c] = count.get(c, 0) + 1\n",
    "            if count[c] == 1:\n",
    "                cnt += 1\n",
    "            if i >= K - 1:\n",
    "                if cnt == K:\n",
    "                    ans += 1\n",
    "                count[S[i - K + 1]] -= 1\n",
    "                if count[S[i - K + 1]] == 0:\n",
    "                    cnt -= 1\n",
    "        return ans"
   ]
  },
  {
   "cell_type": "markdown",
   "metadata": {},
   "source": [
    "# Verification"
   ]
  },
  {
   "cell_type": "code",
   "execution_count": 2,
   "metadata": {},
   "outputs": [
    {
     "name": "stdout",
     "output_type": "stream",
     "text": [
      "Input:    ('havefunonleetcode', 5)\n",
      "Output:   6\n",
      "Expected: 6\n",
      "\n",
      "Input:    ('home', 5)\n",
      "Output:   0\n",
      "Expected: 0\n",
      "\n"
     ]
    }
   ],
   "source": [
    "testcases = [(\"havefunonleetcode\",5),(\"home\",5)]\n",
    "expected = [6,0]\n",
    "\n",
    "outputs = []\n",
    "sol = Solution();\n",
    "\n",
    "for case in zip(testcases, expected):\n",
    "    print(\"Input:    \" + str(case[0]))\n",
    "    print(\"Output:   \" + str(sol.numKLenSubstrNoRepeats(case[0][0], case[0][1])))\n",
    "    print(\"Expected: \" + str(case[1]) + \"\\n\")"
   ]
  }
 ],
 "metadata": {
  "kernelspec": {
   "display_name": "Python 3",
   "language": "python",
   "name": "python3"
  },
  "language_info": {
   "codemirror_mode": {
    "name": "ipython",
    "version": 3
   },
   "file_extension": ".py",
   "mimetype": "text/x-python",
   "name": "python",
   "nbconvert_exporter": "python",
   "pygments_lexer": "ipython3",
   "version": "3.7.3"
  }
 },
 "nbformat": 4,
 "nbformat_minor": 2
}
