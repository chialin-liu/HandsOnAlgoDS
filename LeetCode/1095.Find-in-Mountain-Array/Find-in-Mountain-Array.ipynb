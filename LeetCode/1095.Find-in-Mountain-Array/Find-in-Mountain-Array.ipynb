{
 "cells": [
  {
   "cell_type": "markdown",
   "metadata": {},
   "source": [
    "# 1095. Find in Mountain Array\n",
    "#### https://leetcode.com/problems/find-in-mountain-array/"
   ]
  },
  {
   "cell_type": "markdown",
   "metadata": {},
   "source": [
    "# Approach 1"
   ]
  },
  {
   "cell_type": "code",
   "execution_count": 5,
   "metadata": {},
   "outputs": [],
   "source": [
    "# \"\"\"\n",
    "# This is MountainArray's API interface.\n",
    "# You should not implement it, or speculate about its implementation\n",
    "# \"\"\"\n",
    "#class MountainArray(object):\n",
    "#    def get(self, index):\n",
    "#        \"\"\"\n",
    "#        :type index: int\n",
    "#        :rtype int\n",
    "#        \"\"\"\n",
    "#\n",
    "#    def length(self):\n",
    "#        \"\"\"\n",
    "#        :rtype int\n",
    "#        \"\"\"\n",
    "\n",
    "class Solution(object):\n",
    "    def findInMountainArray(self, target, mountain_arr):\n",
    "        \"\"\"\n",
    "        :type target: integer\n",
    "        :type mountain_arr: MountainArray\n",
    "        :rtype: integer\n",
    "        \"\"\"\n",
    "        n = mountain_arr.length()\n",
    "        left, right = 0, n-1\n",
    "\n",
    "    \n",
    "        while left < right:\n",
    "            mid = (left + right) // 2\n",
    "            if (mountain_arr.get(mid) > mountain_arr.get(mid + 1)):\n",
    "                right = mid\n",
    "            else:\n",
    "                left = mid + 1\n",
    "        peak = mountain_arr.get(left)\n",
    "        peak = left\n",
    "        left, right = 0, peak\n",
    "        while left < right:\n",
    "            mid = (left + right) // 2\n",
    "            if target > mountain_arr.get(mid):\n",
    "                left = mid + 1\n",
    "            else:\n",
    "                right = mid\n",
    "        if mountain_arr.get(left) == target: return left\n",
    "        left, right = peak + 1, n - 1\n",
    "        while left < right:\n",
    "            mid = (left + right) // 2\n",
    "            if target < mountain_arr.get(mid):\n",
    "                left = mid + 1\n",
    "            else:\n",
    "                right = mid\n",
    "        if mountain_arr.get(left) == target: return left\n",
    "        return -1"
   ]
  },
  {
   "cell_type": "markdown",
   "metadata": {},
   "source": [
    "# Verification"
   ]
  },
  {
   "cell_type": "code",
   "execution_count": 8,
   "metadata": {},
   "outputs": [
    {
     "name": "stdout",
     "output_type": "stream",
     "text": [
      "Input:    ([1, 2, 3, 4, 5, 3, 1], 3)\n",
      "Output:   2\n",
      "Expected: 2\n",
      "\n",
      "Input:    ([0, 1, 2, 4, 2, 1], 3)\n",
      "Output:   -1\n",
      "Expected: -1\n",
      "\n"
     ]
    }
   ],
   "source": [
    "class MountainArray(list):\n",
    "    def get(self, index):\n",
    "        return self[index]\n",
    "\n",
    "    def length(self):\n",
    "        return len(self)\n",
    "    \n",
    "testcases = [([1,2,3,4,5,3,1], 3),([0,1,2,4,2,1],3)]\n",
    "expected = [2, -1]\n",
    "\n",
    "outputs = []\n",
    "sol = Solution();\n",
    "\n",
    "for case in zip(testcases, expected):\n",
    "    print(\"Input:    \" + str(case[0]))\n",
    "    print(\"Output:   \" + str(sol.findInMountainArray(case[0][1], MountainArray(case[0][0]))))\n",
    "    print(\"Expected: \" + str(case[1]) + \"\\n\")"
   ]
  }
 ],
 "metadata": {
  "kernelspec": {
   "display_name": "Python 3",
   "language": "python",
   "name": "python3"
  },
  "language_info": {
   "codemirror_mode": {
    "name": "ipython",
    "version": 3
   },
   "file_extension": ".py",
   "mimetype": "text/x-python",
   "name": "python",
   "nbconvert_exporter": "python",
   "pygments_lexer": "ipython3",
   "version": "3.7.3"
  }
 },
 "nbformat": 4,
 "nbformat_minor": 2
}
