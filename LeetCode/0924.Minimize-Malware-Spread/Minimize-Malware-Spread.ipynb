{
 "cells": [
  {
   "cell_type": "markdown",
   "metadata": {},
   "source": [
    "# 924. Minimize Malware Spread\n",
    "#### https://leetcode.com/problems/minimize-malware-spread/"
   ]
  },
  {
   "cell_type": "markdown",
   "metadata": {},
   "source": [
    "# Approach 1: Union Find"
   ]
  },
  {
   "cell_type": "code",
   "execution_count": 3,
   "metadata": {},
   "outputs": [],
   "source": [
    "from collections import Counter\n",
    "class Solution(object):\n",
    "    def minMalwareSpread(self, graph, initial):\n",
    "        \"\"\"\n",
    "        :type graph: List[List[int]]\n",
    "        :type initial: List[int]\n",
    "        :rtype: int\n",
    "        \"\"\"\n",
    "        N = len(graph)\n",
    "        dsu = DSU(N)\n",
    "        for i in range(N):\n",
    "            for j in range(i):\n",
    "                if graph[i][j]:\n",
    "                    dsu.union(i, j)\n",
    "        count = Counter(dsu.find(u) for u in initial)\n",
    "        \n",
    "        max_size = -1\n",
    "        ans = min(initial)\n",
    "        \n",
    "        for node in initial:\n",
    "            root = dsu.find(node)\n",
    "            if count[root] == 1:\n",
    "                if dsu.size(root) > max_size:\n",
    "                    max_size = dsu.size(root)\n",
    "                    ans = node\n",
    "                elif dsu.size(root) == max_size and node < ans:\n",
    "                    ans = node\n",
    "        return ans\n",
    "    \n",
    "class DSU(object):\n",
    "    def __init__(self, N):\n",
    "        self.parent = [i for i in range(N)]\n",
    "        self.sz = [1] * N\n",
    "        \n",
    "    def find(self, a):\n",
    "        while self.parent[a] != a:\n",
    "            a = self.parent[a]\n",
    "        return a\n",
    "    \n",
    "    def union(self, a, b):\n",
    "        ra = self.find(a)\n",
    "        rb = self.find(b)\n",
    "        #print(ra, rb)\n",
    "        self.parent[ra] = rb\n",
    "        self.sz[rb] += self.sz[ra]\n",
    "    \n",
    "    def size(self, a):\n",
    "        return self.sz[a]"
   ]
  },
  {
   "cell_type": "markdown",
   "metadata": {},
   "source": [
    "# Verification"
   ]
  },
  {
   "cell_type": "code",
   "execution_count": 4,
   "metadata": {},
   "outputs": [
    {
     "name": "stdout",
     "output_type": "stream",
     "text": [
      "Input:    ([[1, 1, 0], [1, 1, 0], [0, 0, 1]], [0, 1])\n",
      "Output:   0\n",
      "Expected: 0\n",
      "\n",
      "Input:    ([[1, 0, 0], [0, 1, 0], [0, 0, 1]], [0, 2])\n",
      "Output:   0\n",
      "Expected: 0\n",
      "\n",
      "Input:    ([[1, 1, 1], [1, 1, 1], [1, 1, 1]], [1, 2])\n",
      "Output:   1\n",
      "Expected: 1\n",
      "\n"
     ]
    }
   ],
   "source": [
    "import pandas as pd\n",
    "testcases = [([[1,1,0],[1,1,0],[0,0,1]], [0,1]), ([[1,0,0],[0,1,0],[0,0,1]], [0,2]), ([[1,1,1],[1,1,1],[1,1,1]], [1,2])]\n",
    "expected = [0, 0, 1]\n",
    "\n",
    "#testcases = testcases[:1]\n",
    "#expected = expected[:1]\n",
    "\n",
    "outputs = []\n",
    "sol = Solution();\n",
    "\n",
    "for case in zip(testcases, expected):\n",
    "    print(\"Input:    \" + str(case[0]))\n",
    "    print(\"Output:   \" + str(sol.minMalwareSpread(case[0][0], case[0][1])))\n",
    "    print(\"Expected: \" + str(case[1]) + \"\\n\")"
   ]
  }
 ],
 "metadata": {
  "kernelspec": {
   "display_name": "Python 3",
   "language": "python",
   "name": "python3"
  },
  "language_info": {
   "codemirror_mode": {
    "name": "ipython",
    "version": 3
   },
   "file_extension": ".py",
   "mimetype": "text/x-python",
   "name": "python",
   "nbconvert_exporter": "python",
   "pygments_lexer": "ipython3",
   "version": "3.7.3"
  }
 },
 "nbformat": 4,
 "nbformat_minor": 2
}
