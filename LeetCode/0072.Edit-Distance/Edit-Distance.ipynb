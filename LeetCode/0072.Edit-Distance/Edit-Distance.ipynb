{
 "cells": [
  {
   "cell_type": "markdown",
   "metadata": {},
   "source": [
    "# 72. Edit Distance\n",
    "#### https://leetcode.com/problems/edit-distance/"
   ]
  },
  {
   "cell_type": "markdown",
   "metadata": {},
   "source": [
    "# Approach 1: Dynamic Programming"
   ]
  },
  {
   "cell_type": "code",
   "execution_count": 4,
   "metadata": {},
   "outputs": [],
   "source": [
    "class Solution(object):\n",
    "    def minDistance(self, word1, word2):\n",
    "        \"\"\"\n",
    "        :type word1: str\n",
    "        :type word2: str\n",
    "        :rtype: int\n",
    "        \"\"\"\n",
    "        m, n = len(word1), len(word2)\n",
    "        dp = [[0] * (n + 1) for _ in range(m + 1)]\n",
    "        for i in range(m + 1): dp[i][0] = i\n",
    "        for j in range(n + 1): dp[0][j] = j\n",
    "        for i in range(1, m + 1):\n",
    "            for j in range(1, n + 1):\n",
    "                if word1[i - 1] == word2[j - 1]:\n",
    "                    dp[i][j] = dp[i - 1][j - 1]\n",
    "                else:\n",
    "                    dp[i][j] = min(dp[i - 1][j - 1], dp[i][j - 1], dp[i - 1][j]) + 1\n",
    "        return dp[-1][-1]"
   ]
  },
  {
   "cell_type": "markdown",
   "metadata": {},
   "source": [
    "# Approach 2: Memorized DFS"
   ]
  },
  {
   "cell_type": "code",
   "execution_count": 5,
   "metadata": {},
   "outputs": [],
   "source": [
    "class Solution(object):\n",
    "    def minDistance(self, word1, word2):\n",
    "        \"\"\"\n",
    "        :type word1: str\n",
    "        :type word2: str\n",
    "        :rtype: int\n",
    "        \"\"\"\n",
    "        m, n = len(word1), len(word2)\n",
    "        memo = [[0] * (n + 1) for _ in range(m + 1)]\n",
    "        return self.dfs(word1, 0, word2, 0, memo)\n",
    "        \n",
    "    def dfs(self, word1, i, word2, j, memo):\n",
    "        if i == len(word1): return len(word2) - j\n",
    "        if j == len(word2): return len(word1) - i\n",
    "        if memo[i][j] > 0: return memo[i][j]\n",
    "        if word1[i] == word2[j]:\n",
    "            return self.dfs(word1, i + 1, word2, j + 1, memo)\n",
    "        else:\n",
    "            insert = self.dfs(word1, i, word2, j + 1, memo)\n",
    "            delete = self.dfs(word1, i + 1, word2, j, memo)\n",
    "            replace = self.dfs(word1, i + 1, word2, j + 1, memo)\n",
    "            memo[i][j] = min(insert, delete, replace) + 1\n",
    "            return memo[i][j]"
   ]
  },
  {
   "cell_type": "markdown",
   "metadata": {},
   "source": [
    "# Verification"
   ]
  },
  {
   "cell_type": "code",
   "execution_count": 6,
   "metadata": {},
   "outputs": [
    {
     "name": "stdout",
     "output_type": "stream",
     "text": [
      "Input:    ('horse', 'ros')\n",
      "Output:   3\n",
      "Expected: 3\n",
      "\n",
      "Input:    ('intention', 'execution')\n",
      "Output:   5\n",
      "Expected: 5\n",
      "\n"
     ]
    }
   ],
   "source": [
    "import pandas as pd\n",
    "testcases = [(\"horse\",\"ros\"), (\"intention\",\"execution\")]\n",
    "expected = [3,5]\n",
    "\n",
    "outputs = []\n",
    "sol = Solution();\n",
    "\n",
    "for case in zip(testcases, expected):\n",
    "    print(\"Input:    \" + str(case[0]))\n",
    "    print(\"Output:   \" + str(sol.minDistance(case[0][0], case[0][1])))\n",
    "    print(\"Expected: \" + str(case[1]) + \"\\n\")"
   ]
  }
 ],
 "metadata": {
  "kernelspec": {
   "display_name": "Python 3",
   "language": "python",
   "name": "python3"
  },
  "language_info": {
   "codemirror_mode": {
    "name": "ipython",
    "version": 3
   },
   "file_extension": ".py",
   "mimetype": "text/x-python",
   "name": "python",
   "nbconvert_exporter": "python",
   "pygments_lexer": "ipython3",
   "version": "3.7.3"
  }
 },
 "nbformat": 4,
 "nbformat_minor": 2
}
