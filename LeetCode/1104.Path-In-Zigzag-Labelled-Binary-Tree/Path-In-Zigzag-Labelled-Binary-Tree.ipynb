{
 "cells": [
  {
   "cell_type": "markdown",
   "metadata": {},
   "source": [
    "# 1104. Path In Zigzag Labelled Binary Tree\n",
    "#### https://leetcode.com/problems/path-in-zigzag-labelled-binary-tree/"
   ]
  },
  {
   "cell_type": "markdown",
   "metadata": {},
   "source": [
    "# Approach 1"
   ]
  },
  {
   "cell_type": "code",
   "execution_count": 1,
   "metadata": {},
   "outputs": [],
   "source": [
    "class Solution(object):\n",
    "    def pathInZigZagTree(self, label):\n",
    "        \"\"\"\n",
    "        :type label: int\n",
    "        :rtype: List[int]\n",
    "        \"\"\"\n",
    "        ans = []\n",
    "        while label > 0:\n",
    "            ans = [label] + ans\n",
    "            label = label // 2\n",
    "        n = len(ans)\n",
    "        for i in range(n):\n",
    "            if i % 2 == n % 2:\n",
    "                ans[i] = pow(2, i + 1) - ans[i] % pow(2, i) - 1\n",
    "        return ans"
   ]
  },
  {
   "cell_type": "markdown",
   "metadata": {},
   "source": [
    "# Verification"
   ]
  },
  {
   "cell_type": "code",
   "execution_count": 2,
   "metadata": {},
   "outputs": [
    {
     "name": "stdout",
     "output_type": "stream",
     "text": [
      "Input:    14\n",
      "Output:   [1, 3, 4, 14]\n",
      "Expected: [1, 3, 4, 14]\n",
      "\n",
      "Input:    26\n",
      "Output:   [1, 2, 6, 10, 26]\n",
      "Expected: [1, 2, 6, 10, 26]\n",
      "\n"
     ]
    }
   ],
   "source": [
    "testcases = [14,26]\n",
    "expected = [[1,3,4,14],[1,2,6,10,26]]\n",
    "\n",
    "outputs = []\n",
    "sol = Solution();\n",
    "\n",
    "for case in zip(testcases, expected):\n",
    "    print(\"Input:    \" + str(case[0]))\n",
    "    print(\"Output:   \" + str(sol.pathInZigZagTree(case[0])))\n",
    "    print(\"Expected: \" + str(case[1]) + \"\\n\")"
   ]
  }
 ],
 "metadata": {
  "kernelspec": {
   "display_name": "Python 3",
   "language": "python",
   "name": "python3"
  },
  "language_info": {
   "codemirror_mode": {
    "name": "ipython",
    "version": 3
   },
   "file_extension": ".py",
   "mimetype": "text/x-python",
   "name": "python",
   "nbconvert_exporter": "python",
   "pygments_lexer": "ipython3",
   "version": "3.7.3"
  }
 },
 "nbformat": 4,
 "nbformat_minor": 2
}
