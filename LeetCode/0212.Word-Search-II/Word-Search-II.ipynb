{
 "cells": [
  {
   "cell_type": "markdown",
   "metadata": {},
   "source": [
    "# 212. Word Search II\n",
    "#### https://leetcode.com/problems/word-search-ii/"
   ]
  },
  {
   "cell_type": "markdown",
   "metadata": {},
   "source": [
    "# Approach 1"
   ]
  },
  {
   "cell_type": "code",
   "execution_count": 59,
   "metadata": {},
   "outputs": [],
   "source": [
    "class TrieNode(object):\n",
    "    def __init__(self):\n",
    "        self.children = {}\n",
    "        self.word = \"\"\n",
    "        \n",
    "class Trie(object):\n",
    "    def __init__(self):\n",
    "        self.root = TrieNode()\n",
    "        self.index = 0\n",
    "        \n",
    "    def insert(self, word):\n",
    "        node = self.root\n",
    "        #print(\"insert \" + word)\n",
    "        for c in word:\n",
    "            if c not in node.children:\n",
    "                node.children[c] = TrieNode()\n",
    "            node = node.children[c]\n",
    "        #print(word)\n",
    "        node.word = word\n",
    "    \n",
    "class Solution(object):\n",
    "    def findWords(self, board, words):\n",
    "        \"\"\"\n",
    "        :type board: List[List[str]]\n",
    "        :type words: List[str]\n",
    "        :rtype: List[str]\n",
    "        \"\"\"\n",
    "        dictionary = Trie()\n",
    "        for word in words:\n",
    "            dictionary.insert(word)\n",
    "        res = []\n",
    "        node = dictionary.root\n",
    "        for i in range(len(board)):\n",
    "            for j in range(len(board[i])):\n",
    "                self.helper(board, i, j, node, res)   \n",
    "        return list(set(res))\n",
    "    \n",
    "    def helper(self, board, i, j, node, res):\n",
    "        if board[i][j] not in node.children: return\n",
    "        node = node.children[board[i][j]]    \n",
    "        if node.word:\n",
    "            res.append(node.word)\n",
    "        tmp = board[i][j]\n",
    "        board[i][j] = \"*\"\n",
    "        for di, dj in [(0, -1), (0, 1), (-1, 0), (1, 0)]:\n",
    "            ni, nj = i + di, j + dj\n",
    "            if 0 <= ni < len(board) and 0 <= nj < len(board[0]) and board[ni][nj] != \"*\":\n",
    "                self.helper(board, ni, nj, node, res)\n",
    "        board[i][j] = tmp\n",
    "        return  "
   ]
  },
  {
   "cell_type": "markdown",
   "metadata": {},
   "source": [
    "# Verification"
   ]
  },
  {
   "cell_type": "code",
   "execution_count": 60,
   "metadata": {},
   "outputs": [
    {
     "name": "stdout",
     "output_type": "stream",
     "text": [
      "Input: ([['o', 'a', 'a', 'n'], ['e', 't', 'a', 'e'], ['i', 'h', 'k', 'r'], ['i', 'f', 'l', 'v']], ['oath', 'pea', 'eat', 'rain'])\n",
      "Output: ['oath', 'eat']\n",
      "Expected: ['eat', 'oath']\n",
      "\n",
      "Input: ([['a', 'a']], ['aaa'])\n",
      "Output: []\n",
      "Expected: []\n",
      "\n",
      "Input: ([['a']], ['a'])\n",
      "Output: ['a']\n",
      "Expected: ['a']\n",
      "\n"
     ]
    }
   ],
   "source": [
    "testcases = [([\n",
    "  ['o','a','a','n'],\n",
    "  ['e','t','a','e'],\n",
    "  ['i','h','k','r'],\n",
    "  ['i','f','l','v']\n",
    "],[\"oath\",\"pea\",\"eat\",\"rain\"]),\n",
    "([[\"a\",\"a\"]],[\"aaa\"]),([[\"a\"]],[\"a\"])]\n",
    "answers = [[\"eat\",\"oath\"],[],[\"a\"]]\n",
    "\n",
    "sol = Solution();\n",
    "for case in zip(testcases, answers):\n",
    "    print(\"Input: \" + str(case[0]))\n",
    "    print(\"Output: \" + str(sol.findWords(case[0][0],case[0][1])))\n",
    "    print(\"Expected: \" + str(case[1]) + \"\\n\")"
   ]
  }
 ],
 "metadata": {
  "kernelspec": {
   "display_name": "Python 3",
   "language": "python",
   "name": "python3"
  },
  "language_info": {
   "codemirror_mode": {
    "name": "ipython",
    "version": 3
   },
   "file_extension": ".py",
   "mimetype": "text/x-python",
   "name": "python",
   "nbconvert_exporter": "python",
   "pygments_lexer": "ipython3",
   "version": "3.7.3"
  }
 },
 "nbformat": 4,
 "nbformat_minor": 2
}
