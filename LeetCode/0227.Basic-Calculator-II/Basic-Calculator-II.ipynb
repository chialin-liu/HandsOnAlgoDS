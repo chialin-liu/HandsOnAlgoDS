{
 "cells": [
  {
   "cell_type": "markdown",
   "metadata": {},
   "source": [
    "# 227. Basic Calculator II\n",
    "#### https://leetcode.com/problems/basic-calculator-ii/"
   ]
  },
  {
   "cell_type": "markdown",
   "metadata": {},
   "source": [
    "# Approach 1: Use Stack"
   ]
  },
  {
   "cell_type": "code",
   "execution_count": 24,
   "metadata": {},
   "outputs": [],
   "source": [
    "class Solution:\n",
    "    def calculate(self, s: str) -> int:\n",
    "        num = 0\n",
    "        op = \"+\"\n",
    "        stack = []\n",
    "        for c in s:\n",
    "            if c in \"1234567890\":\n",
    "                num = num * 10 + int(c)\n",
    "            elif c in \"+-*/\":\n",
    "                self.update(stack, op, num)\n",
    "                op, num = c, 0\n",
    "        self.update(stack, op, num)\n",
    "\n",
    "        return sum(stack)\n",
    "    \n",
    "    def update(self, stack, op, num):\n",
    "        if op == \"+\":\n",
    "            stack.append(num)\n",
    "        if op == \"-\":\n",
    "            stack.append(-num)\n",
    "        if op == \"*\":\n",
    "            stack[-1] *= num\n",
    "        if op == \"/\":\n",
    "            if stack[-1] < 0 and stack[-1] % num != 0:\n",
    "                stack[-1] = stack[-1] // num + 1\n",
    "            else:\n",
    "                stack[-1] //= num"
   ]
  },
  {
   "cell_type": "markdown",
   "metadata": {},
   "source": [
    "#  Approach 2: Reduce Space Complexity to O(1)"
   ]
  },
  {
   "cell_type": "code",
   "execution_count": 21,
   "metadata": {},
   "outputs": [],
   "source": [
    "class Solution:\n",
    "    def calculate(self, s: str) -> int:\n",
    "        ans = num = cur = 0\n",
    "        op = \"+\"\n",
    "        stack = []\n",
    "        for c in s:\n",
    "            if c in \"1234567890\":\n",
    "                num = num * 10 + int(c)\n",
    "            elif c in \"+-*/\":\n",
    "                cur = self.update(op, num, cur)\n",
    "                op, num = c, 0\n",
    "                if c in \"+-\":\n",
    "                    ans += cur\n",
    "                    cur = 0\n",
    "        cur = self.update(op, num, cur)\n",
    "        ans += cur\n",
    "        return ans\n",
    "    \n",
    "    def update(self, op, num, cur):\n",
    "        if op == \"+\":\n",
    "            cur += num\n",
    "        if op == \"-\":\n",
    "            cur -= num\n",
    "        if op == \"*\":\n",
    "            cur *= num\n",
    "        if op == \"/\":\n",
    "            if cur // num < 0 and cur % num != 0:\n",
    "                cur = cur // num + 1\n",
    "            else:\n",
    "                cur //= num\n",
    "        return cur    "
   ]
  },
  {
   "cell_type": "markdown",
   "metadata": {},
   "source": [
    "# Verification"
   ]
  },
  {
   "cell_type": "code",
   "execution_count": 25,
   "metadata": {},
   "outputs": [
    {
     "name": "stdout",
     "output_type": "stream",
     "text": [
      "       Input  Output  Expected\n",
      "0      3+2*2       7         7\n",
      "1       3/2        1         1\n",
      "2   3+5 / 2        5         5\n",
      "3        0/1       0         0\n",
      "4     14-3/2      13        13\n"
     ]
    }
   ],
   "source": [
    "import pandas as pd\n",
    "testcases = [\"3+2*2\", \" 3/2 \", \" 3+5 / 2 \", \"0/1\", \"14-3/2\"]\n",
    "expected = [7, 1, 5, 0, 13]\n",
    "outputs = []\n",
    "sol = Solution();\n",
    "for case in testcases:\n",
    "    outputs.append(sol.calculate(case))\n",
    "\n",
    "list_labels = ['Input', 'Output', 'Expected']\n",
    "list_cols = [testcases, outputs, expected]\n",
    "zipped = dict(zip(list_labels, list_cols))\n",
    "print(pd.DataFrame(zipped))"
   ]
  }
 ],
 "metadata": {
  "kernelspec": {
   "display_name": "Python 3",
   "language": "python",
   "name": "python3"
  },
  "language_info": {
   "codemirror_mode": {
    "name": "ipython",
    "version": 3
   },
   "file_extension": ".py",
   "mimetype": "text/x-python",
   "name": "python",
   "nbconvert_exporter": "python",
   "pygments_lexer": "ipython3",
   "version": "3.7.3"
  }
 },
 "nbformat": 4,
 "nbformat_minor": 2
}
