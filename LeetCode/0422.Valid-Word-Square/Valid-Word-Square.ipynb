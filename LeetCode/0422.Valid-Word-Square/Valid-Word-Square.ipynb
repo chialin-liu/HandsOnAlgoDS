{
 "cells": [
  {
   "cell_type": "markdown",
   "metadata": {},
   "source": [
    "# 422. Valid Word Square\n",
    "#### https://leetcode.com/problems/valid-word-square/"
   ]
  },
  {
   "cell_type": "markdown",
   "metadata": {},
   "source": [
    "# Approach 1"
   ]
  },
  {
   "cell_type": "code",
   "execution_count": 1,
   "metadata": {
    "scrolled": true
   },
   "outputs": [],
   "source": [
    "class Solution(object):\n",
    "    def validWordSquare(self, words):\n",
    "        \"\"\"\n",
    "        :type words: List[str]\n",
    "        :rtype: bool\n",
    "        \"\"\"\n",
    "        if not words: return False\n",
    "        if len(words) != len(words[0]): return False\n",
    "        \n",
    "        for i in range(len(words)):\n",
    "            for j in range(len(words[i])):\n",
    "                if j >= len(words) or i >= len(words[j]) or words[i][j] != words[j][i]:\n",
    "                    return False\n",
    "        return True"
   ]
  },
  {
   "cell_type": "markdown",
   "metadata": {},
   "source": [
    "# Verification "
   ]
  },
  {
   "cell_type": "code",
   "execution_count": 2,
   "metadata": {},
   "outputs": [
    {
     "name": "stdout",
     "output_type": "stream",
     "text": [
      "Input: ['abcd', 'bnrt', 'crmy', 'dtye']\n",
      "Output: True\n",
      "Expected: True\n",
      "\n",
      "Input: ['abcd', 'bnrt', 'crm', 'dt']\n",
      "Output: True\n",
      "Expected: True\n",
      "\n",
      "Input: ['ball', 'asee', 'lett', 'le']\n",
      "Output: False\n",
      "Expected: False\n",
      "\n",
      "Input: ['abc', 'b']\n",
      "Output: False\n",
      "Expected: False\n",
      "\n"
     ]
    }
   ],
   "source": [
    "testcases = [[\"abcd\",\"bnrt\",\"crmy\",\"dtye\"],[\"abcd\",\"bnrt\",\"crm\",\"dt\"],[\"ball\",\"asee\",\"lett\",\"le\"],[\"abc\",\"b\"]]\n",
    "answers = [True,True,False,False]\n",
    "\n",
    "sol = Solution();\n",
    "for case in zip(testcases, answers):\n",
    "    print(\"Input: \" + str(case[0]))\n",
    "    print(\"Output: \" + str(sol.validWordSquare(case[0])))\n",
    "    print(\"Expected: \" + str(case[1]) + \"\\n\")"
   ]
  }
 ],
 "metadata": {
  "kernelspec": {
   "display_name": "Python 3",
   "language": "python",
   "name": "python3"
  },
  "language_info": {
   "codemirror_mode": {
    "name": "ipython",
    "version": 3
   },
   "file_extension": ".py",
   "mimetype": "text/x-python",
   "name": "python",
   "nbconvert_exporter": "python",
   "pygments_lexer": "ipython3",
   "version": "3.7.3"
  }
 },
 "nbformat": 4,
 "nbformat_minor": 2
}
