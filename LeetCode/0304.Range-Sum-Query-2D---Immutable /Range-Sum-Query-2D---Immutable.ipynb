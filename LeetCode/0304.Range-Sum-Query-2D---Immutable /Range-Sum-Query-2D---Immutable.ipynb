{
 "cells": [
  {
   "cell_type": "markdown",
   "metadata": {},
   "source": [
    "# 304. Range Sum Query 2D - Immutable\n",
    "#### https://leetcode.com/problems/range-sum-query-2d-immutable/"
   ]
  },
  {
   "cell_type": "markdown",
   "metadata": {},
   "source": [
    "# Approach 1"
   ]
  },
  {
   "cell_type": "code",
   "execution_count": 55,
   "metadata": {},
   "outputs": [],
   "source": [
    "class NumMatrix(object):\n",
    "\n",
    "    def __init__(self, matrix):\n",
    "        \"\"\"\n",
    "        :type matrix: List[List[int]]\n",
    "        \"\"\"\n",
    "        if not matrix or not len(matrix[0]) : return\n",
    "        print(\"hihihi\")\n",
    "        print(matrix, len(matrix[0]))\n",
    "        m, n = len(matrix), len(matrix[0])\n",
    "        self.s = [[0] * (n + 1) for _ in range(m + 1)]\n",
    "\n",
    "        for i in range(1, m + 1):\n",
    "            for j in range(1, n + 1):\n",
    "                self.s[i][j] = self.s[i - 1][j] + self.s[i][j - 1] - self.s[i - 1][j - 1] + matrix[i - 1][j - 1] \n",
    "        print(self.s)       \n",
    "    def sumRegion(self, row1, col1, row2, col2):\n",
    "        \"\"\"\n",
    "        :type row1: int\n",
    "        :type col1: int\n",
    "        :type row2: int\n",
    "        :type col2: int\n",
    "        :rtype: int\n",
    "        \"\"\"\n",
    "        return self.s[row2 + 1][col2 + 1] -self.s[row1][col2 + 1] - self.s[row2 + 1][col1] + self.s[row1][col1]"
   ]
  },
  {
   "cell_type": "markdown",
   "metadata": {},
   "source": [
    "# Verification"
   ]
  },
  {
   "cell_type": "code",
   "execution_count": 56,
   "metadata": {},
   "outputs": [
    {
     "name": "stdout",
     "output_type": "stream",
     "text": [
      "hihihi\n",
      "[[3, 0, 1, 4, 2], [5, 6, 3, 2, 1], [1, 2, 0, 1, 5], [4, 1, 0, 1, 7], [1, 0, 3, 0, 5]] 5\n",
      "[[0, 0, 0, 0, 0, 0], [0, 3, 3, 4, 8, 10], [0, 8, 14, 18, 24, 27], [0, 9, 17, 21, 28, 36], [0, 13, 22, 26, 34, 49], [0, 14, 23, 30, 38, 58]]\n",
      "Input:    (['NumMatrix', 'sumRegion', 'sumRegion', 'sumRegion'], [[[3, 0, 1, 4, 2], [5, 6, 3, 2, 1], [1, 2, 0, 1, 5], [4, 1, 0, 1, 7], [1, 0, 3, 0, 5]], [2, 1, 4, 3], [1, 1, 2, 2], [1, 2, 2, 4]])\n",
      "Output:   [None, 8, 11, 12]\n",
      "Expected: [None, 8, 11, 12]\n",
      "\n",
      "Input:    (['NumMatrix'], [[[]]])\n",
      "Output:   [None]\n",
      "Expected: [None]\n",
      "\n",
      "hihihi\n",
      "[[-4, -5]] 2\n",
      "[[0, 0, 0], [0, -4, -9]]\n",
      "Input:    (['NumMatrix', 'sumRegion', 'sumRegion', 'sumRegion'], [[[-4, -5]], [0, 0, 0, 0], [0, 0, 0, 1], [0, 1, 0, 1]])\n",
      "Output:   [None, -4, -9, -5]\n",
      "Expected: [None, -4, -9, -5]\n",
      "\n"
     ]
    }
   ],
   "source": [
    "testcases = [([\"NumMatrix\",\"sumRegion\",\"sumRegion\",\"sumRegion\"],[[\n",
    "  [3, 0, 1, 4, 2],\n",
    "  [5, 6, 3, 2, 1],\n",
    "  [1, 2, 0, 1, 5],\n",
    "  [4, 1, 0, 1, 7],\n",
    "  [1, 0, 3, 0, 5]\n",
    "],[2,1,4,3],[1,1,2,2],[1,2,2,4]]), ([\"NumMatrix\"], [[[]]]), ([\"NumMatrix\",\"sumRegion\",\"sumRegion\",\"sumRegion\"],\n",
    "[[[-4,-5]],[0,0,0,0],[0,0,0,1],[0,1,0,1]])]\n",
    "expected = [[None,8,11,12], [None], [None, -4, -9, -5]]\n",
    "\n",
    "for case in zip(testcases, expected):\n",
    "    outputs = [None]\n",
    "    sol = NumMatrix(case[0][1][0])\n",
    "    print(\"Input:    \" + str(case[0]))\n",
    "    funcs = case[0][0]\n",
    "    params = case[0][1]\n",
    "    for i, func in enumerate(funcs):\n",
    "        if i: param = params[i]\n",
    "        if func == \"sumRegion\":\n",
    "            outputs.append(sol.sumRegion(param[0], param[1], param[2], param[3]))\n",
    "    print(\"Output:   \" + str(outputs))\n",
    "    print(\"Expected: \" + str(case[1]) + \"\\n\")"
   ]
  }
 ],
 "metadata": {
  "kernelspec": {
   "display_name": "Python 3",
   "language": "python",
   "name": "python3"
  },
  "language_info": {
   "codemirror_mode": {
    "name": "ipython",
    "version": 3
   },
   "file_extension": ".py",
   "mimetype": "text/x-python",
   "name": "python",
   "nbconvert_exporter": "python",
   "pygments_lexer": "ipython3",
   "version": "3.7.3"
  }
 },
 "nbformat": 4,
 "nbformat_minor": 2
}
