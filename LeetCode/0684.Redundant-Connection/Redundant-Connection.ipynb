{
 "cells": [
  {
   "cell_type": "markdown",
   "metadata": {},
   "source": [
    "# 684. Redundant Connection\n",
    "#### https://leetcode.com/problems/redundant-connection/"
   ]
  },
  {
   "cell_type": "markdown",
   "metadata": {},
   "source": [
    "# Approach 1: Union Find"
   ]
  },
  {
   "cell_type": "code",
   "execution_count": 10,
   "metadata": {},
   "outputs": [],
   "source": [
    "class Solution(object):\n",
    "    def findRedundantConnection(self, edges):\n",
    "        \"\"\"\n",
    "        :type edges: List[List[int]]\n",
    "        :rtype: List[int]\n",
    "        \"\"\"\n",
    "        n = len(edges)\n",
    "        father = [-1] * (n + 1)\n",
    "        \n",
    "        for u, v in edges:\n",
    "            x = self.find(father, u)\n",
    "            y = self.find(father, v)\n",
    "            if x == y: return [u, v]\n",
    "            father[x] = y\n",
    "            #print(father)\n",
    "        return []\n",
    "    \n",
    "    def find(self, father, node):\n",
    "        i = node\n",
    "        while father[i] != -1:\n",
    "            i = father[i]\n",
    "        return i"
   ]
  },
  {
   "cell_type": "markdown",
   "metadata": {},
   "source": [
    "# Approach 2: DFS"
   ]
  },
  {
   "cell_type": "code",
   "execution_count": null,
   "metadata": {},
   "outputs": [],
   "source": [
    "from collections import defaultdict\n",
    "class Solution(object):\n",
    "    def findRedundantConnection(self, edges):\n",
    "        \"\"\"\n",
    "        :type edges: List[List[int]]\n",
    "        :rtype: List[int]\n",
    "        \"\"\"\n",
    "        graph = defaultdict(set)\n",
    "        for u, v in edges:\n",
    "            if self.hasCycle(u, v, graph, set()): return [u, v]\n",
    "            graph[u].add(v)\n",
    "            graph[v].add(u)\n",
    "        return []\n",
    "    \n",
    "    def hasCycle(self, cur, target, graph, seen):\n",
    "        if target in graph[cur]: return True\n",
    "        for node in graph[cur]:\n",
    "            if node in seen: continue\n",
    "            seen.add(node)\n",
    "            if self.hasCycle(node, target, graph, seen): return True\n",
    "        return False"
   ]
  },
  {
   "cell_type": "markdown",
   "metadata": {},
   "source": [
    "# Approah 3: BFS"
   ]
  },
  {
   "cell_type": "code",
   "execution_count": 6,
   "metadata": {},
   "outputs": [],
   "source": [
    "from collections import defaultdict\n",
    "from collections import deque\n",
    "class Solution(object):\n",
    "    def findRedundantConnection(self, edges):\n",
    "        \"\"\"\n",
    "        :type edges: List[List[int]]\n",
    "        :rtype: List[int]\n",
    "        \"\"\"\n",
    "        graph = defaultdict(set)\n",
    "        queue = deque()\n",
    "        \n",
    "        for u, v in edges:\n",
    "            seen = set()\n",
    "            queue.append([u, v])\n",
    "            while queue:\n",
    "                cur, target = queue.popleft()\n",
    "                if target in graph[cur]: return [u, v]\n",
    "                seen.add(cur)\n",
    "                for node in graph[cur]:\n",
    "                    if node not in seen:\n",
    "                        queue.append([node, target])\n",
    "            graph[u].add(v)\n",
    "            graph[v].add(u)\n",
    "        return []"
   ]
  },
  {
   "cell_type": "markdown",
   "metadata": {},
   "source": [
    "# Verification"
   ]
  },
  {
   "cell_type": "code",
   "execution_count": 11,
   "metadata": {},
   "outputs": [
    {
     "name": "stdout",
     "output_type": "stream",
     "text": [
      "Input:    [[1, 2], [1, 3], [2, 3]]\n",
      "Output:   [2, 3]\n",
      "Expected: [2, 3]\n",
      "\n",
      "Input:    [[1, 2], [2, 3], [3, 4], [1, 4], [1, 5]]\n",
      "Output:   [1, 4]\n",
      "Expected: [1, 4]\n",
      "\n",
      "Input:    [[1, 4], [1, 2], [2, 3], [3, 4], [1, 5]]\n",
      "Output:   [3, 4]\n",
      "Expected: [1, 4]\n",
      "\n"
     ]
    }
   ],
   "source": [
    "import pandas as pd\n",
    "testcases = [[[1,2], [1,3], [2,3]], [[1,2], [2,3], [3,4], [1,4], [1,5]], [[1,4], [1,2], [2,3], [3,4], [1,5]]]\n",
    "expected = [[2,3], [1,4], [3,4]]\n",
    "\n",
    "#testcases = testcases[:1]\n",
    "#expected = expected[:1]\n",
    "\n",
    "outputs = []\n",
    "sol = Solution();\n",
    "\n",
    "for case in zip(testcases, expected):\n",
    "    print(\"Input:    \" + str(case[0]))\n",
    "    print(\"Output:   \" + str(sol.findRedundantConnection(case[0])))\n",
    "    print(\"Expected: \" + str(case[1]) + \"\\n\")"
   ]
  }
 ],
 "metadata": {
  "kernelspec": {
   "display_name": "Python 3",
   "language": "python",
   "name": "python3"
  },
  "language_info": {
   "codemirror_mode": {
    "name": "ipython",
    "version": 3
   },
   "file_extension": ".py",
   "mimetype": "text/x-python",
   "name": "python",
   "nbconvert_exporter": "python",
   "pygments_lexer": "ipython3",
   "version": "3.7.3"
  }
 },
 "nbformat": 4,
 "nbformat_minor": 2
}
