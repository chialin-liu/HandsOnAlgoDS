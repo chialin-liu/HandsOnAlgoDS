{
 "cells": [
  {
   "cell_type": "markdown",
   "metadata": {},
   "source": [
    "# 230. Kth Smallest Element in a BST\n",
    "#### https://leetcode.com/problems/kth-smallest-element-in-a-bst/"
   ]
  },
  {
   "cell_type": "markdown",
   "metadata": {},
   "source": [
    "# Approach 1: Inorder Traveral"
   ]
  },
  {
   "cell_type": "code",
   "execution_count": 2,
   "metadata": {},
   "outputs": [],
   "source": [
    "class Solution(object):\n",
    "    def kthSmallest(self, root, k):\n",
    "        \"\"\"\n",
    "        :type root: TreeNode\n",
    "        :type k: int\n",
    "        :rtype: int\n",
    "        \"\"\"\n",
    "        stack = []\n",
    "        node = root\n",
    "        n = 0\n",
    "        while stack or node:\n",
    "            while node:\n",
    "                stack.append(node)\n",
    "                node = node.left\n",
    "            node = stack.pop()\n",
    "            n += 1\n",
    "            if n == k: return node.val\n",
    "            node = node.right\n",
    "        return -1        "
   ]
  },
  {
   "cell_type": "markdown",
   "metadata": {},
   "source": [
    "# Verification"
   ]
  },
  {
   "cell_type": "code",
   "execution_count": 5,
   "metadata": {},
   "outputs": [
    {
     "name": "stdout",
     "output_type": "stream",
     "text": [
      "Input:    ('[3,1,4,null,2]', 1)\n",
      "Output:   1\n",
      "Expected: 1\n",
      "\n",
      "Input:    ('[5,3,6,2,4,null,null,1]', 3)\n",
      "Output:   3\n",
      "Expected: 3\n",
      "\n"
     ]
    }
   ],
   "source": [
    "testcases = [(\"[3,1,4,null,2]\", 1),(\"[5,3,6,2,4,null,null,1]\",3)]\n",
    "expected = [1,3]\n",
    "\n",
    "outputs = []\n",
    "sol = Solution();\n",
    "\n",
    "for case in zip(testcases, expected):\n",
    "    print(\"Input:    \" + str(case[0]))\n",
    "    print(\"Output:   \" + str(sol.kthSmallest(stringToTreeNode(case[0][0]),case[0][1])))\n",
    "    print(\"Expected: \" + str(case[1]) + \"\\n\")"
   ]
  },
  {
   "cell_type": "code",
   "execution_count": 4,
   "metadata": {},
   "outputs": [],
   "source": [
    "# Definition for a binary tree node.\n",
    "class TreeNode:\n",
    "     def __init__(self, x):\n",
    "         self.val = x\n",
    "         self.left = None\n",
    "         self.right = None\n",
    "\n",
    "def treeNodeToString(root):\n",
    "    if not root:\n",
    "        return \"[]\"\n",
    "    output = \"\"\n",
    "    queue = [root]\n",
    "    current = 0\n",
    "    while current != len(queue):\n",
    "        node = queue[current]\n",
    "        current = current + 1\n",
    "\n",
    "        if not node:\n",
    "            output += \"null, \"\n",
    "            continue\n",
    "\n",
    "        output += str(node.val) + \", \"\n",
    "        queue.append(node.left)\n",
    "        queue.append(node.right)\n",
    "    return \"[\" + output[:-2] + \"]\"\n",
    "\n",
    "def stringToTreeNode(input):\n",
    "    input = input.strip()\n",
    "    input = input[1:-1]\n",
    "    if not input:\n",
    "        return None\n",
    "\n",
    "    inputValues = [s.strip() for s in input.split(',')]\n",
    "    root = TreeNode(int(inputValues[0]))\n",
    "    nodeQueue = [root]\n",
    "    front = 0\n",
    "    index = 1\n",
    "    while index < len(inputValues):\n",
    "        node = nodeQueue[front]\n",
    "        front = front + 1\n",
    "\n",
    "        item = inputValues[index]\n",
    "        index = index + 1\n",
    "        if item != \"null\":\n",
    "            leftNumber = int(item)\n",
    "            node.left = TreeNode(leftNumber)\n",
    "            nodeQueue.append(node.left)\n",
    "\n",
    "        if index >= len(inputValues):\n",
    "            break\n",
    "\n",
    "        item = inputValues[index]\n",
    "        index = index + 1\n",
    "        if item != \"null\":\n",
    "            rightNumber = int(item)\n",
    "            node.right = TreeNode(rightNumber)\n",
    "            nodeQueue.append(node.right)\n",
    "    return root\n",
    "\n",
    "def prettyPrintTree(node, prefix=\"\", isLeft=True):\n",
    "    if not node:\n",
    "        print(\"Empty Tree\")\n",
    "        return\n",
    "\n",
    "    if node.right:\n",
    "        prettyPrintTree(node.right, prefix + (\"│   \" if isLeft else \"    \"), False)\n",
    "\n",
    "    print(prefix + (\"└── \" if isLeft else \"┌── \") + str(node.val))\n",
    "\n",
    "    if node.left:\n",
    "        prettyPrintTree(node.left, prefix + (\"    \" if isLeft else \"│   \"), True)\n",
    "\n",
    "def main():\n",
    "    import sys\n",
    "\n",
    "    def readlines():\n",
    "        for line in sys.stdin:\n",
    "            yield line.strip('\\n')\n",
    "\n",
    "    lines = readlines()\n",
    "    while True:\n",
    "        try:\n",
    "            line = next(lines)\n",
    "            node = stringToTreeNode(line)\n",
    "            prettyPrintTree(node)\n",
    "        except StopIteration:\n",
    "            break\n",
    "\n",
    "\n",
    "if __name__ == '__main__':\n",
    "    main()"
   ]
  }
 ],
 "metadata": {
  "kernelspec": {
   "display_name": "Python 3",
   "language": "python",
   "name": "python3"
  },
  "language_info": {
   "codemirror_mode": {
    "name": "ipython",
    "version": 3
   },
   "file_extension": ".py",
   "mimetype": "text/x-python",
   "name": "python",
   "nbconvert_exporter": "python",
   "pygments_lexer": "ipython3",
   "version": "3.7.3"
  }
 },
 "nbformat": 4,
 "nbformat_minor": 2
}
