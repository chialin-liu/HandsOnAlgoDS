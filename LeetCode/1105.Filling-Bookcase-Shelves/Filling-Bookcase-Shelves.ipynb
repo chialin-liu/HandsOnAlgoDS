{
 "cells": [
  {
   "cell_type": "markdown",
   "metadata": {},
   "source": [
    "# 1105. Filling Bookcase Shelves\n",
    "#### https://leetcode.com/problems/filling-bookcase-shelves/"
   ]
  },
  {
   "cell_type": "markdown",
   "metadata": {},
   "source": [
    "# Approach 1"
   ]
  },
  {
   "cell_type": "code",
   "execution_count": 10,
   "metadata": {},
   "outputs": [],
   "source": [
    "import sys\n",
    "class Solution(object):\n",
    "    def minHeightShelves(self, books, shelf_width):\n",
    "        \"\"\"\n",
    "        :type books: List[List[int]]\n",
    "        :type shelf_width: int\n",
    "        :rtype: int\n",
    "        \"\"\"\n",
    "        ans = 0\n",
    "        n = len(books)\n",
    "        f = [0] * (n + 1)\n",
    "        \n",
    "        for i in range(1, n + 1):\n",
    "            j = i\n",
    "            w = cur_max_h = 0\n",
    "            min_h = sys.maxsize\n",
    "            while j > 0:\n",
    "                w += books[j - 1][0]\n",
    "                if w <= shelf_width:\n",
    "                    cur_max_h = max(cur_max_h, books[j - 1][1])\n",
    "                    min_h = min(min_h, f[j - 1] + cur_max_h)\n",
    "                else: break\n",
    "                j -= 1\n",
    "            f[i] = min_h       \n",
    "        return f[n]"
   ]
  },
  {
   "cell_type": "markdown",
   "metadata": {},
   "source": [
    "# Verification"
   ]
  },
  {
   "cell_type": "code",
   "execution_count": 11,
   "metadata": {},
   "outputs": [
    {
     "name": "stdout",
     "output_type": "stream",
     "text": [
      "Input:    ([[7, 3], [2, 7], [8, 7], [2, 5]], 10)\n",
      "Output:   14\n",
      "Expected: 14\n",
      "\n",
      "Input:    ([[1, 1], [2, 3], [2, 3], [1, 1], [1, 1], [1, 1], [1, 2]], 4)\n",
      "Output:   6\n",
      "Expected: 6\n",
      "\n"
     ]
    }
   ],
   "source": [
    "testcases = [([[7,3],[2,7],[8,7],[2,5]],10),([[1,1],[2,3],[2,3],[1,1],[1,1],[1,1],[1,2]],4)]\n",
    "expected = [14, 6]\n",
    "\n",
    "outputs = []\n",
    "sol = Solution();\n",
    "\n",
    "for case in zip(testcases, expected):\n",
    "    print(\"Input:    \" + str(case[0]))\n",
    "    print(\"Output:   \" + str(sol.minHeightShelves(case[0][0], case[0][1])))\n",
    "    print(\"Expected: \" + str(case[1]) + \"\\n\")"
   ]
  }
 ],
 "metadata": {
  "kernelspec": {
   "display_name": "Python 3",
   "language": "python",
   "name": "python3"
  },
  "language_info": {
   "codemirror_mode": {
    "name": "ipython",
    "version": 3
   },
   "file_extension": ".py",
   "mimetype": "text/x-python",
   "name": "python",
   "nbconvert_exporter": "python",
   "pygments_lexer": "ipython3",
   "version": "3.7.3"
  }
 },
 "nbformat": 4,
 "nbformat_minor": 2
}
