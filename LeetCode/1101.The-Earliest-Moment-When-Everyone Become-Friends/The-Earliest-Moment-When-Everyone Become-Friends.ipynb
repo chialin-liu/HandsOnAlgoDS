{
 "cells": [
  {
   "cell_type": "markdown",
   "metadata": {},
   "source": [
    "# 1101. The Earliest Moment When Everyone Become Friends\n",
    "#### https://leetcode.com/problems/the-earliest-moment-when-everyone-become-friends/"
   ]
  },
  {
   "cell_type": "markdown",
   "metadata": {},
   "source": [
    "# Approach 1: Union Find"
   ]
  },
  {
   "cell_type": "code",
   "execution_count": 1,
   "metadata": {},
   "outputs": [],
   "source": [
    "class Solution(object):\n",
    "    def earliestAcq(self, logs, N):\n",
    "        \"\"\"\n",
    "        :type logs: List[List[int]]\n",
    "        :type N: int\n",
    "        :rtype: int\n",
    "        \"\"\"\n",
    "        self.father = [i for i in range(N)]\n",
    "        self.component = N\n",
    "        logs.sort()\n",
    "        \n",
    "        for timestamp, a, b in logs:\n",
    "            self.union(a, b)\n",
    "            if self.component == 1:\n",
    "                return timestamp\n",
    "        return -1\n",
    "        \n",
    "    def find(self, a):\n",
    "        x = a\n",
    "        while self.father[x] != x:\n",
    "            x = self.father[x]\n",
    "        while self.father[a] != x:\n",
    "            a, self.father[a] = self.father[a], x\n",
    "        return x\n",
    "    \n",
    "    def union(self, a, b):\n",
    "        A = self.find(a)\n",
    "        B = self.find(b)\n",
    "        if A != B:\n",
    "            self.father[A] = B\n",
    "            self.component -= 1"
   ]
  },
  {
   "cell_type": "markdown",
   "metadata": {},
   "source": [
    "# Verification"
   ]
  },
  {
   "cell_type": "code",
   "execution_count": 2,
   "metadata": {},
   "outputs": [
    {
     "name": "stdout",
     "output_type": "stream",
     "text": [
      "Input:    ([[20190101, 0, 1], [20190104, 3, 4], [20190107, 2, 3], [20190211, 1, 5], [20190224, 2, 4], [20190301, 0, 3], [20190312, 1, 2], [20190322, 4, 5]], 6)\n",
      "Output:   20190301\n",
      "Expected: 20190301\n",
      "\n",
      "Input:    ([[3, 0, 3], [4, 1, 2], [0, 2, 0], [2, 0, 2], [8, 0, 3], [1, 0, 1], [5, 1, 2], [7, 3, 1], [6, 1, 0], [9, 3, 0]], 4)\n",
      "Output:   3\n",
      "Expected: 3\n",
      "\n"
     ]
    }
   ],
   "source": [
    "testcases = [([[20190101,0,1],[20190104,3,4],[20190107,2,3],[20190211,1,5],[20190224,2,4],[20190301,0,3],[20190312,1,2],[20190322,4,5]],6),([[3,0,3],[4,1,2],[0,2,0],[2,0,2],[8,0,3],[1,0,1],[5,1,2],[7,3,1],[6,1,0],[9,3,0]],4)]\n",
    "expected = [20190301,3]\n",
    "\n",
    "outputs = []\n",
    "sol = Solution();\n",
    "\n",
    "for case in zip(testcases, expected):\n",
    "    print(\"Input:    \" + str(case[0]))\n",
    "    print(\"Output:   \" + str(sol.earliestAcq(case[0][0], case[0][1])))\n",
    "    print(\"Expected: \" + str(case[1]) + \"\\n\")"
   ]
  }
 ],
 "metadata": {
  "kernelspec": {
   "display_name": "Python 3",
   "language": "python",
   "name": "python3"
  },
  "language_info": {
   "codemirror_mode": {
    "name": "ipython",
    "version": 3
   },
   "file_extension": ".py",
   "mimetype": "text/x-python",
   "name": "python",
   "nbconvert_exporter": "python",
   "pygments_lexer": "ipython3",
   "version": "3.7.3"
  }
 },
 "nbformat": 4,
 "nbformat_minor": 2
}
