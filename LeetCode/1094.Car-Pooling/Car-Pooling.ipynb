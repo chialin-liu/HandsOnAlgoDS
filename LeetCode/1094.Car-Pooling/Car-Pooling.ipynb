{
 "cells": [
  {
   "cell_type": "markdown",
   "metadata": {},
   "source": [
    "# 1094. Car Pooling\n",
    "#### https://leetcode.com/problems/car-pooling/"
   ]
  },
  {
   "cell_type": "markdown",
   "metadata": {},
   "source": [
    "# Approach 1"
   ]
  },
  {
   "cell_type": "code",
   "execution_count": 1,
   "metadata": {},
   "outputs": [],
   "source": [
    "class Solution(object):\n",
    "    def carPooling(self, trips, capacity):\n",
    "        \"\"\"\n",
    "        :type trips: List[List[int]]\n",
    "        :type capacity: int\n",
    "        :rtype: bool\n",
    "        \"\"\"\n",
    "        cur = [0] * 1000\n",
    "        for trip in trips:\n",
    "            cur[trip[1]] += trip[0]\n",
    "            cur[trip[2]] -= trip[0]\n",
    "        need = 0\n",
    "        for i in range(len(cur)):\n",
    "            need += cur[i]\n",
    "            if need > capacity:\n",
    "                return False\n",
    "        return True"
   ]
  },
  {
   "cell_type": "markdown",
   "metadata": {},
   "source": [
    "# Verification"
   ]
  },
  {
   "cell_type": "code",
   "execution_count": 3,
   "metadata": {},
   "outputs": [
    {
     "name": "stdout",
     "output_type": "stream",
     "text": [
      "Input:    ([[2, 1, 5], [3, 3, 7]], 4)\n",
      "Output:   False\n",
      "Expected: False\n",
      "\n",
      "Input:    ([[2, 1, 5], [3, 3, 7]], 5)\n",
      "Output:   True\n",
      "Expected: True\n",
      "\n",
      "Input:    ([[2, 1, 5], [3, 5, 7]], 3)\n",
      "Output:   True\n",
      "Expected: True\n",
      "\n"
     ]
    }
   ],
   "source": [
    "import pandas as pd\n",
    "testcases = [([[2,1,5],[3,3,7]], 4),([[2,1,5],[3,3,7]],5),([[2,1,5],[3,5,7]],3)]\n",
    "expected = [False, True, True]\n",
    "\n",
    "outputs = []\n",
    "sol = Solution();\n",
    "\n",
    "for case in zip(testcases, expected):\n",
    "    print(\"Input:    \" + str(case[0]))\n",
    "    print(\"Output:   \" + str(sol.carPooling(case[0][0], case[0][1])))\n",
    "    print(\"Expected: \" + str(case[1]) + \"\\n\")"
   ]
  }
 ],
 "metadata": {
  "kernelspec": {
   "display_name": "Python 3",
   "language": "python",
   "name": "python3"
  },
  "language_info": {
   "codemirror_mode": {
    "name": "ipython",
    "version": 3
   },
   "file_extension": ".py",
   "mimetype": "text/x-python",
   "name": "python",
   "nbconvert_exporter": "python",
   "pygments_lexer": "ipython3",
   "version": "3.7.3"
  }
 },
 "nbformat": 4,
 "nbformat_minor": 2
}
