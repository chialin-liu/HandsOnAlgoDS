{
 "cells": [
  {
   "cell_type": "markdown",
   "metadata": {},
   "source": [
    "# 980. Unique Paths III\n",
    "#### https://leetcode.com/problems/unique-paths-iii"
   ]
  },
  {
   "cell_type": "markdown",
   "metadata": {},
   "source": [
    "# Approach 1: DFS"
   ]
  },
  {
   "cell_type": "code",
   "execution_count": 1,
   "metadata": {},
   "outputs": [],
   "source": [
    "class Solution(object):\n",
    "    def uniquePathsIII(self, grid):\n",
    "        \"\"\"\n",
    "        :type grid: List[List[int]]\n",
    "        :rtype: int\n",
    "        \"\"\"\n",
    "        m, n = len(grid), len(grid[0])\n",
    "        start = end = [-1, -1]\n",
    "        count = 0\n",
    "        for i in range(m):\n",
    "            for j in range(n):\n",
    "                if grid[i][j] == 1: start = [i, j]\n",
    "                if grid[i][j] == 0: count += 1\n",
    "                if grid[i][j] == 2: end = [i, j]\n",
    "        return self.dfs(grid, start[0], start[1], count + 1)\n",
    "    \n",
    "    def dfs(self, grid, i, j, count):\n",
    "        ans = 0\n",
    "        if i < 0 or j < 0: return 0\n",
    "        if i >= len(grid) or j >= len(grid[0]): return 0\n",
    "        if 0 == count and grid[i][j] == 2: return 1\n",
    "        if grid[i][j] == 2 or grid[i][j] == -1 : return 0\n",
    "        for dx, dy in [(-1, 0), (1, 0), (0, -1), (0, 1)]:\n",
    "            tmp, grid[i][j] = grid[i][j], -1\n",
    "            ans += self.dfs(grid, i + dx, j + dy, count - 1)\n",
    "            grid[i][j] = tmp\n",
    "        return ans"
   ]
  },
  {
   "cell_type": "markdown",
   "metadata": {},
   "source": [
    "# Verification"
   ]
  },
  {
   "cell_type": "code",
   "execution_count": 2,
   "metadata": {},
   "outputs": [
    {
     "name": "stdout",
     "output_type": "stream",
     "text": [
      "Input:    [[1, 0, 0, 0], [0, 0, 0, 0], [0, 0, 2, -1]]\n",
      "Output:   2\n",
      "Expected: 2\n",
      "\n",
      "Input:    [[1, 0, 0, 0], [0, 0, 0, 0], [0, 0, 0, 2]]\n",
      "Output:   4\n",
      "Expected: 4\n",
      "\n",
      "Input:    [[0, 1], [2, 0]]\n",
      "Output:   0\n",
      "Expected: 0\n",
      "\n"
     ]
    }
   ],
   "source": [
    "import pandas as pd\n",
    "testcases = [[[1,0,0,0],[0,0,0,0],[0,0,2,-1]],[[1,0,0,0],[0,0,0,0],[0,0,0,2]],[[0,1],[2,0]]]\n",
    "expected = [2,4,0]\n",
    "\n",
    "outputs = []\n",
    "sol = Solution();\n",
    "\n",
    "for case in zip(testcases, expected):\n",
    "    print(\"Input:    \" + str(case[0]))\n",
    "    print(\"Output:   \" + str(sol.uniquePathsIII(case[0])))\n",
    "    print(\"Expected: \" + str(case[1]) + \"\\n\")"
   ]
  }
 ],
 "metadata": {
  "kernelspec": {
   "display_name": "Python 3",
   "language": "python",
   "name": "python3"
  },
  "language_info": {
   "codemirror_mode": {
    "name": "ipython",
    "version": 3
   },
   "file_extension": ".py",
   "mimetype": "text/x-python",
   "name": "python",
   "nbconvert_exporter": "python",
   "pygments_lexer": "ipython3",
   "version": "3.7.3"
  }
 },
 "nbformat": 4,
 "nbformat_minor": 2
}
