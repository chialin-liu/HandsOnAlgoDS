{
 "cells": [
  {
   "cell_type": "markdown",
   "metadata": {},
   "source": [
    "# 68. Text Justification\n",
    "#### https://leetcode.com/problems/text-justification/"
   ]
  },
  {
   "cell_type": "markdown",
   "metadata": {},
   "source": [
    "# Approach 1"
   ]
  },
  {
   "cell_type": "code",
   "execution_count": 4,
   "metadata": {},
   "outputs": [],
   "source": [
    "class Solution(object):\n",
    "    def fullJustify(self, words, maxWidth):\n",
    "        \"\"\"\n",
    "        :type words: List[str]\n",
    "        :type maxWidth: int\n",
    "        :rtype: List[str]\n",
    "        \"\"\"\n",
    "        n = len(words)\n",
    "        i, j = 0, 1\n",
    "        ans = []\n",
    "        while i < n or j < n:\n",
    "            cur = len(words[i])\n",
    "            while j < n and cur + len(words[j]) + 1 <= maxWidth:\n",
    "                cur += (len(words[j]) + 1)\n",
    "                j += 1\n",
    "            extra1  = (maxWidth - cur)\n",
    "            extra2 = 0\n",
    "            tmp = words[i]\n",
    "            if j - i - 1 == 0:\n",
    "                tmp += \" \" * (maxWidth - cur)   \n",
    "            else:\n",
    "                extra1 = (maxWidth - cur) / (j - i - 1) + 1\n",
    "                extra2 = (maxWidth - cur) % (j - i - 1)\n",
    "                if j == n:\n",
    "                    extra1, extra2 = 1, 0\n",
    "                for k in range(i + 1, j):\n",
    "                    if k - (i + 1) < extra2:\n",
    "                        tmp += (\" \" * int(extra1 + 1) + words[k])\n",
    "                    else:\n",
    "                        tmp += (\" \" * int(extra1) + words[k])\n",
    "            tmp = tmp + \" \" * (maxWidth - len(tmp))\n",
    "            ans.append(tmp)\n",
    "            i = j\n",
    "            j += 1\n",
    "        return ans"
   ]
  },
  {
   "cell_type": "markdown",
   "metadata": {},
   "source": [
    "# Verification"
   ]
  },
  {
   "cell_type": "code",
   "execution_count": 6,
   "metadata": {},
   "outputs": [
    {
     "name": "stdout",
     "output_type": "stream",
     "text": [
      "Input:    (['This', 'is', 'an', 'example', 'of', 'text', 'justification.'], 16)\n",
      "Output:   ['This    is    an', 'example  of text', 'justification.  ']\n",
      "Expected: ['This    is    an', 'example  of text', 'justification.  ']\n",
      "\n",
      "Input:    (['What', 'must', 'be', 'acknowledgment', 'shall', 'be'], 16)\n",
      "Output:   ['What   must   be', 'acknowledgment  ', 'shall be        ']\n",
      "Expected: ['What   must   be', 'acknowledgment  ', 'shall be        ']\n",
      "\n",
      "Input:    (['Science', 'is', 'what', 'we', 'understand', 'well', 'enough', 'to', 'explain', 'to', 'a', 'computer.', 'Art', 'is', 'everything', 'else', 'we', 'do'], 20)\n",
      "Output:   ['Science  is  what we', 'understand      well', 'enough to explain to', 'a  computer.  Art is', 'everything  else  we', 'do                  ']\n",
      "Expected: ['Science  is  what we', 'understand      well', 'enough to explain to', 'a  computer.  Art is', 'everything  else  we', 'do                  ']\n",
      "\n"
     ]
    }
   ],
   "source": [
    "import pandas as pd\n",
    "testcases = [([\"This\", \"is\", \"an\", \"example\", \"of\", \"text\", \"justification.\"],16), ([\"What\",\"must\",\"be\",\"acknowledgment\",\"shall\",\"be\"],16), ([\"Science\",\"is\",\"what\",\"we\",\"understand\",\"well\",\"enough\",\"to\",\"explain\",\"to\",\"a\",\"computer.\",\"Art\",\"is\",\"everything\",\"else\",\"we\",\"do\"],20)]\n",
    "expected = [[\"This    is    an\",\"example  of text\",\"justification.  \"], [\"What   must   be\",\"acknowledgment  \",\"shall be        \"], [\"Science  is  what we\",\"understand      well\",\"enough to explain to\",\"a  computer.  Art is\",\"everything  else  we\",\"do                  \"]]\n",
    "\n",
    "outputs = []\n",
    "sol = Solution();\n",
    "\n",
    "for case in zip(testcases, expected):\n",
    "    print(\"Input:    \" + str(case[0]))\n",
    "    print(\"Output:   \" + str(sol.fullJustify(case[0][0], case[0][1])))\n",
    "    print(\"Expected: \" + str(case[1]) + \"\\n\")"
   ]
  }
 ],
 "metadata": {
  "kernelspec": {
   "display_name": "Python 3",
   "language": "python",
   "name": "python3"
  },
  "language_info": {
   "codemirror_mode": {
    "name": "ipython",
    "version": 3
   },
   "file_extension": ".py",
   "mimetype": "text/x-python",
   "name": "python",
   "nbconvert_exporter": "python",
   "pygments_lexer": "ipython3",
   "version": "3.7.3"
  }
 },
 "nbformat": 4,
 "nbformat_minor": 2
}
