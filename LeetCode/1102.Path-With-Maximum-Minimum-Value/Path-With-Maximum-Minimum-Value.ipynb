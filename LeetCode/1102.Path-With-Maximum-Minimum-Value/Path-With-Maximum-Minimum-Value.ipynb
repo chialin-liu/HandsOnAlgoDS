{
 "cells": [
  {
   "cell_type": "markdown",
   "metadata": {},
   "source": [
    "# 1102. Path With Maximum Minimum Value\n",
    "#### https://leetcode.com/problems/path-with-maximum-minimum-value/"
   ]
  },
  {
   "cell_type": "markdown",
   "metadata": {},
   "source": [
    "# Approach 1"
   ]
  },
  {
   "cell_type": "code",
   "execution_count": 4,
   "metadata": {},
   "outputs": [],
   "source": [
    "import heapq\n",
    "class Solution(object):\n",
    "    def maximumMinimumPath(self, A):\n",
    "        \"\"\"\n",
    "        :type A: List[List[int]]\n",
    "        :rtype: int\n",
    "        \"\"\"\n",
    "        if not A or not A[0]: return -1\n",
    "        queue = [(-A[0][0], 0, 0)]\n",
    "        score = A[0][0]\n",
    "        A[0][0] = -1\n",
    "        while queue:\n",
    "            val, x, y = heapq.heappop(queue)\n",
    "            score = min(score, -val)\n",
    "            if x == len(A) - 1 and y == len(A[0]) - 1:\n",
    "                return score\n",
    "            for dx, dy in [(0, -1), (0, 1), (-1, 0), (1, 0)]:\n",
    "                nx, ny = x + dx, y + dy\n",
    "                if 0 <= nx < len(A) and 0 <= ny < len(A[0]) and A[nx][ny] != -1:\n",
    "                    heapq.heappush(queue, [-A[nx][ny], nx, ny])\n",
    "                    A[nx][ny] = -1"
   ]
  },
  {
   "cell_type": "markdown",
   "metadata": {},
   "source": [
    "# Verification"
   ]
  },
  {
   "cell_type": "code",
   "execution_count": 5,
   "metadata": {},
   "outputs": [
    {
     "name": "stdout",
     "output_type": "stream",
     "text": [
      "Input:    [[5, 4, 5], [1, 2, 6], [7, 4, 6]]\n",
      "Output:   4\n",
      "Expected: 4\n",
      "\n",
      "Input:    [[2, 2, 1, 2, 2, 2], [1, 2, 2, 2, 1, 2]]\n",
      "Output:   2\n",
      "Expected: 2\n",
      "\n",
      "Input:    [[3, 4, 6, 3, 4], [0, 2, 1, 1, 7], [8, 8, 3, 2, 7], [3, 2, 4, 9, 8], [4, 1, 2, 0, 0], [4, 6, 5, 4, 3]]\n",
      "Output:   3\n",
      "Expected: 3\n",
      "\n"
     ]
    }
   ],
   "source": [
    "testcases = [[[5,4,5],[1,2,6],[7,4,6]],[[2,2,1,2,2,2],[1,2,2,2,1,2]],[[3,4,6,3,4],[0,2,1,1,7],[8,8,3,2,7],[3,2,4,9,8],[4,1,2,0,0],[4,6,5,4,3]]]\n",
    "expected = [4, 2, 3]\n",
    "\n",
    "outputs = []\n",
    "sol = Solution();\n",
    "\n",
    "for case in zip(testcases, expected):\n",
    "    print(\"Input:    \" + str(case[0]))\n",
    "    print(\"Output:   \" + str(sol.maximumMinimumPath(case[0])))\n",
    "    print(\"Expected: \" + str(case[1]) + \"\\n\")"
   ]
  }
 ],
 "metadata": {
  "kernelspec": {
   "display_name": "Python 3",
   "language": "python",
   "name": "python3"
  },
  "language_info": {
   "codemirror_mode": {
    "name": "ipython",
    "version": 3
   },
   "file_extension": ".py",
   "mimetype": "text/x-python",
   "name": "python",
   "nbconvert_exporter": "python",
   "pygments_lexer": "ipython3",
   "version": "3.7.3"
  }
 },
 "nbformat": 4,
 "nbformat_minor": 2
}
