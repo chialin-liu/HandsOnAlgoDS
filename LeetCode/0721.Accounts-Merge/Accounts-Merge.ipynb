{
 "cells": [
  {
   "cell_type": "markdown",
   "metadata": {},
   "source": [
    "# 721. Accounts Merge\n",
    "#### https://leetcode.com/problems/accounts-merge/"
   ]
  },
  {
   "cell_type": "markdown",
   "metadata": {},
   "source": [
    "# Approach 1: Union Find"
   ]
  },
  {
   "cell_type": "code",
   "execution_count": 14,
   "metadata": {},
   "outputs": [],
   "source": [
    "from collections import defaultdict\n",
    "class Solution(object):\n",
    "    def accountsMerge(self, accounts):\n",
    "        \"\"\"\n",
    "        :type accounts: List[List[str]]\n",
    "        :rtype: List[List[str]]\n",
    "        \"\"\"\n",
    "        n = len(accounts)\n",
    "        self.father = [i for i in range(n)]\n",
    "        \n",
    "        email_to_idxs = defaultdict(list)\n",
    "        for i, account in enumerate(accounts):\n",
    "            for email in account[1:]:\n",
    "                email_to_idxs[email].append(i)\n",
    "        for email in email_to_idxs:\n",
    "            idxs = email_to_idxs[email]\n",
    "            for i in range(1, len(idxs)):\n",
    "                self.union(idxs[0], idxs[i])\n",
    "        idx_to_emails = defaultdict(set)\n",
    "        for i, account in enumerate(accounts):\n",
    "            root = self.find(i)\n",
    "            for email in account[1:]:\n",
    "                idx_to_emails[root].add(email)\n",
    "        ans = [[] for _ in range(len(idx_to_emails))]\n",
    "        for i, idx in enumerate(idx_to_emails):\n",
    "            ans[i].append(accounts[idx][0])\n",
    "            for email in sorted(idx_to_emails[idx]):\n",
    "                ans[i].append(email) \n",
    "        return ans\n",
    "        \n",
    "    def union(self, a, b):\n",
    "        self.father[self.find(a)] = self.find(b)\n",
    "    def find(self, a):\n",
    "        x = a\n",
    "        while self.father[x] != x:\n",
    "            x = self.father[x]\n",
    "        while self.father[a] != x:\n",
    "            a, self.father[a] = self.father[a], x\n",
    "        return x"
   ]
  },
  {
   "cell_type": "markdown",
   "metadata": {},
   "source": [
    "# Verification"
   ]
  },
  {
   "cell_type": "code",
   "execution_count": 15,
   "metadata": {},
   "outputs": [
    {
     "name": "stdout",
     "output_type": "stream",
     "text": [
      "Input:    [['John', 'johnsmith@mail.com', 'john_newyork@mail.com'], ['John', 'johnsmith@mail.com', 'john00@mail.com'], ['Mary', 'mary@mail.com'], ['John', 'johnnybravo@mail.com']]\n",
      "Output:   [['John', 'john00@mail.com', 'john_newyork@mail.com', 'johnsmith@mail.com'], ['Mary', 'mary@mail.com'], ['John', 'johnnybravo@mail.com']]\n",
      "Expected: [['John', 'john00@mail.com', 'john_newyork@mail.com', 'johnsmith@mail.com'], ['John', 'johnnybravo@mail.com'], ['Mary', 'mary@mail.com']]\n",
      "\n"
     ]
    }
   ],
   "source": [
    "testcases = [[[\"John\",\"johnsmith@mail.com\",\"john_newyork@mail.com\"],[\"John\",\"johnsmith@mail.com\",\"john00@mail.com\"],[\"Mary\",\"mary@mail.com\"],[\"John\",\"johnnybravo@mail.com\"]]]\n",
    "expected = [[[\"John\", 'john00@mail.com', 'john_newyork@mail.com', 'johnsmith@mail.com'],  [\"John\", \"johnnybravo@mail.com\"], [\"Mary\", \"mary@mail.com\"]]]\n",
    "\n",
    "outputs = []\n",
    "sol = Solution();\n",
    "\n",
    "for case in zip(testcases, expected):\n",
    "    print(\"Input:    \" + str(case[0]))\n",
    "    print(\"Output:   \" + str(sol.accountsMerge(case[0])))\n",
    "    print(\"Expected: \" + str(case[1]) + \"\\n\")"
   ]
  }
 ],
 "metadata": {
  "kernelspec": {
   "display_name": "Python 3",
   "language": "python",
   "name": "python3"
  },
  "language_info": {
   "codemirror_mode": {
    "name": "ipython",
    "version": 3
   },
   "file_extension": ".py",
   "mimetype": "text/x-python",
   "name": "python",
   "nbconvert_exporter": "python",
   "pygments_lexer": "ipython3",
   "version": "3.7.3"
  }
 },
 "nbformat": 4,
 "nbformat_minor": 2
}
