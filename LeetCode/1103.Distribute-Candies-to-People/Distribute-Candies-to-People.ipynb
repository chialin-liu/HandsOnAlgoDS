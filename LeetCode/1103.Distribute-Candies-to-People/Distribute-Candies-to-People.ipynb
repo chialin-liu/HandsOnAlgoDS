{
 "cells": [
  {
   "cell_type": "markdown",
   "metadata": {},
   "source": [
    "# 1103. Distribute Candies to People\n",
    "#### https://leetcode.com/problems/distribute-candies-to-people/"
   ]
  },
  {
   "cell_type": "markdown",
   "metadata": {},
   "source": [
    "# Approach 1"
   ]
  },
  {
   "cell_type": "code",
   "execution_count": 1,
   "metadata": {},
   "outputs": [],
   "source": [
    "class Solution(object):\n",
    "    def distributeCandies(self, candies, num_people):\n",
    "        \"\"\"\n",
    "        :type candies: int\n",
    "        :type num_people: int\n",
    "        :rtype: List[int]\n",
    "        \"\"\"\n",
    "        ans = [0] * num_people\n",
    "        i = 0\n",
    "        while candies > 0:\n",
    "            ans[i % num_people] += min(candies, i + 1)\n",
    "            candies -= (i + 1)\n",
    "            i += 1\n",
    "        return ans"
   ]
  },
  {
   "cell_type": "markdown",
   "metadata": {},
   "source": [
    "# Verification"
   ]
  },
  {
   "cell_type": "code",
   "execution_count": 2,
   "metadata": {},
   "outputs": [
    {
     "name": "stdout",
     "output_type": "stream",
     "text": [
      "Input:    (7, 4)\n",
      "Output:   [1, 2, 3, 1]\n",
      "Expected: [1, 2, 3, 1]\n",
      "\n",
      "Input:    (10, 3)\n",
      "Output:   [5, 2, 3]\n",
      "Expected: [5, 2, 3]\n",
      "\n"
     ]
    }
   ],
   "source": [
    "testcases = [(7,4),(10,3)]\n",
    "expected = [[1,2,3,1],[5,2,3]]\n",
    "\n",
    "outputs = []\n",
    "sol = Solution();\n",
    "\n",
    "for case in zip(testcases, expected):\n",
    "    print(\"Input:    \" + str(case[0]))\n",
    "    print(\"Output:   \" + str(sol.distributeCandies(case[0][0], case[0][1])))\n",
    "    print(\"Expected: \" + str(case[1]) + \"\\n\")"
   ]
  }
 ],
 "metadata": {
  "kernelspec": {
   "display_name": "Python 3",
   "language": "python",
   "name": "python3"
  },
  "language_info": {
   "codemirror_mode": {
    "name": "ipython",
    "version": 3
   },
   "file_extension": ".py",
   "mimetype": "text/x-python",
   "name": "python",
   "nbconvert_exporter": "python",
   "pygments_lexer": "ipython3",
   "version": "3.7.3"
  }
 },
 "nbformat": 4,
 "nbformat_minor": 2
}
