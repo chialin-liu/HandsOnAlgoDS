{
 "cells": [
  {
   "cell_type": "markdown",
   "metadata": {},
   "source": [
    "# 639. Decode Ways II\n",
    "#### https://leetcode.com/problems/decode-ways-ii/"
   ]
  },
  {
   "cell_type": "markdown",
   "metadata": {},
   "source": [
    "# Approach 1: Dynamic Programming"
   ]
  },
  {
   "cell_type": "code",
   "execution_count": 1,
   "metadata": {},
   "outputs": [],
   "source": [
    "class Solution(object):\n",
    "    def numDecodings(self, s):\n",
    "        \"\"\"\n",
    "        :type s: str\n",
    "        :rtype: int\n",
    "        \"\"\"\n",
    "        def cnt1(x):\n",
    "            if x == \"0\": return 0\n",
    "            if x == \"*\": return 9\n",
    "            return 1\n",
    "        \n",
    "        def cnt2(x, y):\n",
    "            if x == \"0\" or x > \"2\":\n",
    "                return 0\n",
    "            if x == \"1\":\n",
    "                if y == \"*\": \n",
    "                    return 9\n",
    "                return 1\n",
    "            if x == \"2\":\n",
    "                if y > \"6\": return 0\n",
    "                if y == \"*\": return 6\n",
    "                return 1\n",
    "            # x == *\n",
    "            if \"0\" <= y <= \"6\":\n",
    "                return 2\n",
    "            if \"7\" <= y <= \"9\":\n",
    "                return 1\n",
    "            \n",
    "            # **\n",
    "            return 15\n",
    "        \n",
    "        MOD = pow(10, 9) + 7\n",
    "        n = len(s)\n",
    "        dp = [0] * (n + 1)\n",
    "        dp[0] = 1\n",
    "        for i in range(1, n + 1):\n",
    "            dp[i] = dp[i - 1] * cnt1(s[i - 1])\n",
    "            if i > 1:\n",
    "                dp[i] += dp[i - 2] * cnt2(s[i - 2], s[i - 1])\n",
    "            dp[i] = dp[i] % MOD\n",
    "        return dp[-1]"
   ]
  },
  {
   "cell_type": "markdown",
   "metadata": {},
   "source": [
    "# Verification"
   ]
  },
  {
   "cell_type": "code",
   "execution_count": 3,
   "metadata": {},
   "outputs": [
    {
     "name": "stdout",
     "output_type": "stream",
     "text": [
      "Input:    *\n",
      "Output:   9\n",
      "Expected: 9\n",
      "\n",
      "Input:    1*\n",
      "Output:   18\n",
      "Expected: 18\n",
      "\n",
      "Input:    2*\n",
      "Output:   15\n",
      "Expected: 15\n",
      "\n",
      "Input:    2839\n",
      "Output:   1\n",
      "Expected: 1\n",
      "\n",
      "Input:    *********\n",
      "Output:   291868912\n",
      "Expected: 291868912\n",
      "\n"
     ]
    }
   ],
   "source": [
    "import pandas as pd\n",
    "testcases = [\"*\", \"1*\", \"2*\", \"2839\", \"*********\"]\n",
    "expected = [9, 18, 15, 1, 291868912]\n",
    "\n",
    "outputs = []\n",
    "sol = Solution();\n",
    "\n",
    "for case in zip(testcases, expected):\n",
    "    print(\"Input:    \" + str(case[0]))\n",
    "    print(\"Output:   \" + str(sol.numDecodings(case[0])))\n",
    "    print(\"Expected: \" + str(case[1]) + \"\\n\")"
   ]
  }
 ],
 "metadata": {
  "kernelspec": {
   "display_name": "Python 3",
   "language": "python",
   "name": "python3"
  },
  "language_info": {
   "codemirror_mode": {
    "name": "ipython",
    "version": 3
   },
   "file_extension": ".py",
   "mimetype": "text/x-python",
   "name": "python",
   "nbconvert_exporter": "python",
   "pygments_lexer": "ipython3",
   "version": "3.7.3"
  }
 },
 "nbformat": 4,
 "nbformat_minor": 2
}
