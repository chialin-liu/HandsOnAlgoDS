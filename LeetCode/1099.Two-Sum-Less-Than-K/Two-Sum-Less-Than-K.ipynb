{
 "cells": [
  {
   "cell_type": "markdown",
   "metadata": {},
   "source": [
    "# 1099. Two Sum Less Than K\n",
    "#### https://leetcode.com/problems/two-sum-less-than-k/"
   ]
  },
  {
   "cell_type": "markdown",
   "metadata": {},
   "source": [
    "# Approach 1"
   ]
  },
  {
   "cell_type": "code",
   "execution_count": 1,
   "metadata": {},
   "outputs": [],
   "source": [
    "class Solution(object):\n",
    "    def twoSumLessThanK(self, A, K):\n",
    "        \"\"\"\n",
    "        :type A: List[int]\n",
    "        :type K: int\n",
    "        :rtype: int\n",
    "        \"\"\"\n",
    "        ans = -1\n",
    "        A.sort()\n",
    "        left, right = 0, len(A) - 1\n",
    "        while left < right:\n",
    "            if A[left] + A[right] >= K:\n",
    "                right -= 1\n",
    "            else:\n",
    "                while left < right and A[left] + A[right] < K:\n",
    "                    ans = max(ans, A[left] + A[right])\n",
    "                    left += 1\n",
    "        return ans"
   ]
  },
  {
   "cell_type": "markdown",
   "metadata": {},
   "source": [
    "# Verification"
   ]
  },
  {
   "cell_type": "code",
   "execution_count": 2,
   "metadata": {},
   "outputs": [
    {
     "name": "stdout",
     "output_type": "stream",
     "text": [
      "Input:    ([34, 23, 1, 24, 75, 33, 54, 8], 60)\n",
      "Output:   58\n",
      "Expected: 58\n",
      "\n",
      "Input:    ([10, 20, 30], 15)\n",
      "Output:   -1\n",
      "Expected: -1\n",
      "\n"
     ]
    }
   ],
   "source": [
    "testcases = [([34,23,1,24,75,33,54,8],60),([10,20,30],15)]\n",
    "expected = [58,-1]\n",
    "\n",
    "outputs = []\n",
    "sol = Solution();\n",
    "\n",
    "for case in zip(testcases, expected):\n",
    "    print(\"Input:    \" + str(case[0]))\n",
    "    print(\"Output:   \" + str(sol.twoSumLessThanK(case[0][0], case[0][1])))\n",
    "    print(\"Expected: \" + str(case[1]) + \"\\n\")"
   ]
  }
 ],
 "metadata": {
  "kernelspec": {
   "display_name": "Python 3",
   "language": "python",
   "name": "python3"
  },
  "language_info": {
   "codemirror_mode": {
    "name": "ipython",
    "version": 3
   },
   "file_extension": ".py",
   "mimetype": "text/x-python",
   "name": "python",
   "nbconvert_exporter": "python",
   "pygments_lexer": "ipython3",
   "version": "3.7.3"
  }
 },
 "nbformat": 4,
 "nbformat_minor": 2
}
