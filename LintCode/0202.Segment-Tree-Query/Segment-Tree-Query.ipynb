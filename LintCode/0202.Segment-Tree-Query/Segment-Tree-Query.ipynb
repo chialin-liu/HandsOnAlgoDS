{
 "cells": [
  {
   "cell_type": "markdown",
   "metadata": {},
   "source": [
    "# 202. Segment Tree Query\n",
    "#### https://www.lintcode.com/problem/segment-tree-query/"
   ]
  },
  {
   "cell_type": "markdown",
   "metadata": {},
   "source": [
    "# Approach 1: Recursion"
   ]
  },
  {
   "cell_type": "code",
   "execution_count": 8,
   "metadata": {},
   "outputs": [],
   "source": [
    "import sys\n",
    "class Solution:\n",
    "    \"\"\"\n",
    "    @param root: The root of segment tree.\n",
    "    @param start: start value.\n",
    "    @param end: end value.\n",
    "    @return: The maximum number in the interval [start, end]\n",
    "    \"\"\"\n",
    "    def query(self, root, start, end):\n",
    "        # write your code here\n",
    "        if start == root.start and end == root.end: return root.max\n",
    "        mid = (root.start + root.end) // 2\n",
    "        left_max = right_max = -sys.maxsize - 1\n",
    "        if start <= mid:\n",
    "            if end <= mid:\n",
    "                left_max = max(left_max, self.query(root.left, start, end))\n",
    "            else:\n",
    "                left_max = max(left_max, self.query(root.left, start, mid))\n",
    "        if end > mid:\n",
    "            if start > mid:\n",
    "                right_max = max(right_max, self.query(root.right, start, end))\n",
    "            else:\n",
    "                right_max = max(right_max, self.query(root.right, mid + 1, end))\n",
    "        return max(left_max, right_max)"
   ]
  },
  {
   "cell_type": "markdown",
   "metadata": {},
   "source": [
    "# Verification"
   ]
  },
  {
   "cell_type": "code",
   "execution_count": 7,
   "metadata": {},
   "outputs": [
    {
     "name": "stdout",
     "output_type": "stream",
     "text": [
      "Input:    ('[0,3,max=4][0,1,max=4][2,3,max=3][0,0,max=1][1,1,max=4][2,2,max=2][3,3,max=3]', 1, 2)\n",
      "[['0', '3', 'max=4'], ['0', '1', 'max=4'], ['2', '3', 'max=3'], ['0', '0', 'max=1'], ['1', '1', 'max=4'], ['2', '2', 'max=2'], ['3', '3', 'max=3']]\n",
      "Output:   4\n",
      "Expected: 4\n",
      "\n"
     ]
    }
   ],
   "source": [
    "testcases = [(\"[0,3,max=4][0,1,max=4][2,3,max=3][0,0,max=1][1,1,max=4][2,2,max=2][3,3,max=3]\",1,2)]\n",
    "expected = [4]\n",
    "\n",
    "outputs = []\n",
    "sol = Solution();\n",
    "\n",
    "for case in zip(testcases, expected):\n",
    "    print(\"Input:    \" + str(case[0]))\n",
    "    print(\"Output:   \" + str(sol.query(stringToTreeNode(case[0][0]), case[0][1], case[0][2])))\n",
    "    print(\"Expected: \" + str(case[1]) + \"\\n\")"
   ]
  },
  {
   "cell_type": "code",
   "execution_count": 3,
   "metadata": {},
   "outputs": [],
   "source": [
    "class SegmentTreeNode:\n",
    "    def __init__(self, start, end, max):\n",
    "        self.start, self.end, self.max = start, end, max\n",
    "        self.left, self.right = None, None\n",
    "\n",
    "def treeNodeToString(root):\n",
    "    if not root:\n",
    "        return \"[]\"\n",
    "    output = \"\"\n",
    "    queue = [root]\n",
    "    current = 0\n",
    "    while current != len(queue):\n",
    "        node = queue[current]\n",
    "        current = current + 1\n",
    "\n",
    "        if not node:\n",
    "            #output += \"null, \"\n",
    "            continue\n",
    "\n",
    "        output += \"[\" + str(node.start) + \",\" + str(node.end) + \",max=\" + str(node.max) + \"]\"\n",
    "        queue.append(node.left)\n",
    "        queue.append(node.right)\n",
    "    return output\n",
    "\n",
    "def stringToTreeNode(input):\n",
    "    input = input.strip()\n",
    "    input = input[1:-1]\n",
    "    if not input:\n",
    "        return None\n",
    "\n",
    "    inputValues = [s.split(\",\") for s in input.split('][')]\n",
    "    print(inputValues)\n",
    "    root = SegmentTreeNode(int(inputValues[0][0]),int(inputValues[0][1]),int(inputValues[0][2][4:]))\n",
    "    nodeQueue = [root]\n",
    "    front = 0\n",
    "    index = 1\n",
    "    while index < len(inputValues):\n",
    "        node = nodeQueue[front]\n",
    "        front = front + 1\n",
    "\n",
    "        item = inputValues[index]\n",
    "        index = index + 1\n",
    "        if item != \"null\":\n",
    "            node.left = SegmentTreeNode(int(item[0]),int(item[1]),int(item[2][4:]))\n",
    "            nodeQueue.append(node.left)\n",
    "\n",
    "        if index >= len(inputValues):\n",
    "            break\n",
    "\n",
    "        item = inputValues[index]\n",
    "        index = index + 1\n",
    "        if item != \"null\":\n",
    "            node.right = SegmentTreeNode(int(item[0]),int(item[1]),int(item[2][4:]))\n",
    "            nodeQueue.append(node.right)\n",
    "    return root"
   ]
  }
 ],
 "metadata": {
  "kernelspec": {
   "display_name": "Python 3",
   "language": "python",
   "name": "python3"
  },
  "language_info": {
   "codemirror_mode": {
    "name": "ipython",
    "version": 3
   },
   "file_extension": ".py",
   "mimetype": "text/x-python",
   "name": "python",
   "nbconvert_exporter": "python",
   "pygments_lexer": "ipython3",
   "version": "3.7.3"
  }
 },
 "nbformat": 4,
 "nbformat_minor": 2
}
