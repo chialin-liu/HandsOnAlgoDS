{
 "cells": [
  {
   "cell_type": "markdown",
   "metadata": {},
   "source": [
    "# 465. Kth Smallest Sum In Two Sorted Arrays\n",
    "#### https://www.lintcode.com/problem/kth-smallest-sum-in-two-sorted-arrays/"
   ]
  },
  {
   "cell_type": "markdown",
   "metadata": {},
   "source": [
    "# Approach 1: Binary Search"
   ]
  },
  {
   "cell_type": "code",
   "execution_count": 16,
   "metadata": {},
   "outputs": [],
   "source": [
    "class Solution:\n",
    "    \"\"\"\n",
    "    @param A: an integer arrays sorted in ascending order\n",
    "    @param B: an integer arrays sorted in ascending order\n",
    "    @param k: An integer\n",
    "    @return: An integer\n",
    "    \"\"\"\n",
    "    def kthSmallestSum(self, A, B, k):\n",
    "        # write your code here\n",
    "        left = A[0] + B[0]\n",
    "        right = A[-1] + B[-1]\n",
    "        while left < right:\n",
    "            mid = (left + right) // 2\n",
    "            if self.find_num_by_upperbound(A, B, mid) < k:\n",
    "                left = mid + 1\n",
    "            else:\n",
    "                right = mid\n",
    "        \n",
    "        return left\n",
    "        \n",
    "    def find_num_by_upperbound(self, A, B, upperbound):\n",
    "        i = 0\n",
    "        j = len(B) - 1\n",
    "        count = 0\n",
    "        while i < len(A) and j >= 0:\n",
    "            if A[i] + B[j] <= upperbound:\n",
    "                i += 1\n",
    "                count += j + 1\n",
    "            else:\n",
    "                j -= 1\n",
    "        return count"
   ]
  },
  {
   "cell_type": "markdown",
   "metadata": {},
   "source": [
    "# Verification"
   ]
  },
  {
   "cell_type": "code",
   "execution_count": 17,
   "metadata": {},
   "outputs": [
    {
     "name": "stdout",
     "output_type": "stream",
     "text": [
      "Input:    ([-1, 9, 10, 12], [-2, -1], 1)\n",
      "Output:   -3\n",
      "Expected: -3\n",
      "\n",
      "Input:    ([1, 7, 11], [2, 4, 6], 3)\n",
      "Output:   7\n",
      "Expected: 7\n",
      "\n",
      "Input:    ([1, 7, 11], [2, 4, 6], 4)\n",
      "Output:   9\n",
      "Expected: 9\n",
      "\n",
      "Input:    ([1, 7, 11], [2, 4, 6], 8)\n",
      "Output:   15\n",
      "Expected: 15\n",
      "\n"
     ]
    }
   ],
   "source": [
    "testcases = [([-1,9,10,12],[-2,-1],1),([1, 7, 11],[2, 4, 6],3),([1, 7, 11],[2, 4, 6],4),([1, 7, 11],[2, 4, 6],8)]\n",
    "expected = [-3,7,9,15]\n",
    "\n",
    "outputs = []\n",
    "sol = Solution();\n",
    "\n",
    "for case in zip(testcases, expected):\n",
    "    print(\"Input:    \" + str(case[0]))\n",
    "    print(\"Output:   \" + str(sol.kthSmallestSum(case[0][0], case[0][1], case[0][2])))\n",
    "    print(\"Expected: \" + str(case[1]) + \"\\n\")"
   ]
  }
 ],
 "metadata": {
  "kernelspec": {
   "display_name": "Python 3",
   "language": "python",
   "name": "python3"
  },
  "language_info": {
   "codemirror_mode": {
    "name": "ipython",
    "version": 3
   },
   "file_extension": ".py",
   "mimetype": "text/x-python",
   "name": "python",
   "nbconvert_exporter": "python",
   "pygments_lexer": "ipython3",
   "version": "3.7.3"
  }
 },
 "nbformat": 4,
 "nbformat_minor": 2
}
