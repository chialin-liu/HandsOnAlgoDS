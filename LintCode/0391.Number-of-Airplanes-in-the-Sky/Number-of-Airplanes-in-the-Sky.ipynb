{
 "cells": [
  {
   "cell_type": "markdown",
   "metadata": {},
   "source": [
    "# 391. Number of Airplanes in the Sky\n",
    "\n",
    "#### https://www.lintcode.com/problem/number-of-airplanes-in-the-sky"
   ]
  },
  {
   "cell_type": "markdown",
   "metadata": {},
   "source": [
    "# Approach 1: Sweep Line"
   ]
  },
  {
   "cell_type": "code",
   "execution_count": 2,
   "metadata": {},
   "outputs": [],
   "source": [
    "\"\"\"\n",
    "Definition of Interval.\n",
    "class Interval(object):\n",
    "    def __init__(self, start, end):\n",
    "        self.start = start\n",
    "        self.end = end\n",
    "\"\"\"\n",
    "\n",
    "class Solution:\n",
    "    \"\"\"\n",
    "    @param airplanes: An interval array\n",
    "    @return: Count of airplanes are in the sky.\n",
    "    \"\"\"\n",
    "    def countOfAirplanes(self, airplanes):\n",
    "        # write your code here\n",
    "        count = {}\n",
    "        for plane in airplanes:\n",
    "            count[plane.start] = count.get(plane.start, 0) + 1\n",
    "            count[plane.end] = count.get(plane.end, 0) - 1\n",
    "        res = 0\n",
    "        cur = 0\n",
    "        for num in sorted(count):\n",
    "            cur += count[num]\n",
    "            res = max(res, cur)\n",
    "        return res"
   ]
  },
  {
   "cell_type": "markdown",
   "metadata": {},
   "source": [
    "# Verification"
   ]
  },
  {
   "cell_type": "code",
   "execution_count": 4,
   "metadata": {},
   "outputs": [
    {
     "name": "stdout",
     "output_type": "stream",
     "text": [
      "Input:    [(1, 10), (2, 3), (5, 8), (4, 7)]\n",
      "Output:   3\n",
      "Expected: 3\n",
      "\n"
     ]
    }
   ],
   "source": [
    "class Interval(object):\n",
    "    def __init__(self, start, end):\n",
    "        self.start = start\n",
    "        self.end = end\n",
    "testcases = [[(1,10),(2,3),(5,8),(4,7)]]\n",
    "expected = [3]\n",
    "\n",
    "outputs = []\n",
    "sol = Solution();\n",
    "\n",
    "for case in zip(testcases, expected):\n",
    "    print(\"Input:    \" + str(case[0]))\n",
    "    airplanes = []\n",
    "    for i, interval in enumerate(case[0]):\n",
    "        tmp = Interval(interval[0], interval[1])\n",
    "        airplanes.append(tmp)\n",
    "    print(\"Output:   \" + str(sol.countOfAirplanes(airplanes)))\n",
    "    print(\"Expected: \" + str(case[1]) + \"\\n\")"
   ]
  }
 ],
 "metadata": {
  "kernelspec": {
   "display_name": "Python 3",
   "language": "python",
   "name": "python3"
  },
  "language_info": {
   "codemirror_mode": {
    "name": "ipython",
    "version": 3
   },
   "file_extension": ".py",
   "mimetype": "text/x-python",
   "name": "python",
   "nbconvert_exporter": "python",
   "pygments_lexer": "ipython3",
   "version": "3.7.3"
  }
 },
 "nbformat": 4,
 "nbformat_minor": 2
}
