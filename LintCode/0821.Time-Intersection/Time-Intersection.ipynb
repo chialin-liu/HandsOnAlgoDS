{
 "cells": [
  {
   "cell_type": "markdown",
   "metadata": {},
   "source": [
    "# 821. Time Intersection\n",
    "\n",
    "#### https://www.lintcode.com/problem/time-intersection/"
   ]
  },
  {
   "cell_type": "markdown",
   "metadata": {},
   "source": [
    "# Approach 1: Sweep Line"
   ]
  },
  {
   "cell_type": "code",
   "execution_count": 17,
   "metadata": {},
   "outputs": [],
   "source": [
    "\"\"\"\n",
    "Definition of Interval.\n",
    "class Interval(object):\n",
    "    def __init__(self, start, end):\n",
    "        self.start = start\n",
    "        self.end = end\n",
    "\"\"\"\n",
    "import sys\n",
    "class Solution:\n",
    "    \"\"\"\n",
    "    @param seqA: the list of intervals\n",
    "    @param seqB: the list of intervals\n",
    "    @return: the time periods\n",
    "    \"\"\"\n",
    "    def timeIntersection(self, seqA, seqB):\n",
    "        # Write your code here\n",
    "        count = {}\n",
    "        for interval in (seqA + seqB):\n",
    "            count[interval.start] = count.get(interval.start, 0) + 1\n",
    "            count[interval.end] = count.get(interval.end, 0) - 1\n",
    "        res = []\n",
    "        cnt = 0\n",
    "        start = end = sys.maxsize\n",
    "        for time in sorted(count):\n",
    "            cnt += count[time]\n",
    "            if cnt == 2: start = time\n",
    "            if cnt == 1:\n",
    "                end = time\n",
    "                if end > start: res.append(Interval(start, end))\n",
    "                start = sys.maxsize\n",
    "        return res    "
   ]
  },
  {
   "cell_type": "markdown",
   "metadata": {},
   "source": [
    "# Verification"
   ]
  },
  {
   "cell_type": "code",
   "execution_count": 18,
   "metadata": {},
   "outputs": [
    {
     "name": "stdout",
     "output_type": "stream",
     "text": [
      "Input:    ([(1, 2), (10, 15)], [(3, 5), (7, 9)])\n",
      "Output:   []\n",
      "Expected: []\n",
      "\n",
      "Input:    ([(1, 2), (5, 100)], [(1, 6)])\n",
      "Output:   [(1, 2), (5, 6)]\n",
      "Expected: [(1, 2), (5, 6)]\n",
      "\n"
     ]
    }
   ],
   "source": [
    "class Interval(object):\n",
    "    def __init__(self, start, end):\n",
    "        self.start = start\n",
    "        self.end = end\n",
    "testcases = [([(1,2),(10,15)],[(3,5),(7,9)]),([(1,2),(5,100)],[(1,6)])]\n",
    "expected = [[],[(1,2),(5,6)]]\n",
    "\n",
    "outputs = []\n",
    "sol = Solution();\n",
    "\n",
    "for case in zip(testcases, expected):\n",
    "    print(\"Input:    \" + str(case[0]))\n",
    "    A = []\n",
    "    B = []\n",
    "    for i, interval in enumerate(case[0][0]):\n",
    "        tmp = Interval(interval[0], interval[1])\n",
    "        A.append(tmp)\n",
    "    for i, interval in enumerate(case[0][1]):\n",
    "        tmp = Interval(interval[0], interval[1])\n",
    "        B.append(tmp)\n",
    "    ans = sol.timeIntersection(A, B)\n",
    "    anslist = []\n",
    "    for a in ans:\n",
    "        anslist.append((a.start, a.end))\n",
    "    print(\"Output:   \" + str(anslist))\n",
    "    print(\"Expected: \" + str(case[1]) + \"\\n\")"
   ]
  }
 ],
 "metadata": {
  "kernelspec": {
   "display_name": "Python 3",
   "language": "python",
   "name": "python3"
  },
  "language_info": {
   "codemirror_mode": {
    "name": "ipython",
    "version": 3
   },
   "file_extension": ".py",
   "mimetype": "text/x-python",
   "name": "python",
   "nbconvert_exporter": "python",
   "pygments_lexer": "ipython3",
   "version": "3.7.3"
  }
 },
 "nbformat": 4,
 "nbformat_minor": 2
}
