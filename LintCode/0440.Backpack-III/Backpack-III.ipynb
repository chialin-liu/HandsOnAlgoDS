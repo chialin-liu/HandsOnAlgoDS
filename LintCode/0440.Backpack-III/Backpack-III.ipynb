{
 "cells": [
  {
   "cell_type": "markdown",
   "metadata": {},
   "source": [
    "# 440. Backpack III\n",
    "#### https://www.lintcode.com/problem/backpack-iii/"
   ]
  },
  {
   "cell_type": "markdown",
   "metadata": {},
   "source": [
    "# Approach 1: Dynamic Programming Space: O(mn)"
   ]
  },
  {
   "cell_type": "code",
   "execution_count": 47,
   "metadata": {},
   "outputs": [],
   "source": [
    "class Solution:\n",
    "    \"\"\"\n",
    "    @param A: an integer array\n",
    "    @param V: an integer array\n",
    "    @param m: An integer\n",
    "    @return: an array\n",
    "    \"\"\"\n",
    "    def backPackIII(self, A, V, m):\n",
    "        # write your code here\n",
    "        n = len(A)\n",
    "        if n == 0: return 0\n",
    "        \n",
    "        ans = 0\n",
    "        \n",
    "        f = [[0] * (m + 1) for _ in range(n + 1)]\n",
    "           \n",
    "        for i in range(1, n + 1):\n",
    "            for j in range(1, m + 1):\n",
    "                f[i][j] = f[i - 1][j]\n",
    "                if j >= A[i - 1]:\n",
    "                    f[i][j] = max(f[i][j], f[i][j - A[i - 1]] + V[i - 1] )\n",
    "                if i == n:\n",
    "                    ans = max(ans, f[i][j])\n",
    "        #print(f)\n",
    "        return ans"
   ]
  },
  {
   "cell_type": "markdown",
   "metadata": {},
   "source": [
    "# Approach 2: Dynamic Programming Space: O(m)"
   ]
  },
  {
   "cell_type": "code",
   "execution_count": 7,
   "metadata": {},
   "outputs": [],
   "source": [
    "class Solution:\n",
    "    \"\"\"\n",
    "    @param A: an integer array\n",
    "    @param V: an integer array\n",
    "    @param m: An integer\n",
    "    @return: an array\n",
    "    \"\"\"\n",
    "    def backPackIII(self, A, V, m):\n",
    "        # write your code here\n",
    "        n = len(A)\n",
    "        if n == 0: return 0\n",
    "        \n",
    "        ans = 0\n",
    "        \n",
    "        f = [[0] * (m + 1) for _ in range(1 + 1)]\n",
    "        \n",
    "        for i in range(1, n + 1):\n",
    "            for j in range(1, m + 1):\n",
    "                f[i % 2][j] = f[(i - 1) % 2][j]\n",
    "                if j >= A[i - 1]:\n",
    "                    f[i % 2][j] = max(f[i % 2][j], f[i % 2][j - A[i - 1]] + V[i - 1] )\n",
    "                if i == n:\n",
    "                    ans = max(ans, f[i % 2][j])\n",
    "                    \n",
    "        return ans"
   ]
  },
  {
   "cell_type": "markdown",
   "metadata": {},
   "source": [
    "# Approach 3: Dynamic Programming Space: O(m)"
   ]
  },
  {
   "cell_type": "code",
   "execution_count": 43,
   "metadata": {},
   "outputs": [],
   "source": [
    "class Solution:\n",
    "    \"\"\"\n",
    "    @param A: an integer array\n",
    "    @param V: an integer array\n",
    "    @param m: An integer\n",
    "    @return: an array\n",
    "    \"\"\"\n",
    "    def backPackIII(self, A, V, m):\n",
    "        # write your code here\n",
    "        n = len(A)\n",
    "        if n == 0: return 0\n",
    "        \n",
    "        ans = 0\n",
    "        f = [0] * (m + 1)\n",
    "            \n",
    "        for i in range(1, n + 1):\n",
    "            for j in range(A[i - 1], m + 1):\n",
    "                f[j] = max(f[j], f[j - A[i - 1]] + V[i - 1])\n",
    "            print(f)\n",
    "        return f[m]"
   ]
  },
  {
   "cell_type": "markdown",
   "metadata": {},
   "source": [
    "# Verification"
   ]
  },
  {
   "cell_type": "code",
   "execution_count": 48,
   "metadata": {},
   "outputs": [
    {
     "name": "stdout",
     "output_type": "stream",
     "text": [
      "Input:    ([2, 3, 5, 7], [1, 5, 2, 4], 10)\n",
      "[[0, 0, 0, 0, 0, 0, 0, 0, 0, 0, 0], [0, 0, 1, 1, 2, 2, 3, 3, 4, 4, 5], [0, 0, 1, 5, 5, 6, 10, 10, 11, 15, 15], [0, 0, 1, 5, 5, 6, 10, 10, 11, 15, 15], [0, 0, 1, 5, 5, 6, 10, 10, 11, 15, 15]]\n",
      "Output:   15\n",
      "Expected: 15\n",
      "\n",
      "Input:    ([1, 2, 3], [1, 2, 3], 5)\n",
      "[[0, 0, 0, 0, 0, 0], [0, 1, 2, 3, 4, 5], [0, 1, 2, 3, 4, 5], [0, 1, 2, 3, 4, 5]]\n",
      "Output:   5\n",
      "Expected: 5\n",
      "\n",
      "Input:    ([1], [1], 10)\n",
      "[[0, 0, 0, 0, 0, 0, 0, 0, 0, 0, 0], [0, 1, 2, 3, 4, 5, 6, 7, 8, 9, 10]]\n",
      "Output:   10\n",
      "Expected: 10\n",
      "\n"
     ]
    }
   ],
   "source": [
    "testcases = [([2, 3, 5, 7],[1, 5, 2, 4],10),([1, 2, 3],[1, 2, 3],5),([1],[1],10)]\n",
    "expected = [15,5,10]\n",
    "\n",
    "outputs = []\n",
    "sol = Solution();\n",
    "\n",
    "for case in zip(testcases, expected):\n",
    "    print(\"Input:    \" + str(case[0]))\n",
    "    print(\"Output:   \" + str(sol.backPackIII(case[0][0],case[0][1],case[0][2])))\n",
    "    print(\"Expected: \" + str(case[1]) + \"\\n\")"
   ]
  }
 ],
 "metadata": {
  "kernelspec": {
   "display_name": "Python 3",
   "language": "python",
   "name": "python3"
  },
  "language_info": {
   "codemirror_mode": {
    "name": "ipython",
    "version": 3
   },
   "file_extension": ".py",
   "mimetype": "text/x-python",
   "name": "python",
   "nbconvert_exporter": "python",
   "pygments_lexer": "ipython3",
   "version": "3.7.3"
  }
 },
 "nbformat": 4,
 "nbformat_minor": 2
}
