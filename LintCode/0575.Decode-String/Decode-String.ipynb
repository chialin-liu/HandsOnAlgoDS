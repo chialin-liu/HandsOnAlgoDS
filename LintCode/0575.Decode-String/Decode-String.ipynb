{
 "cells": [
  {
   "cell_type": "markdown",
   "metadata": {},
   "source": [
    "# 575. Decode String\n",
    "#### https://www.lintcode.com/problem/decode-string"
   ]
  },
  {
   "cell_type": "markdown",
   "metadata": {},
   "source": [
    "# Approach 1: Stack"
   ]
  },
  {
   "cell_type": "code",
   "execution_count": 1,
   "metadata": {},
   "outputs": [],
   "source": [
    "class Solution:\n",
    "    \"\"\"\n",
    "    @param s: an expression includes numbers, letters and brackets\n",
    "    @return: a string\n",
    "    \"\"\"\n",
    "    def expressionExpand(self, s):\n",
    "        # write your code here\n",
    "        stack = []\n",
    "        num = 0\n",
    "        for c in s:\n",
    "            if c.isdigit():\n",
    "                num = num * 10 + int(c)\n",
    "            if c  == \"[\":\n",
    "                stack.append(num)\n",
    "                num = 0\n",
    "            if c == \"]\":\n",
    "                new_str = \"\"\n",
    "                while stack and type(stack[-1]) == str:\n",
    "                    new_str = stack.pop() + new_str\n",
    "                stack.append(new_str * stack.pop())\n",
    "            if c.isalpha():\n",
    "                stack.append(c)\n",
    "        res = \"\"\n",
    "        while stack:\n",
    "            res = stack.pop() + res\n",
    "        #print(stack)\n",
    "        return res"
   ]
  },
  {
   "cell_type": "markdown",
   "metadata": {},
   "source": [
    "# Verification"
   ]
  },
  {
   "cell_type": "code",
   "execution_count": 2,
   "metadata": {},
   "outputs": [
    {
     "name": "stdout",
     "output_type": "stream",
     "text": [
      "Input:    abc3[a]\n",
      "Output:   abcaaa\n",
      "Expected: abcaaa\n",
      "\n",
      "Input:    3[2[ad]3[pf]]xyz\n",
      "Output:   adadpfpfpfadadpfpfpfadadpfpfpfxyz\n",
      "Expected: adadpfpfpfadadpfpfpfadadpfpfpfxyz\n",
      "\n"
     ]
    }
   ],
   "source": [
    "testcases = [\"abc3[a]\",\"3[2[ad]3[pf]]xyz\"]\n",
    "expected = [\"abcaaa\",\"adadpfpfpfadadpfpfpfadadpfpfpfxyz\"]\n",
    "\n",
    "outputs = []\n",
    "sol = Solution();\n",
    "\n",
    "for case in zip(testcases, expected):\n",
    "    print(\"Input:    \" + str(case[0]))\n",
    "    print(\"Output:   \" + str(sol.expressionExpand(case[0])))\n",
    "    print(\"Expected: \" + str(case[1]) + \"\\n\")"
   ]
  }
 ],
 "metadata": {
  "kernelspec": {
   "display_name": "Python 3",
   "language": "python",
   "name": "python3"
  },
  "language_info": {
   "codemirror_mode": {
    "name": "ipython",
    "version": 3
   },
   "file_extension": ".py",
   "mimetype": "text/x-python",
   "name": "python",
   "nbconvert_exporter": "python",
   "pygments_lexer": "ipython3",
   "version": "3.7.3"
  }
 },
 "nbformat": 4,
 "nbformat_minor": 2
}
