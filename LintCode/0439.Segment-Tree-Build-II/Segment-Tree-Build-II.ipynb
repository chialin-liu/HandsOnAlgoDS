{
 "cells": [
  {
   "cell_type": "markdown",
   "metadata": {},
   "source": [
    "# 439. Segment Tree Build II\n",
    "#### https://www.lintcode.com/problem/segment-tree-build-ii/"
   ]
  },
  {
   "cell_type": "markdown",
   "metadata": {},
   "source": [
    "# Approach 1: Recursion"
   ]
  },
  {
   "cell_type": "code",
   "execution_count": 29,
   "metadata": {},
   "outputs": [],
   "source": [
    "class Solution:\n",
    "    \"\"\"\n",
    "    @param A: a list of integer\n",
    "    @return: The root of Segment Tree\n",
    "    \"\"\"\n",
    "    def build(self, A):\n",
    "        # write your code here\n",
    "        return self.helper(A, 0, len(A) - 1)\n",
    "        \n",
    "    def helper(self, A, start, end):\n",
    "        if start > end: return None\n",
    "        if start == end:\n",
    "            return SegmentTreeNode(start, end, A[start])\n",
    "        mid = (start + end) // 2\n",
    "        node = SegmentTreeNode(start, end, A[start])\n",
    "        node.left = self.helper(A, start, mid)\n",
    "        node.right = self.helper(A, mid + 1, end)\n",
    "        if node.left:\n",
    "            node.max = max(node.max, node.left.max)\n",
    "        if node.right:\n",
    "            node.max = max(node.max, node.right.max)\n",
    "        \n",
    "        return node"
   ]
  },
  {
   "cell_type": "markdown",
   "metadata": {},
   "source": [
    "# Verification"
   ]
  },
  {
   "cell_type": "code",
   "execution_count": 30,
   "metadata": {},
   "outputs": [
    {
     "name": "stdout",
     "output_type": "stream",
     "text": [
      "Input:    [3, 2, 1, 4]\n",
      "Output:   [0,3,max=4][0,1,max=3][2,3,max=4][0,0,max=3][1,1,max=2][2,2,max=1][3,3,max=4]\n",
      "Expected: [0,3,max=4][0,1,max=3][2,3,max=4][0,0,max=3][1,1,max=2][2,2,max=1][3,3,max=4]\n",
      "\n"
     ]
    }
   ],
   "source": [
    "testcases = [[3,2,1,4]]\n",
    "expected = [\"[0,3,max=4][0,1,max=3][2,3,max=4][0,0,max=3][1,1,max=2][2,2,max=1][3,3,max=4]\"]\n",
    "\n",
    "outputs = []\n",
    "sol = Solution();\n",
    "\n",
    "for case in zip(testcases, expected):\n",
    "    print(\"Input:    \" + str(case[0]))\n",
    "    print(\"Output:   \" + str(treeNodeToString(sol.build(case[0]))))\n",
    "    print(\"Expected: \" + str(case[1]) + \"\\n\")"
   ]
  },
  {
   "cell_type": "code",
   "execution_count": 27,
   "metadata": {},
   "outputs": [],
   "source": [
    "class SegmentTreeNode:\n",
    "    def __init__(self, start, end, max):\n",
    "        self.start, self.end, self.max = start, end, max\n",
    "        self.left, self.right = None, None\n",
    "\n",
    "def treeNodeToString(root):\n",
    "    if not root:\n",
    "        return \"[]\"\n",
    "    output = \"\"\n",
    "    queue = [root]\n",
    "    current = 0\n",
    "    while current != len(queue):\n",
    "        node = queue[current]\n",
    "        current = current + 1\n",
    "\n",
    "        if not node:\n",
    "            #output += \"null, \"\n",
    "            continue\n",
    "\n",
    "        output += \"[\" + str(node.start) + \",\" + str(node.end) + \",max=\" + str(node.max) + \"]\"\n",
    "        queue.append(node.left)\n",
    "        queue.append(node.right)\n",
    "    return output\n",
    "\n",
    "def stringToTreeNode(input):\n",
    "    input = input.strip()\n",
    "    input = input[1:-1]\n",
    "    if not input:\n",
    "        return None\n",
    "\n",
    "    inputValues = [s.split(\",\") for s in input.split('][')]\n",
    "    print(inputValues)\n",
    "    root = SegmentTreeNode(int(inputValues[0][0]),int(inputValues[0][1]),int(inputValues[0][2][4:]))\n",
    "    nodeQueue = [root]\n",
    "    front = 0\n",
    "    index = 1\n",
    "    while index < len(inputValues):\n",
    "        node = nodeQueue[front]\n",
    "        front = front + 1\n",
    "\n",
    "        item = inputValues[index]\n",
    "        index = index + 1\n",
    "        if item != \"null\":\n",
    "            node.left = SegmentTreeNode(int(item[0]),int(item[1]),int(item[2][4:]))\n",
    "            nodeQueue.append(node.left)\n",
    "\n",
    "        if index >= len(inputValues):\n",
    "            break\n",
    "\n",
    "        item = inputValues[index]\n",
    "        index = index + 1\n",
    "        if item != \"null\":\n",
    "            node.right = SegmentTreeNode(int(item[0]),int(item[1]),int(item[2][4:]))\n",
    "            nodeQueue.append(node.right)\n",
    "    return root"
   ]
  }
 ],
 "metadata": {
  "kernelspec": {
   "display_name": "Python 3",
   "language": "python",
   "name": "python3"
  },
  "language_info": {
   "codemirror_mode": {
    "name": "ipython",
    "version": 3
   },
   "file_extension": ".py",
   "mimetype": "text/x-python",
   "name": "python",
   "nbconvert_exporter": "python",
   "pygments_lexer": "ipython3",
   "version": "3.7.3"
  }
 },
 "nbformat": 4,
 "nbformat_minor": 2
}
