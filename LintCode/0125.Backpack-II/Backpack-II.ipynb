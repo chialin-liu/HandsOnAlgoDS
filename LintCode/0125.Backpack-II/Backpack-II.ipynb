{
 "cells": [
  {
   "cell_type": "markdown",
   "metadata": {},
   "source": [
    "# 125. Backpack II\n",
    "#### https://www.lintcode.com/problem/backpack-ii/"
   ]
  },
  {
   "cell_type": "markdown",
   "metadata": {},
   "source": [
    "# Approach 1: Dynamic Programming Space: O(mn)"
   ]
  },
  {
   "cell_type": "code",
   "execution_count": 7,
   "metadata": {},
   "outputs": [],
   "source": [
    "class Solution:\n",
    "    \"\"\"\n",
    "    @param m: An integer m denotes the size of a backpack\n",
    "    @param A: Given n items with size A[i]\n",
    "    @param V: Given n items with value V[i]\n",
    "    @return: The maximum value\n",
    "    \"\"\"\n",
    "    def backPackII(self, m, A, V):\n",
    "        # write your code here\n",
    "        n = len(A)\n",
    "        if n == 0: return 0\n",
    "        \n",
    "        ans = 0\n",
    "        \n",
    "        f  = [[0] * (m + 1) for _ in range(n + 1)]\n",
    "        \n",
    "        for i in range(1, m + 1):\n",
    "            f[0][i] = -1\n",
    "            \n",
    "        for i in range(1, n + 1):\n",
    "            for j in range(1, m + 1):\n",
    "                f[i][j] = f[i - 1][j]\n",
    "                if j >= A[i - 1] and f[i - 1][j - A[i - 1]] != -1:\n",
    "                    f[i][j] = max(f[i][j], f[i - 1][j - A[i - 1]] + V[i - 1])\n",
    "                    \n",
    "                if i == n:\n",
    "                    ans = max(ans, f[i][j])\n",
    "        return ans"
   ]
  },
  {
   "cell_type": "markdown",
   "metadata": {},
   "source": [
    "# Approach 2: Dynamic Programming Space: O(m)"
   ]
  },
  {
   "cell_type": "code",
   "execution_count": 9,
   "metadata": {},
   "outputs": [],
   "source": [
    "class Solution:\n",
    "    \"\"\"\n",
    "    @param m: An integer m denotes the size of a backpack\n",
    "    @param A: Given n items with size A[i]\n",
    "    @param V: Given n items with value V[i]\n",
    "    @return: The maximum value\n",
    "    \"\"\"\n",
    "    def backPackII(self, m, A, V):\n",
    "        # write your code here\n",
    "        n = len(A)\n",
    "        if n == 0: return 0\n",
    "        \n",
    "        ans = 0\n",
    "        \n",
    "        f  = [[0] * (m + 1) for _ in range(1 + 1)]\n",
    "        \n",
    "        for i in range(1, m + 1):\n",
    "            f[0][i] = -1\n",
    "            \n",
    "        for i in range(1, n + 1):\n",
    "            for j in range(1, m + 1):\n",
    "                f[i % 2][j] = f[(i - 1) % 2][j]\n",
    "                if j >= A[i - 1] and f[(i - 1) % 2][j - A[i - 1]] != -1:\n",
    "                    f[i % 2][j] = max(f[i % 2][j], f[(i - 1) % 2][j - A[i - 1]] + V[i - 1])\n",
    "                    \n",
    "                if i == n:\n",
    "                    ans = max(ans, f[i % 2][j])\n",
    "        return ans"
   ]
  },
  {
   "cell_type": "markdown",
   "metadata": {},
   "source": [
    "# Approach 3: Dynamic Programming Space: O(m)"
   ]
  },
  {
   "cell_type": "code",
   "execution_count": 13,
   "metadata": {},
   "outputs": [],
   "source": [
    "class Solution:\n",
    "    \"\"\"\n",
    "    @param m: An integer m denotes the size of a backpack\n",
    "    @param A: Given n items with size A[i]\n",
    "    @param V: Given n items with value V[i]\n",
    "    @return: The maximum value\n",
    "    \"\"\"\n",
    "    def backPackII(self, m, A, V):\n",
    "        # write your code here\n",
    "        n = len(A)\n",
    "        if n == 0: return 0\n",
    "        \n",
    "        ans = 0\n",
    "        \n",
    "        f  = [0] * (m + 1)\n",
    "        \n",
    "        for i in range(1, m + 1):\n",
    "            f[i] = -1\n",
    "            \n",
    "        for i in range(1, n + 1):\n",
    "            for j in range(m, -1, -1):\n",
    "                if j >= A[i - 1] and f[j - A[i - 1]] != -1:\n",
    "                    f[j] = max(f[j], f[j - A[i - 1]] + V[i - 1])\n",
    "                    \n",
    "                if i == n:\n",
    "                    ans = max(ans, f[j])\n",
    "        return ans"
   ]
  },
  {
   "cell_type": "markdown",
   "metadata": {},
   "source": [
    "# Verification"
   ]
  },
  {
   "cell_type": "code",
   "execution_count": 14,
   "metadata": {},
   "outputs": [
    {
     "name": "stdout",
     "output_type": "stream",
     "text": [
      "Input:    (10, [2, 3, 5, 7], [1, 5, 2, 4])\n",
      "Output:   9\n",
      "Expected: 9\n",
      "\n",
      "Input:    (10, [2, 3, 8], [2, 5, 8])\n",
      "Output:   10\n",
      "Expected: 10\n",
      "\n"
     ]
    }
   ],
   "source": [
    "testcases = [(10,[2,3,5,7],[1,5,2,4]),(10,[2, 3, 8],[2, 5, 8])]\n",
    "expected = [9,10]\n",
    "\n",
    "outputs = []\n",
    "sol = Solution();\n",
    "\n",
    "for case in zip(testcases, expected):\n",
    "    print(\"Input:    \" + str(case[0]))\n",
    "    print(\"Output:   \" + str(sol.backPackII(case[0][0],case[0][1],case[0][2])))\n",
    "    print(\"Expected: \" + str(case[1]) + \"\\n\")"
   ]
  }
 ],
 "metadata": {
  "kernelspec": {
   "display_name": "Python 3",
   "language": "python",
   "name": "python3"
  },
  "language_info": {
   "codemirror_mode": {
    "name": "ipython",
    "version": 3
   },
   "file_extension": ".py",
   "mimetype": "text/x-python",
   "name": "python",
   "nbconvert_exporter": "python",
   "pygments_lexer": "ipython3",
   "version": "3.7.3"
  }
 },
 "nbformat": 4,
 "nbformat_minor": 2
}
