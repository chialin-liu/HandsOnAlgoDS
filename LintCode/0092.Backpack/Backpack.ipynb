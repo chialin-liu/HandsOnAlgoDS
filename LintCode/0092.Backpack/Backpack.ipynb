{
 "cells": [
  {
   "cell_type": "markdown",
   "metadata": {},
   "source": [
    "# 92. Backpack\n",
    "#### https://www.lintcode.com/problem/backpack/"
   ]
  },
  {
   "cell_type": "markdown",
   "metadata": {},
   "source": [
    "# Approach 1: Dynamic Programming Space: O(mn)"
   ]
  },
  {
   "cell_type": "code",
   "execution_count": 5,
   "metadata": {},
   "outputs": [],
   "source": [
    "class Solution:\n",
    "    \"\"\"\n",
    "    @param m: An integer m denotes the size of a backpack\n",
    "    @param A: Given n items with size A[i]\n",
    "    @return: The maximum size\n",
    "    \"\"\"\n",
    "    def backPack(self, m, A):\n",
    "        # write your code here\n",
    "        n = len(A)\n",
    "        f = [[False] * (m + 1) for _ in range(n + 1)]\n",
    "        f[0][0] = True\n",
    "        \n",
    "        for i in range(1, n + 1):\n",
    "            f[i][0] = True\n",
    "            for j in range(1, m + 1):\n",
    "                f[i][j] = f[i - 1][j]\n",
    "                if j >= A[i - 1]:\n",
    "                    f[i][j] |= f[i - 1][j - A[i - 1]]\n",
    "        \n",
    "        for j in range(m, -1, -1):\n",
    "            if f[n][j] == True: return j\n",
    "        return 0"
   ]
  },
  {
   "cell_type": "markdown",
   "metadata": {},
   "source": [
    "# Approach 2: Dynamic Programming Space: O(m)"
   ]
  },
  {
   "cell_type": "code",
   "execution_count": 8,
   "metadata": {},
   "outputs": [],
   "source": [
    "class Solution:\n",
    "    \"\"\"\n",
    "    @param m: An integer m denotes the size of a backpack\n",
    "    @param A: Given n items with size A[i]\n",
    "    @return: The maximum size\n",
    "    \"\"\"\n",
    "    def backPack(self, m, A):\n",
    "        # write your code here\n",
    "        n = len(A)\n",
    "        f = [[False] * (m + 1) for _ in range(1 + 1)]\n",
    "        f[0][0] = True\n",
    "        \n",
    "        for i in range(1, n + 1):\n",
    "            f[i % 2][0] = True\n",
    "            for j in range(1, m + 1):\n",
    "                f[i % 2][j] = f[(i - 1) % 2][j]\n",
    "                if j >= A[i - 1]:\n",
    "                    f[i % 2][j] |= f[(i - 1) % 2][j - A[i - 1]]\n",
    "        \n",
    "        for j in range(m, -1, -1):\n",
    "            if f[n % 2][j] == True: return j\n",
    "        return 0"
   ]
  },
  {
   "cell_type": "markdown",
   "metadata": {},
   "source": [
    "# Approach 3: Dynamic Programming Space: O(m)"
   ]
  },
  {
   "cell_type": "code",
   "execution_count": 14,
   "metadata": {},
   "outputs": [],
   "source": [
    "class Solution:\n",
    "    \"\"\"\n",
    "    @param m: An integer m denotes the size of a backpack\n",
    "    @param A: Given n items with size A[i]\n",
    "    @return: The maximum size\n",
    "    \"\"\"\n",
    "    def backPack(self, m, A):\n",
    "        # write your code here\n",
    "        n = len(A)\n",
    "        f = [False] * (m + 1)\n",
    "        f[0] = True\n",
    "        ans = 0\n",
    "        for i in range(1, n + 1):\n",
    "            for j in range(m, -1, -1):\n",
    "                if j >= A[i - 1]:\n",
    "                    f[j] |= f[j - A[i - 1]]\n",
    "                if i == n and f[j]:\n",
    "                    ans = max(ans, j)\n",
    "        return ans"
   ]
  },
  {
   "cell_type": "markdown",
   "metadata": {},
   "source": [
    "# Verification"
   ]
  },
  {
   "cell_type": "code",
   "execution_count": 15,
   "metadata": {},
   "outputs": [
    {
     "name": "stdout",
     "output_type": "stream",
     "text": [
      "Input:    (10, [3, 4, 8, 5])\n",
      "Output:   9\n",
      "Expected: 9\n",
      "\n",
      "Input:    (12, [2, 3, 5, 7])\n",
      "Output:   12\n",
      "Expected: 12\n",
      "\n",
      "Input:    (10, [20, 15, 15, 15, 15, 15, 15, 15, 15, 15, 15, 15, 15, 15, 15, 7, 2, 15, 15, 15, 15])\n",
      "Output:   9\n",
      "Expected: 9\n",
      "\n"
     ]
    }
   ],
   "source": [
    "testcases = [(10,[3,4,8,5]),(12,[2,3,5,7]),(10,[20,15,15,15,15,15,15,15,15,15,15,15,15,15,15,7,2,15,15,15,15])]\n",
    "expected = [9,12,9]\n",
    "\n",
    "outputs = []\n",
    "sol = Solution();\n",
    "\n",
    "for case in zip(testcases, expected):\n",
    "    print(\"Input:    \" + str(case[0]))\n",
    "    print(\"Output:   \" + str(sol.backPack(case[0][0],case[0][1])))\n",
    "    print(\"Expected: \" + str(case[1]) + \"\\n\")"
   ]
  }
 ],
 "metadata": {
  "kernelspec": {
   "display_name": "Python 3",
   "language": "python",
   "name": "python3"
  },
  "language_info": {
   "codemirror_mode": {
    "name": "ipython",
    "version": 3
   },
   "file_extension": ".py",
   "mimetype": "text/x-python",
   "name": "python",
   "nbconvert_exporter": "python",
   "pygments_lexer": "ipython3",
   "version": "3.7.3"
  }
 },
 "nbformat": 4,
 "nbformat_minor": 2
}
