{
 "cells": [
  {
   "cell_type": "markdown",
   "metadata": {},
   "source": [
    "# 89. k Sum\n",
    "\n",
    "#### https://www.lintcode.com/problem/k-sum"
   ]
  },
  {
   "cell_type": "markdown",
   "metadata": {},
   "source": [
    "# Approach 1: Dynamic Programming Space: O(n x k x target)"
   ]
  },
  {
   "cell_type": "code",
   "execution_count": 38,
   "metadata": {},
   "outputs": [],
   "source": [
    "class Solution:\n",
    "    \"\"\"\n",
    "    @param A: An integer array\n",
    "    @param k: A positive integer (k <= length(A))\n",
    "    @param target: An integer\n",
    "    @return: An integer\n",
    "    \"\"\"\n",
    "    def kSum(self, A, k, target):\n",
    "        # write your code here\n",
    "        n = len(A)\n",
    "        if n == 0: return 0\n",
    "        \n",
    "        f = [[[0] * (target + 1) for _ in range(k + 1)] for __ in range(n + 1)]\n",
    "\n",
    "        for i in range(n + 1):\n",
    "            f[i][0][0] = 1\n",
    "\n",
    "        for i in range(1, n + 1):\n",
    "            for j in range(1, k + 1):\n",
    "                for s in range(1, target + 1):\n",
    "                    f[i][j][s] = f[i - 1][j][s]\n",
    "                    if s >= A[i - 1]:\n",
    "                        f[i][j][s] += f[i - 1][j - 1][s - A[i - 1]]\n",
    "        print(f)                \n",
    "        return f[n][k][target]"
   ]
  },
  {
   "cell_type": "markdown",
   "metadata": {},
   "source": [
    "# Approach 2: Dynamic Programming Space: O(k x target)"
   ]
  },
  {
   "cell_type": "code",
   "execution_count": 46,
   "metadata": {},
   "outputs": [],
   "source": [
    "class Solution:\n",
    "    \"\"\"\n",
    "    @param A: An integer array\n",
    "    @param k: A positive integer (k <= length(A))\n",
    "    @param target: An integer\n",
    "    @return: An integer\n",
    "    \"\"\"\n",
    "    def kSum(self, A, k, target):\n",
    "        # write your code here\n",
    "        n = len(A)\n",
    "        if n == 0: return 0\n",
    "        \n",
    "        f = [[[0] * (target + 1) for _ in range(k + 1)] for __ in range(1 + 1)]\n",
    "\n",
    "        for i in range(n + 1):\n",
    "            f[i % 2][0][0] = 1\n",
    "\n",
    "        for i in range(1, n + 1):\n",
    "            for j in range(1, k + 1):\n",
    "                for s in range(1, target + 1):\n",
    "                    f[i % 2][j][s] = f[(i - 1) % 2][j][s]\n",
    "                    if s >= A[i - 1]:\n",
    "                        f[i % 2][j][s] += f[(i - 1) % 2][j - 1][s - A[i - 1]]\n",
    "                        \n",
    "        return f[n % 2][k][target]"
   ]
  },
  {
   "cell_type": "markdown",
   "metadata": {},
   "source": [
    "# Verification"
   ]
  },
  {
   "cell_type": "code",
   "execution_count": 47,
   "metadata": {},
   "outputs": [
    {
     "name": "stdout",
     "output_type": "stream",
     "text": [
      "Input:    ([1, 2, 3, 4], 2, 5)\n",
      "Output:   2\n",
      "Expected: 2\n",
      "\n",
      "Input:    ([1, 2, 3, 4, 5], 3, 6)\n",
      "Output:   1\n",
      "Expected: 1\n",
      "\n"
     ]
    }
   ],
   "source": [
    "testcases = [([1,2,3,4],2,5),([1,2,3,4,5],3,6)]\n",
    "expected = [2,1]\n",
    "\n",
    "outputs = []\n",
    "sol = Solution();\n",
    "\n",
    "for case in zip(testcases, expected):\n",
    "    print(\"Input:    \" + str(case[0]))\n",
    "    print(\"Output:   \" + str(sol.kSum(case[0][0],case[0][1],case[0][2])))\n",
    "    print(\"Expected: \" + str(case[1]) + \"\\n\")"
   ]
  }
 ],
 "metadata": {
  "kernelspec": {
   "display_name": "Python 3",
   "language": "python",
   "name": "python3"
  },
  "language_info": {
   "codemirror_mode": {
    "name": "ipython",
    "version": 3
   },
   "file_extension": ".py",
   "mimetype": "text/x-python",
   "name": "python",
   "nbconvert_exporter": "python",
   "pygments_lexer": "ipython3",
   "version": "3.7.3"
  }
 },
 "nbformat": 4,
 "nbformat_minor": 2
}
