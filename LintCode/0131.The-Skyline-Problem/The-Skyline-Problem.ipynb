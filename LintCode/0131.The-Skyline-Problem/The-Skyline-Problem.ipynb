{
 "cells": [
  {
   "cell_type": "markdown",
   "metadata": {},
   "source": [
    "# 131. The Skyline Problem\n",
    "#### https://www.lintcode.com/problem/the-skyline-problem"
   ]
  },
  {
   "cell_type": "markdown",
   "metadata": {},
   "source": [
    "# Approach 1"
   ]
  },
  {
   "cell_type": "code",
   "execution_count": 25,
   "metadata": {},
   "outputs": [],
   "source": [
    "class Solution:\n",
    "    \"\"\"\n",
    "    @param buildings: A list of lists of integers\n",
    "    @return: Find the outline of those buildings\n",
    "    \"\"\"\n",
    "    def buildingOutline(self, buildings):\n",
    "        # write your code here\n",
    "        points = []\n",
    "        for i, building in enumerate(buildings):\n",
    "            start, end, height = building\n",
    "            points.append((start, height, i, True))\n",
    "            points.append((end, height, i, False))\n",
    "        points.sort()\n",
    "        \n",
    "        maxheap = MyHeapHash()\n",
    "        res = []\n",
    "        pre_position = None\n",
    "        for position, height, index, is_start in points:\n",
    "            max_h = 0\n",
    "            if maxheap.size: max_h = -maxheap.top()[0]\n",
    "            self.merge(res, pre_position, position, max_h)\n",
    "            if is_start:\n",
    "                maxheap.push((-height, index))\n",
    "            else:\n",
    "                maxheap.remove((-height, index))\n",
    "            pre_position = position\n",
    "            \n",
    "        return res\n",
    "            \n",
    "    def merge(self, res, start, end, height):\n",
    "        if start == None or height == 0 or start == end: return\n",
    "        if res == []:\n",
    "            res.append([start, end, height])\n",
    "            return\n",
    "\n",
    "        if start == res[-1][1] and height == res[-1][2]:\n",
    "            res[-1][1] = end\n",
    "            return\n",
    "        \n",
    "        res.append([start, end, height])"
   ]
  },
  {
   "cell_type": "markdown",
   "metadata": {},
   "source": [
    "# Verification"
   ]
  },
  {
   "cell_type": "code",
   "execution_count": 26,
   "metadata": {},
   "outputs": [
    {
     "name": "stdout",
     "output_type": "stream",
     "text": [
      "Input:    [[1, 3, 3], [2, 4, 4], [5, 6, 1]]\n",
      "[(1, 3, 0, True), (2, 4, 1, True), (3, 3, 0, False), (4, 4, 1, False), (5, 1, 2, True), (6, 1, 2, False)]\n",
      "Output:   [[1, 2, 3], [2, 4, 4], [5, 6, 1]]\n",
      "Expected: [[1, 2, 3], [2, 4, 4], [5, 6, 1]]\n",
      "\n",
      "Input:    [[1, 4, 3], [6, 9, 5]]\n",
      "[(1, 3, 0, True), (4, 3, 0, False), (6, 5, 1, True), (9, 5, 1, False)]\n",
      "Output:   [[1, 4, 3], [6, 9, 5]]\n",
      "Expected: [[1, 4, 3], [6, 9, 5]]\n",
      "\n"
     ]
    }
   ],
   "source": [
    "testcases = [[[1,3,3],[2,4,4],[5,6,1]],[[1,4,3],[6,9,5]]]\n",
    "expected = [[[1,2,3],[2,4,4],[5,6,1]],[[1,4,3],[6,9,5]]]\n",
    "\n",
    "outputs = []\n",
    "sol = Solution();\n",
    "\n",
    "for case in zip(testcases, expected):\n",
    "    print(\"Input:    \" + str(case[0]))\n",
    "    print(\"Output:   \" + str(sol.buildingOutline(case[0])))\n",
    "    print(\"Expected: \" + str(case[1]) + \"\\n\")"
   ]
  },
  {
   "cell_type": "markdown",
   "metadata": {},
   "source": [
    "# My Heap Hash"
   ]
  },
  {
   "cell_type": "code",
   "execution_count": 14,
   "metadata": {},
   "outputs": [],
   "source": [
    "class MyHeapHash(object):\n",
    "\n",
    "    def __init__(self):\n",
    "        \"\"\"\n",
    "        Initialize your data structure here.\n",
    "        \"\"\"\n",
    "        self.heap = []\n",
    "        self.hash = {}\n",
    "        self.size = 0\n",
    "        \n",
    "    def top(self):\n",
    "        return self.heap[0]\n",
    "    \n",
    "    def push(self, key):\n",
    "        \"\"\"\n",
    "        :type key: int\n",
    "        :rtype: None\n",
    "        \"\"\"\n",
    "        #if key in self.hash: return\n",
    "        self.heap.append(key)\n",
    "        self.hash[key] = len(self.heap) - 1\n",
    "        self.size += 1\n",
    "        self.sift_up(self.hash[key])\n",
    "\n",
    "    def remove(self, key):\n",
    "        \"\"\"\n",
    "        :type key: int\n",
    "        :rtype: None\n",
    "        \"\"\"\n",
    "        if key not in self.hash: return\n",
    "        index = self.hash[key]\n",
    "            \n",
    "        self.heap[index], self.heap[self.size - 1] = self.heap[self.size - 1], self.heap[index]\n",
    "        \n",
    "        self.hash[self.heap[index]] = index\n",
    "\n",
    "        self.heap.pop()\n",
    "        del self.hash[key]\n",
    "        self.size -= 1\n",
    "        \n",
    "        if index < self.size:\n",
    "            self.sift_up(index)\n",
    "            self.sift_down(index)\n",
    "            \n",
    "    def pop(self):\n",
    "        val = self.heap[0]\n",
    "        self.remove(val)\n",
    "        return val\n",
    "    \n",
    "    def sift_up(self, index):   \n",
    "        while (index - 1) // 2 >= 0:\n",
    "            if self.heap[index] >=  self.heap[(index - 1) // 2]: break\n",
    "            val1, val2 = self.heap[index], self.heap[(index - 1) // 2]\n",
    "            self.heap[index], self.heap[(index - 1) // 2] = val2, val1\n",
    "            self.hash[val1], self.hash[val2] = (index - 1) // 2, index\n",
    "            index = (index - 1) // 2\n",
    "            \n",
    "    def sift_down(self, index):\n",
    "        while index * 2 + 1 < self.size:\n",
    "            left = right = index * 2 + 1\n",
    "            if right < self.size - 1: right += 1\n",
    "            if self.heap[index] <= min(self.heap[left], self.heap[right]): break\n",
    "            target = right\n",
    "            if self.heap[left] < self.heap[right]: target = left\n",
    "            val1, val2 = self.heap[index], self.heap[target]\n",
    "            self.heap[index], self.heap[target] = val2, val1\n",
    "            self.hash[val1], self.hash[val2] = target, index\n",
    "            index = target"
   ]
  }
 ],
 "metadata": {
  "kernelspec": {
   "display_name": "Python 3",
   "language": "python",
   "name": "python3"
  },
  "language_info": {
   "codemirror_mode": {
    "name": "ipython",
    "version": 3
   },
   "file_extension": ".py",
   "mimetype": "text/x-python",
   "name": "python",
   "nbconvert_exporter": "python",
   "pygments_lexer": "ipython3",
   "version": "3.7.3"
  }
 },
 "nbformat": 4,
 "nbformat_minor": 2
}
