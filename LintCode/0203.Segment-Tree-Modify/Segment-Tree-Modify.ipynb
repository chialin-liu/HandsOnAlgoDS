{
 "cells": [
  {
   "cell_type": "markdown",
   "metadata": {},
   "source": [
    "# 203. Segment Tree Modify\n",
    "#### https://www.lintcode.com/problem/segment-tree-modify/"
   ]
  },
  {
   "cell_type": "markdown",
   "metadata": {},
   "source": [
    "# Approach 1: Recursion"
   ]
  },
  {
   "cell_type": "code",
   "execution_count": 5,
   "metadata": {},
   "outputs": [],
   "source": [
    "import sys\n",
    "class Solution:\n",
    "    \"\"\"\n",
    "    @param root: The root of segment tree.\n",
    "    @param index: index.\n",
    "    @param value: value\n",
    "    @return: nothing\n",
    "    \"\"\"\n",
    "    def modify(self, root, index, value):\n",
    "        # write your code here\n",
    "        if index == root.start == root.end:\n",
    "            root.max = value\n",
    "            return\n",
    "        \n",
    "        mid = (root.start + root.end) // 2\n",
    "        if index <= mid:\n",
    "            self.modify(root.left, index, value)\n",
    "        else:\n",
    "            self.modify(root.right, index, value)\n",
    "        root.max = max(root.left.max, root.right.max)\n",
    "        return\n",
    "        "
   ]
  },
  {
   "cell_type": "markdown",
   "metadata": {},
   "source": [
    "# Verification"
   ]
  },
  {
   "cell_type": "code",
   "execution_count": 6,
   "metadata": {},
   "outputs": [
    {
     "name": "stdout",
     "output_type": "stream",
     "text": [
      "Input:    ('[1,4,max=3][1,2,max=2][3,4,max=3][1,1,max=2][2,2,max=1][3,3,max=0][4,4,max=3]', 2, 4)\n",
      "[['1', '4', 'max=3'], ['1', '2', 'max=2'], ['3', '4', 'max=3'], ['1', '1', 'max=2'], ['2', '2', 'max=1'], ['3', '3', 'max=0'], ['4', '4', 'max=3']]\n",
      "Output:   [1,4,max=4][1,2,max=4][3,4,max=3][1,1,max=2][2,2,max=4][3,3,max=0][4,4,max=3]\n",
      "Expected: [1,4,max=4][1,2,max=4][3,4,max=3][1,1,max=2][2,2,max=4][3,3,max=0][4,4,max=3]\n",
      "\n",
      "Input:    ('[1,4,max=3][1,2,max=2][3,4,max=3][1,1,max=2][2,2,max=1][3,3,max=0][4,4,max=3]', 4, 0)\n",
      "[['1', '4', 'max=3'], ['1', '2', 'max=2'], ['3', '4', 'max=3'], ['1', '1', 'max=2'], ['2', '2', 'max=1'], ['3', '3', 'max=0'], ['4', '4', 'max=3']]\n",
      "Output:   [1,4,max=2][1,2,max=2][3,4,max=0][1,1,max=2][2,2,max=1][3,3,max=0][4,4,max=0]\n",
      "Expected: [1,4,max=4][1,2,max=4][3,4,max=0][1,1,max=2][2,2,max=4][3,3,max=0][4,4,max=0]\n",
      "\n"
     ]
    }
   ],
   "source": [
    "testcases = [(\"[1,4,max=3][1,2,max=2][3,4,max=3][1,1,max=2][2,2,max=1][3,3,max=0][4,4,max=3]\",2,4),(\"[1,4,max=3][1,2,max=2][3,4,max=3][1,1,max=2][2,2,max=1][3,3,max=0][4,4,max=3]\",4,0)]\n",
    "expected = [\"[1,4,max=4][1,2,max=4][3,4,max=3][1,1,max=2][2,2,max=4][3,3,max=0][4,4,max=3]\",\"[1,4,max=4][1,2,max=4][3,4,max=0][1,1,max=2][2,2,max=4][3,3,max=0][4,4,max=0]\"]\n",
    "\n",
    "outputs = []\n",
    "sol = Solution();\n",
    "\n",
    "for case in zip(testcases, expected):\n",
    "    print(\"Input:    \" + str(case[0]))\n",
    "    node = stringToTreeNode(case[0][0])\n",
    "    sol.modify(node, case[0][1], case[0][2])\n",
    "    print(\"Output:   \" + str(treeNodeToString(node)))\n",
    "    print(\"Expected: \" + str(case[1]) + \"\\n\")"
   ]
  },
  {
   "cell_type": "code",
   "execution_count": 3,
   "metadata": {},
   "outputs": [],
   "source": [
    "class SegmentTreeNode:\n",
    "    def __init__(self, start, end, max):\n",
    "        self.start, self.end, self.max = start, end, max\n",
    "        self.left, self.right = None, None\n",
    "\n",
    "def treeNodeToString(root):\n",
    "    if not root:\n",
    "        return \"[]\"\n",
    "    output = \"\"\n",
    "    queue = [root]\n",
    "    current = 0\n",
    "    while current != len(queue):\n",
    "        node = queue[current]\n",
    "        current = current + 1\n",
    "\n",
    "        if not node:\n",
    "            #output += \"null, \"\n",
    "            continue\n",
    "\n",
    "        output += \"[\" + str(node.start) + \",\" + str(node.end) + \",max=\" + str(node.max) + \"]\"\n",
    "        queue.append(node.left)\n",
    "        queue.append(node.right)\n",
    "    return output\n",
    "\n",
    "def stringToTreeNode(input):\n",
    "    input = input.strip()\n",
    "    input = input[1:-1]\n",
    "    if not input:\n",
    "        return None\n",
    "\n",
    "    inputValues = [s.split(\",\") for s in input.split('][')]\n",
    "    print(inputValues)\n",
    "    root = SegmentTreeNode(int(inputValues[0][0]),int(inputValues[0][1]),int(inputValues[0][2][4:]))\n",
    "    nodeQueue = [root]\n",
    "    front = 0\n",
    "    index = 1\n",
    "    while index < len(inputValues):\n",
    "        node = nodeQueue[front]\n",
    "        front = front + 1\n",
    "\n",
    "        item = inputValues[index]\n",
    "        index = index + 1\n",
    "        if item != \"null\":\n",
    "            node.left = SegmentTreeNode(int(item[0]),int(item[1]),int(item[2][4:]))\n",
    "            nodeQueue.append(node.left)\n",
    "\n",
    "        if index >= len(inputValues):\n",
    "            break\n",
    "\n",
    "        item = inputValues[index]\n",
    "        index = index + 1\n",
    "        if item != \"null\":\n",
    "            node.right = SegmentTreeNode(int(item[0]),int(item[1]),int(item[2][4:]))\n",
    "            nodeQueue.append(node.right)\n",
    "    return root"
   ]
  }
 ],
 "metadata": {
  "kernelspec": {
   "display_name": "Python 3",
   "language": "python",
   "name": "python3"
  },
  "language_info": {
   "codemirror_mode": {
    "name": "ipython",
    "version": 3
   },
   "file_extension": ".py",
   "mimetype": "text/x-python",
   "name": "python",
   "nbconvert_exporter": "python",
   "pygments_lexer": "ipython3",
   "version": "3.7.3"
  }
 },
 "nbformat": 4,
 "nbformat_minor": 2
}
