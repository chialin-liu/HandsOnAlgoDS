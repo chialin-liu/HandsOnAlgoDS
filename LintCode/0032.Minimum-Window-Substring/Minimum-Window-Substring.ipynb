{
 "cells": [
  {
   "cell_type": "markdown",
   "metadata": {},
   "source": [
    "# 32. Minimum Window Substring\n",
    "#### https://www.lintcode.com/problem/minimum-window-substring/"
   ]
  },
  {
   "cell_type": "markdown",
   "metadata": {},
   "source": [
    "# Approach 1: Two Pointers"
   ]
  },
  {
   "cell_type": "code",
   "execution_count": 5,
   "metadata": {},
   "outputs": [],
   "source": [
    "import sys\n",
    "class Solution:\n",
    "    \"\"\"\n",
    "    @param source : A string\n",
    "    @param target: A string\n",
    "    @return: A string denote the minimum window, return \"\" if there is no such a string\n",
    "    \"\"\"\n",
    "    def minWindow(self, source , target):\n",
    "        # write your code here\n",
    "        counter = [0] * 128;\n",
    "        for c in target:\n",
    "            counter[ord(c) - ord(\"a\")] += 1\n",
    "        left = cnt = 0\n",
    "        min_len = sys.maxsize\n",
    "        ans = \"\"\n",
    "        for i in range(len(source)):\n",
    "            counter[ord(source[i]) - ord(\"a\")] -= 1\n",
    "            if counter[ord(source[i]) - ord(\"a\")] >= 0: cnt += 1\n",
    "            while cnt == len(target):\n",
    "                if (min_len > i - left + 1):\n",
    "                    min_len = i - left + 1\n",
    "                    ans = source[left: i + 1]\n",
    "                counter[ord(source[left]) - ord(\"a\")] += 1\n",
    "                if counter[ord(source[left]) - ord(\"a\")] > 0:\n",
    "                    cnt -= 1           \n",
    "                left += 1\n",
    "        return ans"
   ]
  },
  {
   "cell_type": "markdown",
   "metadata": {},
   "source": [
    "# Verification"
   ]
  },
  {
   "cell_type": "code",
   "execution_count": 6,
   "metadata": {},
   "outputs": [
    {
     "name": "stdout",
     "output_type": "stream",
     "text": [
      "Input:    ('ADOBECODEBANC', 'ABC')\n",
      "Output:   BANC\n",
      "Expected: BANC\n",
      "\n",
      "Input:    ('', '')\n",
      "Output:   \n",
      "Expected: \n",
      "\n"
     ]
    }
   ],
   "source": [
    "testcases = [(\"ADOBECODEBANC\",\"ABC\"),(\"\",\"\")]\n",
    "expected = [\"BANC\",\"\"]\n",
    "\n",
    "outputs = []\n",
    "sol = Solution();\n",
    "\n",
    "for case in zip(testcases, expected):\n",
    "    print(\"Input:    \" + str(case[0]))\n",
    "    print(\"Output:   \" + str(sol.minWindow(case[0][0],case[0][1])))\n",
    "    print(\"Expected: \" + str(case[1]) + \"\\n\")"
   ]
  }
 ],
 "metadata": {
  "kernelspec": {
   "display_name": "Python 3",
   "language": "python",
   "name": "python3"
  },
  "language_info": {
   "codemirror_mode": {
    "name": "ipython",
    "version": 3
   },
   "file_extension": ".py",
   "mimetype": "text/x-python",
   "name": "python",
   "nbconvert_exporter": "python",
   "pygments_lexer": "ipython3",
   "version": "3.7.3"
  }
 },
 "nbformat": 4,
 "nbformat_minor": 2
}
