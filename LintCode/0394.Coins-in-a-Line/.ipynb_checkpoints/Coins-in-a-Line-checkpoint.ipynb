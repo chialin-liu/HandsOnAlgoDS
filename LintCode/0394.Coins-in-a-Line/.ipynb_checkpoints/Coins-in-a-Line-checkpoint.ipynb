{
 "cells": [
  {
   "cell_type": "markdown",
   "metadata": {},
   "source": [
    "# 394. Coins in a Line\n",
    "#### https://www.lintcode.com/problem/coins-in-a-line/"
   ]
  },
  {
   "cell_type": "markdown",
   "metadata": {},
   "source": [
    "# Approach 1"
   ]
  },
  {
   "cell_type": "code",
   "execution_count": 1,
   "metadata": {},
   "outputs": [],
   "source": [
    "class Solution:\n",
    "    \"\"\"\n",
    "    @param n: An integer\n",
    "    @return: A boolean which equals to true if the first player will win\n",
    "    \"\"\"\n",
    "    def firstWillWin(self, n):\n",
    "        # write your code here\n",
    "        return n % 3 != 0 "
   ]
  },
  {
   "cell_type": "markdown",
   "metadata": {},
   "source": [
    "# Verification"
   ]
  },
  {
   "cell_type": "code",
   "execution_count": 2,
   "metadata": {},
   "outputs": [
    {
     "name": "stdout",
     "output_type": "stream",
     "text": [
      "Input:    1\n",
      "Output:   True\n",
      "Expected: True\n",
      "\n",
      "Input:    4\n",
      "Output:   True\n",
      "Expected: True\n",
      "\n",
      "Input:    100\n",
      "Output:   True\n",
      "Expected: True\n",
      "\n"
     ]
    }
   ],
   "source": [
    "import pandas as pd\n",
    "testcases = [1,4,100]\n",
    "expected = [True, True, True]\n",
    "\n",
    "outputs = []\n",
    "sol = Solution();\n",
    "\n",
    "for case in zip(testcases, expected):\n",
    "    print(\"Input:    \" + str(case[0]))\n",
    "    print(\"Output:   \" + str(sol.firstWillWin(case[0])))\n",
    "    print(\"Expected: \" + str(case[1]) + \"\\n\")"
   ]
  }
 ],
 "metadata": {
  "kernelspec": {
   "display_name": "Python 3",
   "language": "python",
   "name": "python3"
  },
  "language_info": {
   "codemirror_mode": {
    "name": "ipython",
    "version": 3
   },
   "file_extension": ".py",
   "mimetype": "text/x-python",
   "name": "python",
   "nbconvert_exporter": "python",
   "pygments_lexer": "ipython3",
   "version": "3.7.3"
  }
 },
 "nbformat": 4,
 "nbformat_minor": 2
}
