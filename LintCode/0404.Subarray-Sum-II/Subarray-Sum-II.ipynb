{
 "cells": [
  {
   "cell_type": "markdown",
   "metadata": {},
   "source": [
    "# 404. Subarray Sum II\n",
    "\n",
    "#### https://www.lintcode.com/problem/subarray-sum-ii"
   ]
  },
  {
   "cell_type": "markdown",
   "metadata": {},
   "source": [
    "# Approach 1: Two Pointers"
   ]
  },
  {
   "cell_type": "code",
   "execution_count": 4,
   "metadata": {},
   "outputs": [],
   "source": [
    "class Solution:\n",
    "    \"\"\"\n",
    "    @param A: An integer array\n",
    "    @param start: An integer\n",
    "    @param end: An integer\n",
    "    @return: the number of possible answer\n",
    "    \"\"\"\n",
    "    def subarraySumII(self, A, start, end):\n",
    "        # write your code here\n",
    "        s = [0] * (len(A) + 1)\n",
    "        s[0] = 0\n",
    "        for i in range(1, len(A) + 1):\n",
    "            s[i] = s[i - 1] + A[i - 1]\n",
    "            \n",
    "        l = r = res = 0\n",
    "        print(s)\n",
    "        \n",
    "        for i in range(1, len(A) + 1):\n",
    "            while (l < i and s[i] - s[l] > end):\n",
    "                l += 1\n",
    "            while (r < i and s[i] - s[r] >= start):\n",
    "                r += 1\n",
    "            res += (r - l)\n",
    "            \n",
    "        return res"
   ]
  },
  {
   "cell_type": "markdown",
   "metadata": {},
   "source": [
    "# Verification"
   ]
  },
  {
   "cell_type": "code",
   "execution_count": 5,
   "metadata": {},
   "outputs": [
    {
     "name": "stdout",
     "output_type": "stream",
     "text": [
      "Input:    ([1, 2, 3, 4], 1, 3)\n",
      "[0, 1, 3, 6, 10]\n",
      "Output:   4\n",
      "Expected: 4\n",
      "\n",
      "Input:    ([1, 2, 3, 4], 1, 100)\n",
      "[0, 1, 3, 6, 10]\n",
      "Output:   10\n",
      "Expected: 10\n",
      "\n"
     ]
    }
   ],
   "source": [
    "testcases = [([1, 2, 3, 4],1,3),([1, 2, 3, 4],1,100)]\n",
    "expected = [4,10]\n",
    "\n",
    "outputs = []\n",
    "sol = Solution();\n",
    "\n",
    "for case in zip(testcases, expected):\n",
    "    print(\"Input:    \" + str(case[0]))\n",
    "    print(\"Output:   \" + str(sol.subarraySumII(case[0][0],case[0][1],case[0][2])))\n",
    "    print(\"Expected: \" + str(case[1]) + \"\\n\")"
   ]
  }
 ],
 "metadata": {
  "kernelspec": {
   "display_name": "Python 3",
   "language": "python",
   "name": "python3"
  },
  "language_info": {
   "codemirror_mode": {
    "name": "ipython",
    "version": 3
   },
   "file_extension": ".py",
   "mimetype": "text/x-python",
   "name": "python",
   "nbconvert_exporter": "python",
   "pygments_lexer": "ipython3",
   "version": "3.7.3"
  }
 },
 "nbformat": 4,
 "nbformat_minor": 2
}
