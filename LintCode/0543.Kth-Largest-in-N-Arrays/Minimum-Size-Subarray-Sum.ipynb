{
 "cells": [
  {
   "cell_type": "markdown",
   "metadata": {},
   "source": [
    "# 543. Kth Largest in N Arrays\n",
    "#### https://www.lintcode.com/problem/kth-largest-in-n-arrays/"
   ]
  },
  {
   "cell_type": "markdown",
   "metadata": {},
   "source": [
    "# Approach 1: Heap"
   ]
  },
  {
   "cell_type": "code",
   "execution_count": 68,
   "metadata": {},
   "outputs": [],
   "source": [
    "import heapq\n",
    "class Solution:\n",
    "    \"\"\"\n",
    "    @param arrays: a list of array\n",
    "    @param k: An integer\n",
    "    @return: an integer, K-th largest element in N arrays\n",
    "    \"\"\"\n",
    "    def KthInArrays(self, arrays, k):\n",
    "        # write your code here\n",
    "        m = len(arrays)\n",
    "        for i in range(m):\n",
    "            arrays[i].sort(reverse = True)\n",
    "        arrays.sort(reverse = True)\n",
    "        n = len(arrays[m - 1])\n",
    "        maxheap = []\n",
    "        heapq.heappush(maxheap, (-arrays[0][0], 0, 0))\n",
    "        ans = 0\n",
    "        visit = set((0, 0))\n",
    "        \n",
    "        while k > 0:\n",
    "            ans, i, j = heapq.heappop(maxheap)\n",
    "            for di, dj in [(1, 0), (0, 1)]:\n",
    "                if 0 <= i + di < m and 0 <= j + dj < len(arrays[i + di]) and (i + di, j + dj) not in visit:\n",
    "                    heapq.heappush(maxheap, (-arrays[i + di][j + dj], i + di, j + dj)) \n",
    "                    visit.add((i + di, j + dj))\n",
    "            k -= 1\n",
    "     \n",
    "        return -ans"
   ]
  },
  {
   "cell_type": "markdown",
   "metadata": {},
   "source": [
    "# Verification"
   ]
  },
  {
   "cell_type": "code",
   "execution_count": 69,
   "metadata": {},
   "outputs": [
    {
     "name": "stdout",
     "output_type": "stream",
     "text": [
      "Input:    ([[9, 3, 2, 4, 7], [1, 2, 3, 4, 8]], 3)\n",
      "Output:   7\n",
      "Expected: 7\n",
      "\n",
      "Input:    ([[9, 3, 2, 4, 8], [1, 2, 3, 4, 2]], 2)\n",
      "Output:   8\n",
      "Expected: 8\n",
      "\n",
      "Input:    ([[], [], [1], [1, 2, 3, 4], [11, 10, 9, 8, 7]], 5)\n",
      "Output:   7\n",
      "Expected: 7\n",
      "\n",
      "Input:    ([[11], [1, 2, 3, 4, 112, 87], [564], [789, 12, 15]], 7)\n",
      "Output:   11\n",
      "Expected: 11\n",
      "\n",
      "Input:    ([[11, 19, 20, 17, 0, 12], [1, 3, 0, 9], [14], [18, 17, 3], [16, 10, 3, 9, 2, 13], [17, 8, 19, 6, 9, 0], [15, 7, 11, 1, 16], [8, 4, 8, 7]], 18)\n",
      "Output:   9\n",
      "Expected: 9\n",
      "\n"
     ]
    }
   ],
   "source": [
    "testcases = [([[9,3,2,4,7],[1,2,3,4,8]],3),([[9,3,2,4,8],[1,2,3,4,2]],2),([[],[],[1],[1,2,3,4],[11,10,9,8,7]],5),([[11],[1,2,3,4,112,87],[564],[789,12,15]],7),([[11,19,20,17,0,12],[1,3,0,9],[14],[18,17,3],[16,10,3,9,2,13],[17,8,19,6,9,0],[15,7,11,1,16],[8,4,8,7]],18)]\n",
    "expected = [7,8,7,11,9]\n",
    "\n",
    "outputs = []\n",
    "sol = Solution();\n",
    "\n",
    "for case in zip(testcases, expected):\n",
    "    print(\"Input:    \" + str(case[0]))\n",
    "    print(\"Output:   \" + str(sol.KthInArrays(case[0][0], case[0][1])))\n",
    "    print(\"Expected: \" + str(case[1]) + \"\\n\")"
   ]
  }
 ],
 "metadata": {
  "kernelspec": {
   "display_name": "Python 3",
   "language": "python",
   "name": "python3"
  },
  "language_info": {
   "codemirror_mode": {
    "name": "ipython",
    "version": 3
   },
   "file_extension": ".py",
   "mimetype": "text/x-python",
   "name": "python",
   "nbconvert_exporter": "python",
   "pygments_lexer": "ipython3",
   "version": "3.7.3"
  }
 },
 "nbformat": 4,
 "nbformat_minor": 2
}
