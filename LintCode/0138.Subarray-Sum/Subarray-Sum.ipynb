{
 "cells": [
  {
   "cell_type": "markdown",
   "metadata": {},
   "source": [
    "# 138. Subarray Sum\n",
    "#### https://www.lintcode.com/problem/subarray-sum"
   ]
  },
  {
   "cell_type": "markdown",
   "metadata": {},
   "source": [
    "# Approach 1: Prefix Sum and Hash Table"
   ]
  },
  {
   "cell_type": "code",
   "execution_count": 4,
   "metadata": {},
   "outputs": [],
   "source": [
    "class Solution:\n",
    "    \"\"\"\n",
    "    @param nums: A list of integers\n",
    "    @return: A list of integers includes the index of the first number and the index of the last number\n",
    "    \"\"\"\n",
    "    def subarraySum(self, nums):\n",
    "        # write your code here\n",
    "        s = [0] * (len(nums) + 1)\n",
    "        count = {}\n",
    "        count[0] = 0\n",
    "        for i in range(1, len(s)):\n",
    "            s[i] = s[i - 1] + nums[i - 1]\n",
    "            if s[i] in count:\n",
    "                return [count[s[i]], i - 1]\n",
    "            else:\n",
    "                count[s[i]] = i\n",
    "        return [-1, -1]"
   ]
  },
  {
   "cell_type": "markdown",
   "metadata": {},
   "source": [
    "# Verification"
   ]
  },
  {
   "cell_type": "code",
   "execution_count": 5,
   "metadata": {},
   "outputs": [
    {
     "name": "stdout",
     "output_type": "stream",
     "text": [
      "Input:    [-3, 1, 2, -3, 4]\n",
      "Output:   [0, 2]\n",
      "Expected: [0, 2]\n",
      "\n",
      "Input:    [-3, 1, -4, 2, -3, 4]\n",
      "Output:   [1, 5]\n",
      "Expected: [1, 5]\n",
      "\n"
     ]
    }
   ],
   "source": [
    "testcases = [[-3, 1, 2, -3, 4],[-3, 1, -4, 2, -3, 4]]\n",
    "expected = [[0,2],[1,5]]\n",
    "\n",
    "outputs = []\n",
    "sol = Solution();\n",
    "\n",
    "for case in zip(testcases, expected):\n",
    "    print(\"Input:    \" + str(case[0]))\n",
    "    print(\"Output:   \" + str(sol.subarraySum(case[0])))\n",
    "    print(\"Expected: \" + str(case[1]) + \"\\n\")"
   ]
  }
 ],
 "metadata": {
  "kernelspec": {
   "display_name": "Python 3",
   "language": "python",
   "name": "python3"
  },
  "language_info": {
   "codemirror_mode": {
    "name": "ipython",
    "version": 3
   },
   "file_extension": ".py",
   "mimetype": "text/x-python",
   "name": "python",
   "nbconvert_exporter": "python",
   "pygments_lexer": "ipython3",
   "version": "3.7.3"
  }
 },
 "nbformat": 4,
 "nbformat_minor": 2
}
