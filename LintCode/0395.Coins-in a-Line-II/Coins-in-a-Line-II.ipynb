{
 "cells": [
  {
   "cell_type": "markdown",
   "metadata": {},
   "source": [
    "# 395. Coins in a Line II\n",
    "#### https://www.lintcode.com/problem/coins-in-a-line-ii"
   ]
  },
  {
   "cell_type": "markdown",
   "metadata": {},
   "source": [
    "# Approach 1: Dynamic Programming"
   ]
  },
  {
   "cell_type": "code",
   "execution_count": 1,
   "metadata": {},
   "outputs": [],
   "source": [
    "class Solution:\n",
    "    \"\"\"\n",
    "    @param values: a vector of integers\n",
    "    @return: a boolean which equals to true if the first player will win\n",
    "    \"\"\"\n",
    "    def firstWillWin(self, values):\n",
    "        # write your code here\n",
    "        n = len(values)\n",
    "        dp = [0] * (n + 1)\n",
    "        dp[n] = 0\n",
    "        dp[n - 1] = values[n - 1]\n",
    "        for i in range(n - 2, -1, -1):\n",
    "            dp[i] = max(values[i] - dp[i + 1], values[i] + values[i + 1] - dp[i + 2])\n",
    "            \n",
    "        return dp[0] > 0"
   ]
  },
  {
   "cell_type": "markdown",
   "metadata": {},
   "source": [
    "# Verification"
   ]
  },
  {
   "cell_type": "code",
   "execution_count": 2,
   "metadata": {},
   "outputs": [
    {
     "name": "stdout",
     "output_type": "stream",
     "text": [
      "Input:    [1, 2, 2]\n",
      "Output:   True\n",
      "Expected: True\n",
      "\n",
      "Input:    [1, 2, 4]\n",
      "Output:   False\n",
      "Expected: False\n",
      "\n"
     ]
    }
   ],
   "source": [
    "import pandas as pd\n",
    "testcases = [[1, 2, 2], [1, 2, 4]]\n",
    "expected = [True, False]\n",
    "\n",
    "outputs = []\n",
    "sol = Solution();\n",
    "\n",
    "for case in zip(testcases, expected):\n",
    "    print(\"Input:    \" + str(case[0]))\n",
    "    print(\"Output:   \" + str(sol.firstWillWin(case[0])))\n",
    "    print(\"Expected: \" + str(case[1]) + \"\\n\")"
   ]
  }
 ],
 "metadata": {
  "kernelspec": {
   "display_name": "Python 3",
   "language": "python",
   "name": "python3"
  },
  "language_info": {
   "codemirror_mode": {
    "name": "ipython",
    "version": 3
   },
   "file_extension": ".py",
   "mimetype": "text/x-python",
   "name": "python",
   "nbconvert_exporter": "python",
   "pygments_lexer": "ipython3",
   "version": "3.7.3"
  }
 },
 "nbformat": 4,
 "nbformat_minor": 2
}
